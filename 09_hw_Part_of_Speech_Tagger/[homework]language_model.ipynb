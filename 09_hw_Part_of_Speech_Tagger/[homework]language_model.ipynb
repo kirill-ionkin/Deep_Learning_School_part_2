{
 "cells": [
  {
   "cell_type": "markdown",
   "metadata": {
    "id": "Ot3c4fjZwC4T"
   },
   "source": [
    "<img src=\"https://s8.hostingkartinok.com/uploads/images/2018/08/308b49fcfbc619d629fe4604bceb67ac.jpg\" width=100, height=100>\n",
    "<h3 style=\"text-align: center;\"><b>Физтех-Школа Прикладной математики и информатики (ФПМИ) МФТИ</b></h3>"
   ]
  },
  {
   "cell_type": "markdown",
   "metadata": {
    "id": "P2JdzEXmwRU5"
   },
   "source": [
    "---"
   ]
  },
  {
   "cell_type": "markdown",
   "metadata": {
    "id": "oMohh_6CwC4W"
   },
   "source": [
    "### Задача определения частей речи, Part-Of-Speech Tagger (POS)"
   ]
  },
  {
   "cell_type": "markdown",
   "metadata": {
    "id": "2Aad2tmBwC4Y"
   },
   "source": [
    "Мы будем решать задачу определения частей речи (POS-теггинга) с помощью скрытой марковской модели (HMM)."
   ]
  },
  {
   "cell_type": "code",
   "execution_count": 1,
   "metadata": {
    "executionInfo": {
     "elapsed": 455,
     "status": "ok",
     "timestamp": 1636464012218,
     "user": {
      "displayName": "Кирилл Ионкин",
      "photoUrl": "https://lh3.googleusercontent.com/a-/AOh14GjG3HOioA1HlkpNy1xqhKKlDr7YAygtL0OTgT3EtA=s64",
      "userId": "05870578380605152071"
     },
     "user_tz": -180
    },
    "id": "gYYV0mdmwC4f",
    "scrolled": false
   },
   "outputs": [],
   "source": [
    "import nltk\n",
    "import pandas as pd\n",
    "import numpy as np\n",
    "from collections import OrderedDict, deque\n",
    "from nltk.corpus import brown\n",
    "import matplotlib.pyplot as plt"
   ]
  },
  {
   "cell_type": "markdown",
   "metadata": {
    "id": "FPgI52lRwC4n"
   },
   "source": [
    "Вам в помощь http://www.nltk.org/book/"
   ]
  },
  {
   "cell_type": "markdown",
   "metadata": {
    "id": "hxdJxMEAwC4o"
   },
   "source": [
    "Загрузим brown корпус"
   ]
  },
  {
   "cell_type": "code",
   "execution_count": 2,
   "metadata": {
    "colab": {
     "base_uri": "https://localhost:8080/"
    },
    "executionInfo": {
     "elapsed": 1068,
     "status": "ok",
     "timestamp": 1636464024285,
     "user": {
      "displayName": "Кирилл Ионкин",
      "photoUrl": "https://lh3.googleusercontent.com/a-/AOh14GjG3HOioA1HlkpNy1xqhKKlDr7YAygtL0OTgT3EtA=s64",
      "userId": "05870578380605152071"
     },
     "user_tz": -180
    },
    "id": "ZvhXAL_9wC4q",
    "outputId": "0cc53d13-0917-4a27-c7de-398b022bfdb1",
    "scrolled": true
   },
   "outputs": [
    {
     "name": "stderr",
     "output_type": "stream",
     "text": [
      "[nltk_data] Downloading package brown to\n",
      "[nltk_data]     C:\\Users\\kirill_ionkin\\AppData\\Roaming\\nltk_data...\n",
      "[nltk_data]   Package brown is already up-to-date!\n"
     ]
    },
    {
     "data": {
      "text/plain": [
       "True"
      ]
     },
     "execution_count": 2,
     "metadata": {},
     "output_type": "execute_result"
    }
   ],
   "source": [
    "nltk.download('brown')"
   ]
  },
  {
   "cell_type": "markdown",
   "metadata": {
    "id": "ASm3Dpggs25b"
   },
   "source": [
    "Существует множество наборов грамматических тегов, или тегсетов, например:\n",
    "* НКРЯ\n",
    "* Mystem\n",
    "* UPenn\n",
    "* OpenCorpora (его использует pymorphy2)\n",
    "* Universal Dependencies"
   ]
  },
  {
   "cell_type": "markdown",
   "metadata": {
    "id": "wto8PSC6wC4v"
   },
   "source": [
    "<b>Существует не одна система тегирования, поэтому будьте внимательны, когда прогнозируете тег слов в тексте и вычисляете качество прогноза. Можете получить несправедливо низкое качество вашего решения."
   ]
  },
  {
   "cell_type": "markdown",
   "metadata": {
    "id": "eJ6tuHA_wC4z"
   },
   "source": [
    "На данный момент стандартом является **Universal Dependencies**. Подробнее про проект можно почитать [вот тут](http://universaldependencies.org/), а про теги — [вот тут](http://universaldependencies.org/u/pos/)"
   ]
  },
  {
   "cell_type": "code",
   "execution_count": 3,
   "metadata": {
    "colab": {
     "base_uri": "https://localhost:8080/"
    },
    "executionInfo": {
     "elapsed": 521,
     "status": "ok",
     "timestamp": 1636464144714,
     "user": {
      "displayName": "Кирилл Ионкин",
      "photoUrl": "https://lh3.googleusercontent.com/a-/AOh14GjG3HOioA1HlkpNy1xqhKKlDr7YAygtL0OTgT3EtA=s64",
      "userId": "05870578380605152071"
     },
     "user_tz": -180
    },
    "id": "Cht7dImWwC42",
    "outputId": "9dff2223-513d-472b-92c7-34a9781e929b"
   },
   "outputs": [
    {
     "name": "stderr",
     "output_type": "stream",
     "text": [
      "[nltk_data] Downloading package universal_tagset to\n",
      "[nltk_data]     C:\\Users\\kirill_ionkin\\AppData\\Roaming\\nltk_data...\n",
      "[nltk_data]   Package universal_tagset is already up-to-date!\n"
     ]
    },
    {
     "data": {
      "text/plain": [
       "True"
      ]
     },
     "execution_count": 3,
     "metadata": {},
     "output_type": "execute_result"
    }
   ],
   "source": [
    "nltk.download('universal_tagset')"
   ]
  },
  {
   "cell_type": "markdown",
   "metadata": {
    "id": "IiTimRRywC47"
   },
   "source": [
    "<img src=\"https://4.bp.blogspot.com/-IcFli2wljs0/WrVCw3umY_I/AAAAAAAACYM/UJ_neoUAs3wF95dj2Ouf3BzxXzB_b2TbQCLcBGAs/s1600/postags.png\">\n"
   ]
  },
  {
   "cell_type": "markdown",
   "metadata": {
    "id": "iyDBMcBSwC48"
   },
   "source": [
    "Мы имеем массив предложений пар (слово-тег)"
   ]
  },
  {
   "cell_type": "code",
   "execution_count": 4,
   "metadata": {
    "colab": {
     "base_uri": "https://localhost:8080/"
    },
    "executionInfo": {
     "elapsed": 705,
     "status": "ok",
     "timestamp": 1636464195639,
     "user": {
      "displayName": "Кирилл Ионкин",
      "photoUrl": "https://lh3.googleusercontent.com/a-/AOh14GjG3HOioA1HlkpNy1xqhKKlDr7YAygtL0OTgT3EtA=s64",
      "userId": "05870578380605152071"
     },
     "user_tz": -180
    },
    "id": "BobflewQwC4-",
    "outputId": "6aa3f601-d3db-40af-bb72-8bfce5bb25fd",
    "scrolled": false
   },
   "outputs": [
    {
     "data": {
      "text/plain": [
       "[[('The', 'DET'), ('Fulton', 'NOUN'), ('County', 'NOUN'), ('Grand', 'ADJ'), ('Jury', 'NOUN'), ('said', 'VERB'), ('Friday', 'NOUN'), ('an', 'DET'), ('investigation', 'NOUN'), ('of', 'ADP'), (\"Atlanta's\", 'NOUN'), ('recent', 'ADJ'), ('primary', 'NOUN'), ('election', 'NOUN'), ('produced', 'VERB'), ('``', '.'), ('no', 'DET'), ('evidence', 'NOUN'), (\"''\", '.'), ('that', 'ADP'), ('any', 'DET'), ('irregularities', 'NOUN'), ('took', 'VERB'), ('place', 'NOUN'), ('.', '.')], [('The', 'DET'), ('jury', 'NOUN'), ('further', 'ADV'), ('said', 'VERB'), ('in', 'ADP'), ('term-end', 'NOUN'), ('presentments', 'NOUN'), ('that', 'ADP'), ('the', 'DET'), ('City', 'NOUN'), ('Executive', 'ADJ'), ('Committee', 'NOUN'), (',', '.'), ('which', 'DET'), ('had', 'VERB'), ('over-all', 'ADJ'), ('charge', 'NOUN'), ('of', 'ADP'), ('the', 'DET'), ('election', 'NOUN'), (',', '.'), ('``', '.'), ('deserves', 'VERB'), ('the', 'DET'), ('praise', 'NOUN'), ('and', 'CONJ'), ('thanks', 'NOUN'), ('of', 'ADP'), ('the', 'DET'), ('City', 'NOUN'), ('of', 'ADP'), ('Atlanta', 'NOUN'), (\"''\", '.'), ('for', 'ADP'), ('the', 'DET'), ('manner', 'NOUN'), ('in', 'ADP'), ('which', 'DET'), ('the', 'DET'), ('election', 'NOUN'), ('was', 'VERB'), ('conducted', 'VERB'), ('.', '.')], ...]"
      ]
     },
     "execution_count": 4,
     "metadata": {},
     "output_type": "execute_result"
    }
   ],
   "source": [
    "brown_tagged_sents = brown.tagged_sents(tagset=\"universal\")\n",
    "brown_tagged_sents"
   ]
  },
  {
   "cell_type": "markdown",
   "metadata": {
    "id": "jSu1KqRrwC5L"
   },
   "source": [
    "Первое предложение"
   ]
  },
  {
   "cell_type": "code",
   "execution_count": 5,
   "metadata": {
    "colab": {
     "base_uri": "https://localhost:8080/"
    },
    "executionInfo": {
     "elapsed": 1492,
     "status": "ok",
     "timestamp": 1636464366456,
     "user": {
      "displayName": "Кирилл Ионкин",
      "photoUrl": "https://lh3.googleusercontent.com/a-/AOh14GjG3HOioA1HlkpNy1xqhKKlDr7YAygtL0OTgT3EtA=s64",
      "userId": "05870578380605152071"
     },
     "user_tz": -180
    },
    "id": "zCHCZPlkwC5N",
    "outputId": "a453f2a3-55cc-4353-d874-8d729b9da36c"
   },
   "outputs": [
    {
     "data": {
      "text/plain": [
       "[('The', 'DET'),\n",
       " ('Fulton', 'NOUN'),\n",
       " ('County', 'NOUN'),\n",
       " ('Grand', 'ADJ'),\n",
       " ('Jury', 'NOUN'),\n",
       " ('said', 'VERB'),\n",
       " ('Friday', 'NOUN'),\n",
       " ('an', 'DET'),\n",
       " ('investigation', 'NOUN'),\n",
       " ('of', 'ADP'),\n",
       " (\"Atlanta's\", 'NOUN'),\n",
       " ('recent', 'ADJ'),\n",
       " ('primary', 'NOUN'),\n",
       " ('election', 'NOUN'),\n",
       " ('produced', 'VERB'),\n",
       " ('``', '.'),\n",
       " ('no', 'DET'),\n",
       " ('evidence', 'NOUN'),\n",
       " (\"''\", '.'),\n",
       " ('that', 'ADP'),\n",
       " ('any', 'DET'),\n",
       " ('irregularities', 'NOUN'),\n",
       " ('took', 'VERB'),\n",
       " ('place', 'NOUN'),\n",
       " ('.', '.')]"
      ]
     },
     "execution_count": 5,
     "metadata": {},
     "output_type": "execute_result"
    }
   ],
   "source": [
    "brown_tagged_sents[0]"
   ]
  },
  {
   "cell_type": "markdown",
   "metadata": {
    "id": "SIV2MiRxwC5Q"
   },
   "source": [
    "Все пары (слово-тег)"
   ]
  },
  {
   "cell_type": "code",
   "execution_count": 6,
   "metadata": {
    "colab": {
     "base_uri": "https://localhost:8080/"
    },
    "executionInfo": {
     "elapsed": 1211,
     "status": "ok",
     "timestamp": 1636464388899,
     "user": {
      "displayName": "Кирилл Ионкин",
      "photoUrl": "https://lh3.googleusercontent.com/a-/AOh14GjG3HOioA1HlkpNy1xqhKKlDr7YAygtL0OTgT3EtA=s64",
      "userId": "05870578380605152071"
     },
     "user_tz": -180
    },
    "id": "dVx9e9HcwC5R",
    "outputId": "c8f3cfe9-52e9-4c9e-a943-30afd24ac269"
   },
   "outputs": [
    {
     "data": {
      "text/plain": [
       "[('The', 'DET'), ('Fulton', 'NOUN'), ...]"
      ]
     },
     "execution_count": 6,
     "metadata": {},
     "output_type": "execute_result"
    }
   ],
   "source": [
    "brown_tagged_words = brown.tagged_words(tagset='universal')\n",
    "brown_tagged_words"
   ]
  },
  {
   "cell_type": "markdown",
   "metadata": {
    "id": "y-ADby6LwC5V"
   },
   "source": [
    "Проанализируйте данные, с которыми Вы работаете. Используйте `nltk.FreqDist()` для подсчета частоты встречаемости тега и слова в нашем корпусе. Под частой элемента подразумевается кол-во этого элемента в корпусе."
   ]
  },
  {
   "cell_type": "code",
   "execution_count": 7,
   "metadata": {
    "executionInfo": {
     "elapsed": 4341,
     "status": "ok",
     "timestamp": 1636464485515,
     "user": {
      "displayName": "Кирилл Ионкин",
      "photoUrl": "https://lh3.googleusercontent.com/a-/AOh14GjG3HOioA1HlkpNy1xqhKKlDr7YAygtL0OTgT3EtA=s64",
      "userId": "05870578380605152071"
     },
     "user_tz": -180
    },
    "id": "JzRoXuKFcMZK",
    "scrolled": false
   },
   "outputs": [],
   "source": [
    "# Приведем слова к нижнему регистру\n",
    "brown_tagged_words = list(map(lambda x: (x[0].lower(), x[1]), brown_tagged_words))"
   ]
  },
  {
   "cell_type": "code",
   "execution_count": 8,
   "metadata": {
    "colab": {
     "base_uri": "https://localhost:8080/"
    },
    "executionInfo": {
     "elapsed": 841,
     "status": "ok",
     "timestamp": 1636464998497,
     "user": {
      "displayName": "Кирилл Ионкин",
      "photoUrl": "https://lh3.googleusercontent.com/a-/AOh14GjG3HOioA1HlkpNy1xqhKKlDr7YAygtL0OTgT3EtA=s64",
      "userId": "05870578380605152071"
     },
     "user_tz": -180
    },
    "id": "eV09x1305I2w",
    "outputId": "98a061a4-aa0c-42ff-b3a7-1496d593a0da",
    "scrolled": true
   },
   "outputs": [
    {
     "data": {
      "text/plain": [
       "[('the', 'DET'),\n",
       " ('fulton', 'NOUN'),\n",
       " ('county', 'NOUN'),\n",
       " ('grand', 'ADJ'),\n",
       " ('jury', 'NOUN'),\n",
       " ('said', 'VERB'),\n",
       " ('friday', 'NOUN'),\n",
       " ('an', 'DET'),\n",
       " ('investigation', 'NOUN'),\n",
       " ('of', 'ADP'),\n",
       " (\"atlanta's\", 'NOUN'),\n",
       " ('recent', 'ADJ'),\n",
       " ('primary', 'NOUN'),\n",
       " ('election', 'NOUN'),\n",
       " ('produced', 'VERB'),\n",
       " ('``', '.'),\n",
       " ('no', 'DET'),\n",
       " ('evidence', 'NOUN'),\n",
       " (\"''\", '.'),\n",
       " ('that', 'ADP'),\n",
       " ('any', 'DET'),\n",
       " ('irregularities', 'NOUN'),\n",
       " ('took', 'VERB'),\n",
       " ('place', 'NOUN'),\n",
       " ('.', '.'),\n",
       " ('the', 'DET'),\n",
       " ('jury', 'NOUN'),\n",
       " ('further', 'ADV'),\n",
       " ('said', 'VERB'),\n",
       " ('in', 'ADP'),\n",
       " ('term-end', 'NOUN'),\n",
       " ('presentments', 'NOUN'),\n",
       " ('that', 'ADP'),\n",
       " ('the', 'DET'),\n",
       " ('city', 'NOUN'),\n",
       " ('executive', 'ADJ'),\n",
       " ('committee', 'NOUN'),\n",
       " (',', '.'),\n",
       " ('which', 'DET'),\n",
       " ('had', 'VERB'),\n",
       " ('over-all', 'ADJ'),\n",
       " ('charge', 'NOUN'),\n",
       " ('of', 'ADP'),\n",
       " ('the', 'DET'),\n",
       " ('election', 'NOUN'),\n",
       " (',', '.'),\n",
       " ('``', '.'),\n",
       " ('deserves', 'VERB'),\n",
       " ('the', 'DET'),\n",
       " ('praise', 'NOUN'),\n",
       " ('and', 'CONJ'),\n",
       " ('thanks', 'NOUN'),\n",
       " ('of', 'ADP'),\n",
       " ('the', 'DET'),\n",
       " ('city', 'NOUN'),\n",
       " ('of', 'ADP'),\n",
       " ('atlanta', 'NOUN'),\n",
       " (\"''\", '.'),\n",
       " ('for', 'ADP'),\n",
       " ('the', 'DET'),\n",
       " ('manner', 'NOUN'),\n",
       " ('in', 'ADP'),\n",
       " ('which', 'DET'),\n",
       " ('the', 'DET'),\n",
       " ('election', 'NOUN'),\n",
       " ('was', 'VERB'),\n",
       " ('conducted', 'VERB'),\n",
       " ('.', '.'),\n",
       " ('the', 'DET'),\n",
       " ('september-october', 'NOUN'),\n",
       " ('term', 'NOUN'),\n",
       " ('jury', 'NOUN'),\n",
       " ('had', 'VERB'),\n",
       " ('been', 'VERB'),\n",
       " ('charged', 'VERB'),\n",
       " ('by', 'ADP'),\n",
       " ('fulton', 'NOUN'),\n",
       " ('superior', 'ADJ'),\n",
       " ('court', 'NOUN'),\n",
       " ('judge', 'NOUN'),\n",
       " ('durwood', 'NOUN'),\n",
       " ('pye', 'NOUN'),\n",
       " ('to', 'PRT'),\n",
       " ('investigate', 'VERB'),\n",
       " ('reports', 'NOUN'),\n",
       " ('of', 'ADP'),\n",
       " ('possible', 'ADJ'),\n",
       " ('``', '.'),\n",
       " ('irregularities', 'NOUN'),\n",
       " (\"''\", '.'),\n",
       " ('in', 'ADP'),\n",
       " ('the', 'DET'),\n",
       " ('hard-fought', 'ADJ'),\n",
       " ('primary', 'NOUN'),\n",
       " ('which', 'DET'),\n",
       " ('was', 'VERB'),\n",
       " ('won', 'VERB'),\n",
       " ('by', 'ADP'),\n",
       " ('mayor-nominate', 'NOUN'),\n",
       " ('ivan', 'NOUN'),\n",
       " ('allen', 'NOUN'),\n",
       " ('jr.', 'NOUN'),\n",
       " ('.', '.'),\n",
       " ('``', '.'),\n",
       " ('only', 'ADV'),\n",
       " ('a', 'DET'),\n",
       " ('relative', 'ADJ'),\n",
       " ('handful', 'NOUN'),\n",
       " ('of', 'ADP'),\n",
       " ('such', 'ADJ'),\n",
       " ('reports', 'NOUN'),\n",
       " ('was', 'VERB'),\n",
       " ('received', 'VERB'),\n",
       " (\"''\", '.'),\n",
       " (',', '.'),\n",
       " ('the', 'DET'),\n",
       " ('jury', 'NOUN'),\n",
       " ('said', 'VERB'),\n",
       " (',', '.'),\n",
       " ('``', '.'),\n",
       " ('considering', 'ADP'),\n",
       " ('the', 'DET'),\n",
       " ('widespread', 'ADJ'),\n",
       " ('interest', 'NOUN'),\n",
       " ('in', 'ADP'),\n",
       " ('the', 'DET'),\n",
       " ('election', 'NOUN'),\n",
       " (',', '.'),\n",
       " ('the', 'DET'),\n",
       " ('number', 'NOUN'),\n",
       " ('of', 'ADP'),\n",
       " ('voters', 'NOUN'),\n",
       " ('and', 'CONJ'),\n",
       " ('the', 'DET'),\n",
       " ('size', 'NOUN'),\n",
       " ('of', 'ADP'),\n",
       " ('this', 'DET'),\n",
       " ('city', 'NOUN'),\n",
       " (\"''\", '.'),\n",
       " ('.', '.'),\n",
       " ('the', 'DET'),\n",
       " ('jury', 'NOUN'),\n",
       " ('said', 'VERB'),\n",
       " ('it', 'PRON'),\n",
       " ('did', 'VERB'),\n",
       " ('find', 'VERB'),\n",
       " ('that', 'ADP'),\n",
       " ('many', 'ADJ'),\n",
       " ('of', 'ADP'),\n",
       " (\"georgia's\", 'NOUN'),\n",
       " ('registration', 'NOUN'),\n",
       " ('and', 'CONJ'),\n",
       " ('election', 'NOUN'),\n",
       " ('laws', 'NOUN'),\n",
       " ('``', '.'),\n",
       " ('are', 'VERB'),\n",
       " ('outmoded', 'ADJ'),\n",
       " ('or', 'CONJ'),\n",
       " ('inadequate', 'ADJ'),\n",
       " ('and', 'CONJ'),\n",
       " ('often', 'ADV'),\n",
       " ('ambiguous', 'ADJ'),\n",
       " (\"''\", '.'),\n",
       " ('.', '.'),\n",
       " ('it', 'PRON'),\n",
       " ('recommended', 'VERB'),\n",
       " ('that', 'ADP'),\n",
       " ('fulton', 'NOUN'),\n",
       " ('legislators', 'NOUN'),\n",
       " ('act', 'VERB'),\n",
       " ('``', '.'),\n",
       " ('to', 'PRT'),\n",
       " ('have', 'VERB'),\n",
       " ('these', 'DET'),\n",
       " ('laws', 'NOUN'),\n",
       " ('studied', 'VERB'),\n",
       " ('and', 'CONJ'),\n",
       " ('revised', 'VERB'),\n",
       " ('to', 'ADP'),\n",
       " ('the', 'DET'),\n",
       " ('end', 'NOUN'),\n",
       " ('of', 'ADP'),\n",
       " ('modernizing', 'VERB'),\n",
       " ('and', 'CONJ'),\n",
       " ('improving', 'VERB'),\n",
       " ('them', 'PRON'),\n",
       " (\"''\", '.'),\n",
       " ('.', '.'),\n",
       " ('the', 'DET'),\n",
       " ('grand', 'ADJ'),\n",
       " ('jury', 'NOUN'),\n",
       " ('commented', 'VERB'),\n",
       " ('on', 'ADP'),\n",
       " ('a', 'DET'),\n",
       " ('number', 'NOUN'),\n",
       " ('of', 'ADP'),\n",
       " ('other', 'ADJ'),\n",
       " ('topics', 'NOUN'),\n",
       " (',', '.'),\n",
       " ('among', 'ADP'),\n",
       " ('them', 'PRON'),\n",
       " ('the', 'DET'),\n",
       " ('atlanta', 'NOUN'),\n",
       " ('and', 'CONJ'),\n",
       " ('fulton', 'NOUN'),\n",
       " ('county', 'NOUN'),\n",
       " ('purchasing', 'VERB'),\n",
       " ('departments', 'NOUN'),\n",
       " ('which', 'DET'),\n",
       " ('it', 'PRON'),\n",
       " ('said', 'VERB'),\n",
       " ('``', '.'),\n",
       " ('are', 'VERB'),\n",
       " ('well', 'ADV'),\n",
       " ('operated', 'VERB'),\n",
       " ('and', 'CONJ'),\n",
       " ('follow', 'VERB'),\n",
       " ('generally', 'ADV'),\n",
       " ('accepted', 'VERB'),\n",
       " ('practices', 'NOUN'),\n",
       " ('which', 'DET'),\n",
       " ('inure', 'VERB'),\n",
       " ('to', 'ADP'),\n",
       " ('the', 'DET'),\n",
       " ('best', 'ADJ'),\n",
       " ('interest', 'NOUN'),\n",
       " ('of', 'ADP'),\n",
       " ('both', 'DET'),\n",
       " ('governments', 'NOUN'),\n",
       " (\"''\", '.'),\n",
       " ('.', '.'),\n",
       " ('merger', 'NOUN'),\n",
       " ('proposed', 'VERB'),\n",
       " ('however', 'ADV'),\n",
       " (',', '.'),\n",
       " ('the', 'DET'),\n",
       " ('jury', 'NOUN'),\n",
       " ('said', 'VERB'),\n",
       " ('it', 'PRON'),\n",
       " ('believes', 'VERB'),\n",
       " ('``', '.'),\n",
       " ('these', 'DET'),\n",
       " ('two', 'NUM'),\n",
       " ('offices', 'NOUN'),\n",
       " ('should', 'VERB'),\n",
       " ('be', 'VERB'),\n",
       " ('combined', 'VERB'),\n",
       " ('to', 'PRT'),\n",
       " ('achieve', 'VERB'),\n",
       " ('greater', 'ADJ'),\n",
       " ('efficiency', 'NOUN'),\n",
       " ('and', 'CONJ'),\n",
       " ('reduce', 'VERB'),\n",
       " ('the', 'DET'),\n",
       " ('cost', 'NOUN'),\n",
       " ('of', 'ADP'),\n",
       " ('administration', 'NOUN'),\n",
       " (\"''\", '.'),\n",
       " ('.', '.'),\n",
       " ('the', 'DET'),\n",
       " ('city', 'NOUN'),\n",
       " ('purchasing', 'VERB'),\n",
       " ('department', 'NOUN'),\n",
       " (',', '.'),\n",
       " ('the', 'DET'),\n",
       " ('jury', 'NOUN'),\n",
       " ('said', 'VERB'),\n",
       " (',', '.'),\n",
       " ('``', '.'),\n",
       " ('is', 'VERB'),\n",
       " ('lacking', 'VERB'),\n",
       " ('in', 'ADP'),\n",
       " ('experienced', 'VERB'),\n",
       " ('clerical', 'ADJ'),\n",
       " ('personnel', 'NOUN'),\n",
       " ('as', 'ADP'),\n",
       " ('a', 'DET'),\n",
       " ('result', 'NOUN'),\n",
       " ('of', 'ADP'),\n",
       " ('city', 'NOUN'),\n",
       " ('personnel', 'NOUN'),\n",
       " ('policies', 'NOUN'),\n",
       " (\"''\", '.'),\n",
       " ('.', '.'),\n",
       " ('it', 'PRON'),\n",
       " ('urged', 'VERB'),\n",
       " ('that', 'ADP'),\n",
       " ('the', 'DET'),\n",
       " ('city', 'NOUN'),\n",
       " ('``', '.'),\n",
       " ('take', 'VERB'),\n",
       " ('steps', 'NOUN'),\n",
       " ('to', 'PRT'),\n",
       " ('remedy', 'VERB'),\n",
       " (\"''\", '.'),\n",
       " ('this', 'DET'),\n",
       " ('problem', 'NOUN'),\n",
       " ('.', '.'),\n",
       " ('implementation', 'NOUN'),\n",
       " ('of', 'ADP'),\n",
       " (\"georgia's\", 'NOUN'),\n",
       " ('automobile', 'NOUN'),\n",
       " ('title', 'NOUN'),\n",
       " ('law', 'NOUN'),\n",
       " ('was', 'VERB'),\n",
       " ('also', 'ADV'),\n",
       " ('recommended', 'VERB'),\n",
       " ('by', 'ADP'),\n",
       " ('the', 'DET'),\n",
       " ('outgoing', 'ADJ'),\n",
       " ('jury', 'NOUN'),\n",
       " ('.', '.'),\n",
       " ('it', 'PRON'),\n",
       " ('urged', 'VERB'),\n",
       " ('that', 'ADP'),\n",
       " ('the', 'DET'),\n",
       " ('next', 'ADJ'),\n",
       " ('legislature', 'NOUN'),\n",
       " ('``', '.'),\n",
       " ('provide', 'VERB'),\n",
       " ('enabling', 'VERB'),\n",
       " ('funds', 'NOUN'),\n",
       " ('and', 'CONJ'),\n",
       " ('re-set', 'VERB'),\n",
       " ('the', 'DET'),\n",
       " ('effective', 'ADJ'),\n",
       " ('date', 'NOUN'),\n",
       " ('so', 'ADP'),\n",
       " ('that', 'ADP'),\n",
       " ('an', 'DET'),\n",
       " ('orderly', 'ADJ'),\n",
       " ('implementation', 'NOUN'),\n",
       " ('of', 'ADP'),\n",
       " ('the', 'DET'),\n",
       " ('law', 'NOUN'),\n",
       " ('may', 'VERB'),\n",
       " ('be', 'VERB'),\n",
       " ('effected', 'VERB'),\n",
       " (\"''\", '.'),\n",
       " ('.', '.'),\n",
       " ('the', 'DET'),\n",
       " ('grand', 'ADJ'),\n",
       " ('jury', 'NOUN'),\n",
       " ('took', 'VERB'),\n",
       " ('a', 'DET'),\n",
       " ('swipe', 'NOUN'),\n",
       " ('at', 'ADP'),\n",
       " ('the', 'DET'),\n",
       " ('state', 'NOUN'),\n",
       " ('welfare', 'NOUN'),\n",
       " (\"department's\", 'NOUN'),\n",
       " ('handling', 'NOUN'),\n",
       " ('of', 'ADP'),\n",
       " ('federal', 'ADJ'),\n",
       " ('funds', 'NOUN'),\n",
       " ('granted', 'VERB'),\n",
       " ('for', 'ADP'),\n",
       " ('child', 'NOUN'),\n",
       " ('welfare', 'NOUN'),\n",
       " ('services', 'NOUN'),\n",
       " ('in', 'ADP'),\n",
       " ('foster', 'ADJ'),\n",
       " ('homes', 'NOUN'),\n",
       " ('.', '.'),\n",
       " ('``', '.'),\n",
       " ('this', 'DET'),\n",
       " ('is', 'VERB'),\n",
       " ('one', 'NUM'),\n",
       " ('of', 'ADP'),\n",
       " ('the', 'DET'),\n",
       " ('major', 'ADJ'),\n",
       " ('items', 'NOUN'),\n",
       " ('in', 'ADP'),\n",
       " ('the', 'DET'),\n",
       " ('fulton', 'NOUN'),\n",
       " ('county', 'NOUN'),\n",
       " ('general', 'ADJ'),\n",
       " ('assistance', 'NOUN'),\n",
       " ('program', 'NOUN'),\n",
       " (\"''\", '.'),\n",
       " (',', '.'),\n",
       " ('the', 'DET'),\n",
       " ('jury', 'NOUN'),\n",
       " ('said', 'VERB'),\n",
       " (',', '.'),\n",
       " ('but', 'CONJ'),\n",
       " ('the', 'DET'),\n",
       " ('state', 'NOUN'),\n",
       " ('welfare', 'NOUN'),\n",
       " ('department', 'NOUN'),\n",
       " ('``', '.'),\n",
       " ('has', 'VERB'),\n",
       " ('seen', 'VERB'),\n",
       " ('fit', 'ADJ'),\n",
       " ('to', 'PRT'),\n",
       " ('distribute', 'VERB'),\n",
       " ('these', 'DET'),\n",
       " ('funds', 'NOUN'),\n",
       " ('through', 'ADP'),\n",
       " ('the', 'DET'),\n",
       " ('welfare', 'NOUN'),\n",
       " ('departments', 'NOUN'),\n",
       " ('of', 'ADP'),\n",
       " ('all', 'PRT'),\n",
       " ('the', 'DET'),\n",
       " ('counties', 'NOUN'),\n",
       " ('in', 'ADP'),\n",
       " ('the', 'DET'),\n",
       " ('state', 'NOUN'),\n",
       " ('with', 'ADP'),\n",
       " ('the', 'DET'),\n",
       " ('exception', 'NOUN'),\n",
       " ('of', 'ADP'),\n",
       " ('fulton', 'NOUN'),\n",
       " ('county', 'NOUN'),\n",
       " (',', '.'),\n",
       " ('which', 'DET'),\n",
       " ('receives', 'VERB'),\n",
       " ('none', 'NOUN'),\n",
       " ('of', 'ADP'),\n",
       " ('this', 'DET'),\n",
       " ('money', 'NOUN'),\n",
       " ('.', '.'),\n",
       " ('the', 'DET'),\n",
       " ('jurors', 'NOUN'),\n",
       " ('said', 'VERB'),\n",
       " ('they', 'PRON'),\n",
       " ('realize', 'VERB'),\n",
       " ('``', '.'),\n",
       " ('a', 'DET'),\n",
       " ('proportionate', 'ADJ'),\n",
       " ('distribution', 'NOUN'),\n",
       " ('of', 'ADP'),\n",
       " ('these', 'DET'),\n",
       " ('funds', 'NOUN'),\n",
       " ('might', 'VERB'),\n",
       " ('disable', 'VERB'),\n",
       " ('this', 'DET'),\n",
       " ('program', 'NOUN'),\n",
       " ('in', 'ADP'),\n",
       " ('our', 'DET'),\n",
       " ('less', 'ADV'),\n",
       " ('populous', 'ADJ'),\n",
       " ('counties', 'NOUN'),\n",
       " (\"''\", '.'),\n",
       " ('.', '.'),\n",
       " ('nevertheless', 'ADV'),\n",
       " (',', '.'),\n",
       " ('``', '.'),\n",
       " ('we', 'PRON'),\n",
       " ('feel', 'VERB'),\n",
       " ('that', 'ADP'),\n",
       " ('in', 'ADP'),\n",
       " ('the', 'DET'),\n",
       " ('future', 'NOUN'),\n",
       " ('fulton', 'NOUN'),\n",
       " ('county', 'NOUN'),\n",
       " ('should', 'VERB'),\n",
       " ('receive', 'VERB'),\n",
       " ('some', 'DET'),\n",
       " ('portion', 'NOUN'),\n",
       " ('of', 'ADP'),\n",
       " ('these', 'DET'),\n",
       " ('available', 'ADJ'),\n",
       " ('funds', 'NOUN'),\n",
       " (\"''\", '.'),\n",
       " (',', '.'),\n",
       " ('the', 'DET'),\n",
       " ('jurors', 'NOUN'),\n",
       " ('said', 'VERB'),\n",
       " ('.', '.'),\n",
       " ('``', '.'),\n",
       " ('failure', 'NOUN'),\n",
       " ('to', 'PRT'),\n",
       " ('do', 'VERB'),\n",
       " ('this', 'DET'),\n",
       " ('will', 'VERB'),\n",
       " ('continue', 'VERB'),\n",
       " ('to', 'PRT'),\n",
       " ('place', 'VERB'),\n",
       " ('a', 'DET'),\n",
       " ('disproportionate', 'ADJ'),\n",
       " ('burden', 'NOUN'),\n",
       " (\"''\", '.'),\n",
       " ('on', 'ADP'),\n",
       " ('fulton', 'NOUN'),\n",
       " ('taxpayers', 'NOUN'),\n",
       " ('.', '.'),\n",
       " ('the', 'DET'),\n",
       " ('jury', 'NOUN'),\n",
       " ('also', 'ADV'),\n",
       " ('commented', 'VERB'),\n",
       " ('on', 'ADP'),\n",
       " ('the', 'DET'),\n",
       " ('fulton', 'NOUN'),\n",
       " (\"ordinary's\", 'NOUN'),\n",
       " ('court', 'NOUN'),\n",
       " ('which', 'DET'),\n",
       " ('has', 'VERB'),\n",
       " ('been', 'VERB'),\n",
       " ('under', 'ADP'),\n",
       " ('fire', 'NOUN'),\n",
       " ('for', 'ADP'),\n",
       " ('its', 'DET'),\n",
       " ('practices', 'NOUN'),\n",
       " ('in', 'ADP'),\n",
       " ('the', 'DET'),\n",
       " ('appointment', 'NOUN'),\n",
       " ('of', 'ADP'),\n",
       " ('appraisers', 'NOUN'),\n",
       " (',', '.'),\n",
       " ('guardians', 'NOUN'),\n",
       " ('and', 'CONJ'),\n",
       " ('administrators', 'NOUN'),\n",
       " ('and', 'CONJ'),\n",
       " ('the', 'DET'),\n",
       " ('awarding', 'NOUN'),\n",
       " ('of', 'ADP'),\n",
       " ('fees', 'NOUN'),\n",
       " ('and', 'CONJ'),\n",
       " ('compensation', 'NOUN'),\n",
       " ('.', '.'),\n",
       " ('wards', 'NOUN'),\n",
       " ('protected', 'VERB'),\n",
       " ('the', 'DET'),\n",
       " ('jury', 'NOUN'),\n",
       " ('said', 'VERB'),\n",
       " ('it', 'PRON'),\n",
       " ('found', 'VERB'),\n",
       " ('the', 'DET'),\n",
       " ('court', 'NOUN'),\n",
       " ('``', '.'),\n",
       " ('has', 'VERB'),\n",
       " ('incorporated', 'VERB'),\n",
       " ('into', 'ADP'),\n",
       " ('its', 'DET'),\n",
       " ('operating', 'VERB'),\n",
       " ('procedures', 'NOUN'),\n",
       " ('the', 'DET'),\n",
       " ('recommendations', 'NOUN'),\n",
       " (\"''\", '.'),\n",
       " ('of', 'ADP'),\n",
       " ('two', 'NUM'),\n",
       " ('previous', 'ADJ'),\n",
       " ('grand', 'ADJ'),\n",
       " ('juries', 'NOUN'),\n",
       " (',', '.'),\n",
       " ('the', 'DET'),\n",
       " ('atlanta', 'NOUN'),\n",
       " ('bar', 'NOUN'),\n",
       " ('association', 'NOUN'),\n",
       " ('and', 'CONJ'),\n",
       " ('an', 'DET'),\n",
       " ('interim', 'NOUN'),\n",
       " ('citizens', 'NOUN'),\n",
       " ('committee', 'NOUN'),\n",
       " ('.', '.'),\n",
       " ('``', '.'),\n",
       " ('these', 'DET'),\n",
       " ('actions', 'NOUN'),\n",
       " ('should', 'VERB'),\n",
       " ('serve', 'VERB'),\n",
       " ('to', 'PRT'),\n",
       " ('protect', 'VERB'),\n",
       " ('in', 'ADP'),\n",
       " ('fact', 'NOUN'),\n",
       " ('and', 'CONJ'),\n",
       " ('in', 'ADP'),\n",
       " ('effect', 'NOUN'),\n",
       " ('the', 'DET'),\n",
       " (\"court's\", 'NOUN'),\n",
       " ('wards', 'NOUN'),\n",
       " ('from', 'ADP'),\n",
       " ('undue', 'ADJ'),\n",
       " ('costs', 'NOUN'),\n",
       " ('and', 'CONJ'),\n",
       " ('its', 'DET'),\n",
       " ('appointed', 'VERB'),\n",
       " ('and', 'CONJ'),\n",
       " ('elected', 'VERB'),\n",
       " ('servants', 'NOUN'),\n",
       " ('from', 'ADP'),\n",
       " ('unmeritorious', 'ADJ'),\n",
       " ('criticisms', 'NOUN'),\n",
       " (\"''\", '.'),\n",
       " (',', '.'),\n",
       " ('the', 'DET'),\n",
       " ('jury', 'NOUN'),\n",
       " ('said', 'VERB'),\n",
       " ('.', '.'),\n",
       " ('regarding', 'ADP'),\n",
       " (\"atlanta's\", 'NOUN'),\n",
       " ('new', 'ADJ'),\n",
       " ('multi-million-dollar', 'ADJ'),\n",
       " ('airport', 'NOUN'),\n",
       " (',', '.'),\n",
       " ('the', 'DET'),\n",
       " ('jury', 'NOUN'),\n",
       " ('recommended', 'VERB'),\n",
       " ('``', '.'),\n",
       " ('that', 'ADP'),\n",
       " ('when', 'ADV'),\n",
       " ('the', 'DET'),\n",
       " ('new', 'ADJ'),\n",
       " ('management', 'NOUN'),\n",
       " ('takes', 'VERB'),\n",
       " ('charge', 'NOUN'),\n",
       " ('jan.', 'NOUN'),\n",
       " ('1', 'NUM'),\n",
       " ('the', 'DET'),\n",
       " ('airport', 'NOUN'),\n",
       " ('be', 'VERB'),\n",
       " ('operated', 'VERB'),\n",
       " ('in', 'ADP'),\n",
       " ('a', 'DET'),\n",
       " ('manner', 'NOUN'),\n",
       " ('that', 'PRON'),\n",
       " ('will', 'VERB'),\n",
       " ('eliminate', 'VERB'),\n",
       " ('political', 'ADJ'),\n",
       " ('influences', 'NOUN'),\n",
       " (\"''\", '.'),\n",
       " ('.', '.'),\n",
       " ('the', 'DET'),\n",
       " ('jury', 'NOUN'),\n",
       " ('did', 'VERB'),\n",
       " ('not', 'ADV'),\n",
       " ('elaborate', 'VERB'),\n",
       " (',', '.'),\n",
       " ('but', 'CONJ'),\n",
       " ('it', 'PRON'),\n",
       " ('added', 'VERB'),\n",
       " ('that', 'ADP'),\n",
       " ('``', '.'),\n",
       " ('there', 'PRT'),\n",
       " ('should', 'VERB'),\n",
       " ('be', 'VERB'),\n",
       " ('periodic', 'ADJ'),\n",
       " ('surveillance', 'NOUN'),\n",
       " ('of', 'ADP'),\n",
       " ('the', 'DET'),\n",
       " ('pricing', 'VERB'),\n",
       " ('practices', 'NOUN'),\n",
       " ('of', 'ADP'),\n",
       " ('the', 'DET'),\n",
       " ('concessionaires', 'NOUN'),\n",
       " ('for', 'ADP'),\n",
       " ('the', 'DET'),\n",
       " ('purpose', 'NOUN'),\n",
       " ('of', 'ADP'),\n",
       " ('keeping', 'VERB'),\n",
       " ('the', 'DET'),\n",
       " ('prices', 'NOUN'),\n",
       " ('reasonable', 'ADJ'),\n",
       " (\"''\", '.'),\n",
       " ('.', '.'),\n",
       " ('ask', 'VERB'),\n",
       " ('jail', 'NOUN'),\n",
       " ('deputies', 'NOUN'),\n",
       " ('on', 'ADP'),\n",
       " ('other', 'ADJ'),\n",
       " ('matters', 'NOUN'),\n",
       " (',', '.'),\n",
       " ('the', 'DET'),\n",
       " ('jury', 'NOUN'),\n",
       " ('recommended', 'VERB'),\n",
       " ('that', 'ADP'),\n",
       " (':', '.'),\n",
       " ('(', '.'),\n",
       " ('1', 'NUM'),\n",
       " (')', '.'),\n",
       " ('four', 'NUM'),\n",
       " ('additional', 'ADJ'),\n",
       " ('deputies', 'NOUN'),\n",
       " ('be', 'VERB'),\n",
       " ('employed', 'VERB'),\n",
       " ('at', 'ADP'),\n",
       " ('the', 'DET'),\n",
       " ('fulton', 'NOUN'),\n",
       " ('county', 'NOUN'),\n",
       " ('jail', 'NOUN'),\n",
       " ('and', 'CONJ'),\n",
       " ('``', '.'),\n",
       " ('a', 'DET'),\n",
       " ('doctor', 'NOUN'),\n",
       " (',', '.'),\n",
       " ('medical', 'ADJ'),\n",
       " ('intern', 'NOUN'),\n",
       " ('or', 'CONJ'),\n",
       " ('extern', 'NOUN'),\n",
       " ('be', 'VERB'),\n",
       " ('employed', 'VERB'),\n",
       " ('for', 'ADP'),\n",
       " ('night', 'NOUN'),\n",
       " ('and', 'CONJ'),\n",
       " ('weekend', 'NOUN'),\n",
       " ('duty', 'NOUN'),\n",
       " ('at', 'ADP'),\n",
       " ('the', 'DET'),\n",
       " ('jail', 'NOUN'),\n",
       " (\"''\", '.'),\n",
       " ('.', '.'),\n",
       " ('(', '.'),\n",
       " ('2', 'NUM'),\n",
       " (')', '.'),\n",
       " ('fulton', 'NOUN'),\n",
       " ('legislators', 'NOUN'),\n",
       " ('``', '.'),\n",
       " ('work', 'VERB'),\n",
       " ('with', 'ADP'),\n",
       " ('city', 'NOUN'),\n",
       " ('officials', 'NOUN'),\n",
       " ('to', 'PRT'),\n",
       " ('pass', 'VERB'),\n",
       " ('enabling', 'VERB'),\n",
       " ('legislation', 'NOUN'),\n",
       " ('that', 'PRON'),\n",
       " ('will', 'VERB'),\n",
       " ('permit', 'VERB'),\n",
       " ('the', 'DET'),\n",
       " ('establishment', 'NOUN'),\n",
       " ('of', 'ADP'),\n",
       " ('a', 'DET'),\n",
       " ('fair', 'ADJ'),\n",
       " ('and', 'CONJ'),\n",
       " ('equitable', 'ADJ'),\n",
       " (\"''\", '.'),\n",
       " ('pension', 'NOUN'),\n",
       " ('plan', 'NOUN'),\n",
       " ('for', 'ADP'),\n",
       " ('city', 'NOUN'),\n",
       " ('employes', 'NOUN'),\n",
       " ('.', '.'),\n",
       " ('the', 'DET'),\n",
       " ('jury', 'NOUN'),\n",
       " ('praised', 'VERB'),\n",
       " ('the', 'DET'),\n",
       " ('administration', 'NOUN'),\n",
       " ('and', 'CONJ'),\n",
       " ('operation', 'NOUN'),\n",
       " ('of', 'ADP'),\n",
       " ('the', 'DET'),\n",
       " ('atlanta', 'NOUN'),\n",
       " ('police', 'NOUN'),\n",
       " ('department', 'NOUN'),\n",
       " (',', '.'),\n",
       " ('the', 'DET'),\n",
       " ('fulton', 'NOUN'),\n",
       " ('tax', 'NOUN'),\n",
       " (\"commissioner's\", 'NOUN'),\n",
       " ('office', 'NOUN'),\n",
       " (',', '.'),\n",
       " ('the', 'DET'),\n",
       " ('bellwood', 'NOUN'),\n",
       " ('and', 'CONJ'),\n",
       " ('alpharetta', 'NOUN'),\n",
       " ('prison', 'NOUN'),\n",
       " ('farms', 'NOUN'),\n",
       " (',', '.'),\n",
       " ('grady', 'NOUN'),\n",
       " ('hospital', 'NOUN'),\n",
       " ('and', 'CONJ'),\n",
       " ('the', 'DET'),\n",
       " ('fulton', 'NOUN'),\n",
       " ('health', 'NOUN'),\n",
       " ('department', 'NOUN'),\n",
       " ('.', '.'),\n",
       " ('mayor', 'NOUN'),\n",
       " ('william', 'NOUN'),\n",
       " ('b.', 'NOUN'),\n",
       " ('hartsfield', 'NOUN'),\n",
       " ('filed', 'VERB'),\n",
       " ('suit', 'NOUN'),\n",
       " ('for', 'ADP'),\n",
       " ('divorce', 'NOUN'),\n",
       " ('from', 'ADP'),\n",
       " ('his', 'DET'),\n",
       " ('wife', 'NOUN'),\n",
       " (',', '.'),\n",
       " ('pearl', 'NOUN'),\n",
       " ('williams', 'NOUN'),\n",
       " ('hartsfield', 'NOUN'),\n",
       " (',', '.'),\n",
       " ('in', 'ADP'),\n",
       " ('fulton', 'NOUN'),\n",
       " ('superior', 'ADJ'),\n",
       " ('court', 'NOUN'),\n",
       " ('friday', 'NOUN'),\n",
       " ('.', '.'),\n",
       " ('his', 'DET'),\n",
       " ('petition', 'NOUN'),\n",
       " ('charged', 'VERB'),\n",
       " ('mental', 'ADJ'),\n",
       " ('cruelty', 'NOUN'),\n",
       " ('.', '.'),\n",
       " ('the', 'DET'),\n",
       " ('couple', 'NOUN'),\n",
       " ('was', 'VERB'),\n",
       " ('married', 'VERB'),\n",
       " ('aug.', 'NOUN'),\n",
       " ('2', 'NUM'),\n",
       " (',', '.'),\n",
       " ('1913', 'NUM'),\n",
       " ('.', '.'),\n",
       " ('they', 'PRON'),\n",
       " ('have', 'VERB'),\n",
       " ('a', 'DET'),\n",
       " ('son', 'NOUN'),\n",
       " (',', '.'),\n",
       " ('william', 'NOUN'),\n",
       " ('berry', 'NOUN'),\n",
       " ('jr.', 'NOUN'),\n",
       " (',', '.'),\n",
       " ('and', 'CONJ'),\n",
       " ('a', 'DET'),\n",
       " ('daughter', 'NOUN'),\n",
       " (',', '.'),\n",
       " ('mrs.', 'NOUN'),\n",
       " ('j.', 'NOUN'),\n",
       " ('m.', 'NOUN'),\n",
       " ('cheshire', 'NOUN'),\n",
       " ('of', 'ADP'),\n",
       " ('griffin', 'NOUN'),\n",
       " ('.', '.'),\n",
       " ('attorneys', 'NOUN'),\n",
       " ('for', 'ADP'),\n",
       " ('the', 'DET'),\n",
       " ('mayor', 'NOUN'),\n",
       " ('said', 'VERB'),\n",
       " ('that', 'ADP'),\n",
       " ('an', 'DET'),\n",
       " ('amicable', 'ADJ'),\n",
       " ('property', 'NOUN'),\n",
       " ('settlement', 'NOUN'),\n",
       " ('has', 'VERB'),\n",
       " ('been', 'VERB'),\n",
       " ('agreed', 'VERB'),\n",
       " ('upon', 'ADV'),\n",
       " ('.', '.'),\n",
       " ('the', 'DET'),\n",
       " ('petition', 'NOUN'),\n",
       " ('listed', 'VERB'),\n",
       " ('the', 'DET'),\n",
       " (\"mayor's\", 'NOUN'),\n",
       " ('occupation', 'NOUN'),\n",
       " ('as', 'ADP'),\n",
       " ('``', '.'),\n",
       " ('attorney', 'NOUN'),\n",
       " (\"''\", '.'),\n",
       " ('and', 'CONJ'),\n",
       " ('his', 'DET'),\n",
       " ('age', 'NOUN'),\n",
       " ('as', 'ADP'),\n",
       " ('71', 'NUM'),\n",
       " ('.', '.'),\n",
       " ('it', 'PRON'),\n",
       " ('listed', 'VERB'),\n",
       " ('his', 'DET'),\n",
       " (\"wife's\", 'NOUN'),\n",
       " ('age', 'NOUN'),\n",
       " ('as', 'ADP'),\n",
       " ('74', 'NUM'),\n",
       " ('and', 'CONJ'),\n",
       " ('place', 'NOUN'),\n",
       " ('of', 'ADP'),\n",
       " ('birth', 'NOUN'),\n",
       " ('as', 'ADP'),\n",
       " ('opelika', 'NOUN'),\n",
       " (',', '.'),\n",
       " ('ala.', 'NOUN'),\n",
       " ('.', '.'),\n",
       " ('the', 'DET'),\n",
       " ('petition', 'NOUN'),\n",
       " ('said', 'VERB'),\n",
       " ('that', 'ADP'),\n",
       " ('the', 'DET'),\n",
       " ('couple', 'NOUN'),\n",
       " ('has', 'VERB'),\n",
       " ('not', 'ADV'),\n",
       " ('lived', 'VERB'),\n",
       " ('together', 'ADV'),\n",
       " ('as', 'ADP'),\n",
       " ('man', 'NOUN'),\n",
       " ('and', 'CONJ'),\n",
       " ('wife', 'NOUN'),\n",
       " ('for', 'ADP'),\n",
       " ('more', 'ADJ'),\n",
       " ('than', 'ADP'),\n",
       " ('a', 'DET'),\n",
       " ('year', 'NOUN'),\n",
       " ('.', '.'),\n",
       " ('the', 'DET'),\n",
       " ('hartsfield', 'NOUN'),\n",
       " ('home', 'NOUN'),\n",
       " ('is', 'VERB'),\n",
       " ('at', 'ADP'),\n",
       " ('637', 'NUM'),\n",
       " ('e.', 'NOUN'),\n",
       " ('pelham', 'NOUN'),\n",
       " ('rd.', 'NOUN'),\n",
       " ('aj', 'NOUN'),\n",
       " ('.', '.'),\n",
       " ('henry', 'NOUN'),\n",
       " ('l.', 'NOUN'),\n",
       " ('bowden', 'NOUN'),\n",
       " ('was', 'VERB'),\n",
       " ('listed', 'VERB'),\n",
       " ('on', 'ADP'),\n",
       " ('the', 'DET'),\n",
       " ('petition', 'NOUN'),\n",
       " ('as', 'ADP'),\n",
       " ('the', 'DET'),\n",
       " (\"mayor's\", 'NOUN'),\n",
       " ('attorney', 'NOUN'),\n",
       " ('.', '.'),\n",
       " ('hartsfield', 'NOUN'),\n",
       " ('has', 'VERB'),\n",
       " ('been', 'VERB'),\n",
       " ('mayor', 'NOUN'),\n",
       " ('of', 'ADP'),\n",
       " ('atlanta', 'NOUN'),\n",
       " (',', '.'),\n",
       " ('with', 'ADP'),\n",
       " ('exception', 'NOUN'),\n",
       " ('of', 'ADP'),\n",
       " ('one', 'NUM'),\n",
       " ('brief', 'ADJ'),\n",
       " ('interlude', 'NOUN'),\n",
       " (',', '.'),\n",
       " ('since', 'ADP'),\n",
       " ('1937', 'NUM'),\n",
       " ('.', '.'),\n",
       " ('his', 'DET'),\n",
       " ('political', 'ADJ'),\n",
       " ('career', 'NOUN'),\n",
       " ('goes', 'VERB'),\n",
       " ('back', 'ADV'),\n",
       " ('to', 'ADP'),\n",
       " ('his', 'DET'),\n",
       " ('election', 'NOUN'),\n",
       " ('to', 'ADP'),\n",
       " ('city', 'NOUN'),\n",
       " ('council', 'NOUN'),\n",
       " ('in', 'ADP'),\n",
       " ('1923', 'NUM'),\n",
       " ('.', '.'),\n",
       " ('the', 'DET'),\n",
       " (\"mayor's\", 'NOUN'),\n",
       " ('present', 'ADJ'),\n",
       " ('term', 'NOUN'),\n",
       " ('of', 'ADP'),\n",
       " ('office', 'NOUN'),\n",
       " ('expires', 'VERB'),\n",
       " ('jan.', 'NOUN'),\n",
       " ('1', 'NUM'),\n",
       " ('.', '.'),\n",
       " ('he', 'PRON'),\n",
       " ('will', 'VERB'),\n",
       " ('be', 'VERB'),\n",
       " ('succeeded', 'VERB'),\n",
       " ('by', 'ADP'),\n",
       " ('ivan', 'NOUN'),\n",
       " ('allen', 'NOUN'),\n",
       " ('jr.', 'NOUN'),\n",
       " (',', '.'),\n",
       " ('who', 'PRON'),\n",
       " ('became', 'VERB'),\n",
       " ('a', 'DET'),\n",
       " ('candidate', 'NOUN'),\n",
       " ('in', 'ADP'),\n",
       " ('the', 'DET'),\n",
       " ('sept.', 'NOUN'),\n",
       " ('13', 'NUM'),\n",
       " ('primary', 'NOUN'),\n",
       " ('after', 'ADP'),\n",
       " ('mayor', 'NOUN'),\n",
       " ('hartsfield', 'NOUN'),\n",
       " ('announced', 'VERB'),\n",
       " ('that', 'ADP'),\n",
       " ('he', 'PRON'),\n",
       " ('would', 'VERB'),\n",
       " ('not', 'ADV'),\n",
       " ('run', 'VERB'),\n",
       " ('for', 'ADP'),\n",
       " ('reelection', 'NOUN'),\n",
       " ('.', '.'),\n",
       " ('georgia', 'NOUN'),\n",
       " ('republicans', 'NOUN'),\n",
       " ('are', 'VERB'),\n",
       " ('getting', 'VERB'),\n",
       " ('strong', 'ADJ'),\n",
       " ('encouragement', 'NOUN'),\n",
       " ('to', 'PRT'),\n",
       " ('enter', 'VERB'),\n",
       " ('a', 'DET'),\n",
       " ('candidate', 'NOUN'),\n",
       " ('in', 'ADP'),\n",
       " ('the', 'DET'),\n",
       " ('1962', 'NUM'),\n",
       " (\"governor's\", 'NOUN'),\n",
       " ...]"
      ]
     },
     "execution_count": 8,
     "metadata": {},
     "output_type": "execute_result"
    }
   ],
   "source": [
    "brown_tagged_words"
   ]
  },
  {
   "cell_type": "code",
   "execution_count": 9,
   "metadata": {
    "colab": {
     "base_uri": "https://localhost:8080/"
    },
    "executionInfo": {
     "elapsed": 1054,
     "status": "ok",
     "timestamp": 1636464758296,
     "user": {
      "displayName": "Кирилл Ионкин",
      "photoUrl": "https://lh3.googleusercontent.com/a-/AOh14GjG3HOioA1HlkpNy1xqhKKlDr7YAygtL0OTgT3EtA=s64",
      "userId": "05870578380605152071"
     },
     "user_tz": -180
    },
    "id": "4giWaqXjwC5W",
    "outputId": "b876f42e-c604-431b-db15-fb0574b7c6c0"
   },
   "outputs": [
    {
     "name": "stdout",
     "output_type": "stream",
     "text": [
      "Кол-во предложений:  57340\n"
     ]
    }
   ],
   "source": [
    "print('Кол-во предложений: ', len(brown_tagged_sents))\n",
    "tags = [tag for (word, tag) in brown_tagged_words] # наши теги\n",
    "words = [word for (word, tag) in brown_tagged_words] # наши слова"
   ]
  },
  {
   "cell_type": "code",
   "execution_count": 10,
   "metadata": {
    "executionInfo": {
     "elapsed": 2235,
     "status": "ok",
     "timestamp": 1636464764208,
     "user": {
      "displayName": "Кирилл Ионкин",
      "photoUrl": "https://lh3.googleusercontent.com/a-/AOh14GjG3HOioA1HlkpNy1xqhKKlDr7YAygtL0OTgT3EtA=s64",
      "userId": "05870578380605152071"
     },
     "user_tz": -180
    },
    "id": "ZGHOmHN05Lgk"
   },
   "outputs": [],
   "source": [
    "# your code\n",
    "tag_num = pd.Series(nltk.FreqDist(tags)).sort_values(ascending=False) # тег - кол-во тега в корпусе\n",
    "word_num = pd.Series(nltk.FreqDist(words)).sort_values(ascending=False) # слово - кол-во слова в корпусе"
   ]
  },
  {
   "cell_type": "code",
   "execution_count": 11,
   "metadata": {},
   "outputs": [
    {
     "data": {
      "text/plain": [
       "the            69971\n",
       ",              58334\n",
       ".              49346\n",
       "of             36412\n",
       "and            28853\n",
       "               ...  \n",
       "quasi-folk         1\n",
       "moneymaking        1\n",
       "puckish            1\n",
       "jeepers            1\n",
       "stupefying         1\n",
       "Length: 49815, dtype: int64"
      ]
     },
     "execution_count": 11,
     "metadata": {},
     "output_type": "execute_result"
    }
   ],
   "source": [
    "word_num"
   ]
  },
  {
   "cell_type": "code",
   "execution_count": 12,
   "metadata": {
    "colab": {
     "base_uri": "https://localhost:8080/"
    },
    "executionInfo": {
     "elapsed": 1113,
     "status": "ok",
     "timestamp": 1636464786364,
     "user": {
      "displayName": "Кирилл Ионкин",
      "photoUrl": "https://lh3.googleusercontent.com/a-/AOh14GjG3HOioA1HlkpNy1xqhKKlDr7YAygtL0OTgT3EtA=s64",
      "userId": "05870578380605152071"
     },
     "user_tz": -180
    },
    "id": "yfiPpCcLwC5Z",
    "outputId": "670813dd-b84a-4883-c424-49e85ce96e36",
    "scrolled": true
   },
   "outputs": [
    {
     "data": {
      "text/plain": [
       "NOUN    275558\n",
       "VERB    182750\n",
       ".       147565\n",
       "ADP     144766\n",
       "DET     137019\n",
       "ADJ      83721\n",
       "ADV      56239\n",
       "PRON     49334\n",
       "CONJ     38151\n",
       "PRT      29829\n",
       "NUM      14874\n",
       "X         1386\n",
       "dtype: int64"
      ]
     },
     "execution_count": 12,
     "metadata": {},
     "output_type": "execute_result"
    }
   ],
   "source": [
    "tag_num"
   ]
  },
  {
   "cell_type": "code",
   "execution_count": 13,
   "metadata": {
    "colab": {
     "base_uri": "https://localhost:8080/",
     "height": 336
    },
    "executionInfo": {
     "elapsed": 404,
     "status": "ok",
     "timestamp": 1636464797514,
     "user": {
      "displayName": "Кирилл Ионкин",
      "photoUrl": "https://lh3.googleusercontent.com/a-/AOh14GjG3HOioA1HlkpNy1xqhKKlDr7YAygtL0OTgT3EtA=s64",
      "userId": "05870578380605152071"
     },
     "user_tz": -180
    },
    "id": "8Y1huw7TwC5b",
    "outputId": "1b5f64a3-19be-4ec6-9370-4ddbb1eed626"
   },
   "outputs": [
    {
     "data": {
      "image/png": "[encoded data removed]",
      "text/plain": [
       "<Figure size 864x360 with 1 Axes>"
      ]
     },
     "metadata": {
      "needs_background": "light"
     },
     "output_type": "display_data"
    }
   ],
   "source": [
    "plt.figure(figsize=(12, 5))\n",
    "plt.bar(tag_num.index, tag_num.values)\n",
    "plt.title(\"Tag_frequency\")\n",
    "plt.show()"
   ]
  },
  {
   "cell_type": "code",
   "execution_count": 14,
   "metadata": {
    "colab": {
     "base_uri": "https://localhost:8080/"
    },
    "executionInfo": {
     "elapsed": 1016,
     "status": "ok",
     "timestamp": 1636464807536,
     "user": {
      "displayName": "Кирилл Ионкин",
      "photoUrl": "https://lh3.googleusercontent.com/a-/AOh14GjG3HOioA1HlkpNy1xqhKKlDr7YAygtL0OTgT3EtA=s64",
      "userId": "05870578380605152071"
     },
     "user_tz": -180
    },
    "id": "gBbhnJsmwC5f",
    "outputId": "8b445f3c-6323-41b8-ffbb-fed5a641b7bd"
   },
   "outputs": [
    {
     "data": {
      "text/plain": [
       "the    69971\n",
       ",      58334\n",
       ".      49346\n",
       "of     36412\n",
       "and    28853\n",
       "dtype: int64"
      ]
     },
     "execution_count": 14,
     "metadata": {},
     "output_type": "execute_result"
    }
   ],
   "source": [
    "word_num[:5]"
   ]
  },
  {
   "cell_type": "code",
   "execution_count": 15,
   "metadata": {
    "colab": {
     "base_uri": "https://localhost:8080/",
     "height": 336
    },
    "executionInfo": {
     "elapsed": 613,
     "status": "ok",
     "timestamp": 1636464825938,
     "user": {
      "displayName": "Кирилл Ионкин",
      "photoUrl": "https://lh3.googleusercontent.com/a-/AOh14GjG3HOioA1HlkpNy1xqhKKlDr7YAygtL0OTgT3EtA=s64",
      "userId": "05870578380605152071"
     },
     "user_tz": -180
    },
    "id": "1WmEOBMkwC5i",
    "outputId": "33ec44dd-9db7-48d1-d890-e8516c1edc5e"
   },
   "outputs": [
    {
     "data": {
      "image/png": "[encoded data removed]",
      "text/plain": [
       "<Figure size 864x360 with 1 Axes>"
      ]
     },
     "metadata": {
      "needs_background": "light"
     },
     "output_type": "display_data"
    }
   ],
   "source": [
    "plt.figure(figsize=(12, 5))\n",
    "plt.bar(word_num.index[:10], word_num.values[:10])\n",
    "plt.title(\"Word_frequency(first 10)\")\n",
    "plt.show()"
   ]
  },
  {
   "cell_type": "markdown",
   "metadata": {
    "id": "n08z2PjMwC5o"
   },
   "source": [
    "### Вопрос 1:\n",
    "* Кол-во слова `cat` в корпусе?"
   ]
  },
  {
   "cell_type": "code",
   "execution_count": 16,
   "metadata": {
    "colab": {
     "base_uri": "https://localhost:8080/"
    },
    "executionInfo": {
     "elapsed": 472,
     "status": "ok",
     "timestamp": 1636464906816,
     "user": {
      "displayName": "Кирилл Ионкин",
      "photoUrl": "https://lh3.googleusercontent.com/a-/AOh14GjG3HOioA1HlkpNy1xqhKKlDr7YAygtL0OTgT3EtA=s64",
      "userId": "05870578380605152071"
     },
     "user_tz": -180
    },
    "id": "jhB7di3YwC5p",
    "outputId": "0f5be58f-07d7-40bc-a6bc-40dfa5a9cec7"
   },
   "outputs": [
    {
     "data": {
      "text/plain": [
       "23"
      ]
     },
     "execution_count": 16,
     "metadata": {},
     "output_type": "execute_result"
    }
   ],
   "source": [
    "word_num.loc[\"cat\"]"
   ]
  },
  {
   "cell_type": "markdown",
   "metadata": {
    "id": "UsCfVLsewC5s"
   },
   "source": [
    "### Вопрос 2:\n",
    "* Самое популярное слово с самым популярным тегом? <br>(*сначала выбираете слова с самым популярным тегом, а затем выбираете самое популярное слово из уже выбранных*)"
   ]
  },
  {
   "cell_type": "code",
   "execution_count": 17,
   "metadata": {
    "colab": {
     "base_uri": "https://localhost:8080/",
     "height": 336
    },
    "executionInfo": {
     "elapsed": 1013,
     "status": "ok",
     "timestamp": 1636465060567,
     "user": {
      "displayName": "Кирилл Ионкин",
      "photoUrl": "https://lh3.googleusercontent.com/a-/AOh14GjG3HOioA1HlkpNy1xqhKKlDr7YAygtL0OTgT3EtA=s64",
      "userId": "05870578380605152071"
     },
     "user_tz": -180
    },
    "id": "oio-XBYkwC5t",
    "outputId": "80fc4a5f-af7d-41b4-ea67-8261014f231b"
   },
   "outputs": [
    {
     "data": {
      "image/png": "[encoded data removed]",
      "text/plain": [
       "<Figure size 864x360 with 1 Axes>"
      ]
     },
     "metadata": {
      "needs_background": "light"
     },
     "output_type": "display_data"
    }
   ],
   "source": [
    "# посмотрим на распределение ТЕГОВ по частоте\n",
    "\n",
    "plt.figure(figsize=(12, 5))\n",
    "plt.bar(tag_num.index, tag_num.values)\n",
    "plt.title(\"Tag_frequency\")\n",
    "plt.show()"
   ]
  },
  {
   "cell_type": "code",
   "execution_count": 31,
   "metadata": {},
   "outputs": [],
   "source": [
    "brown_tagged_words_noun = [item for item in brown_tagged_words if item[1] == \"NOUN\"]"
   ]
  },
  {
   "cell_type": "code",
   "execution_count": 32,
   "metadata": {},
   "outputs": [],
   "source": [
    "words_noun = [word for (word, tag) in brown_tagged_words_noun]\n",
    "words_noun_num = pd.Series(nltk.FreqDist(words_noun)).sort_values(ascending=False)"
   ]
  },
  {
   "cell_type": "code",
   "execution_count": 33,
   "metadata": {},
   "outputs": [
    {
     "data": {
      "image/png": "[encoded data removed]",
      "text/plain": [
       "<Figure size 864x360 with 1 Axes>"
      ]
     },
     "metadata": {
      "needs_background": "light"
     },
     "output_type": "display_data"
    }
   ],
   "source": [
    "plt.figure(figsize=(12, 5))\n",
    "plt.bar(words_noun_num.index[:10], words_noun_num.values[:10])\n",
    "plt.title(\"noun_frequency\")\n",
    "plt.show()"
   ]
  },
  {
   "cell_type": "code",
   "execution_count": null,
   "metadata": {},
   "outputs": [],
   "source": [
    "# time "
   ]
  },
  {
   "cell_type": "markdown",
   "metadata": {
    "id": "K-OGc1rSwC5x"
   },
   "source": [
    "Впоследствии обучение моделей может занимать слишком много времени, работайте с подвыборкой, например, только текстами определенных категорий."
   ]
  },
  {
   "cell_type": "markdown",
   "metadata": {
    "id": "Eb7MhxVRwC5y"
   },
   "source": [
    "Категории нашего корпуса:"
   ]
  },
  {
   "cell_type": "code",
   "execution_count": 34,
   "metadata": {
    "colab": {
     "base_uri": "https://localhost:8080/"
    },
    "executionInfo": {
     "elapsed": 853,
     "status": "ok",
     "timestamp": 1636465553388,
     "user": {
      "displayName": "Кирилл Ионкин",
      "photoUrl": "https://lh3.googleusercontent.com/a-/AOh14GjG3HOioA1HlkpNy1xqhKKlDr7YAygtL0OTgT3EtA=s64",
      "userId": "05870578380605152071"
     },
     "user_tz": -180
    },
    "id": "GSiVcP1TwC51",
    "outputId": "2e929c25-8d39-40e1-a1a6-cb2760e64f9c"
   },
   "outputs": [
    {
     "data": {
      "text/plain": [
       "['adventure',\n",
       " 'belles_lettres',\n",
       " 'editorial',\n",
       " 'fiction',\n",
       " 'government',\n",
       " 'hobbies',\n",
       " 'humor',\n",
       " 'learned',\n",
       " 'lore',\n",
       " 'mystery',\n",
       " 'news',\n",
       " 'religion',\n",
       " 'reviews',\n",
       " 'romance',\n",
       " 'science_fiction']"
      ]
     },
     "execution_count": 34,
     "metadata": {},
     "output_type": "execute_result"
    }
   ],
   "source": [
    "brown.categories()"
   ]
  },
  {
   "cell_type": "markdown",
   "metadata": {
    "id": "MjSlFatJwC53"
   },
   "source": [
    "Будем работать с категорией humor"
   ]
  },
  {
   "cell_type": "markdown",
   "metadata": {
    "id": "_f1rl5x0wC55"
   },
   "source": [
    "Cделайте случайное разбиение выборки на обучение и контроль в отношении 9:1. "
   ]
  },
  {
   "cell_type": "code",
   "execution_count": 35,
   "metadata": {
    "executionInfo": {
     "elapsed": 323,
     "status": "ok",
     "timestamp": 1636465651338,
     "user": {
      "displayName": "Кирилл Ионкин",
      "photoUrl": "https://lh3.googleusercontent.com/a-/AOh14GjG3HOioA1HlkpNy1xqhKKlDr7YAygtL0OTgT3EtA=s64",
      "userId": "05870578380605152071"
     },
     "user_tz": -180
    },
    "id": "jwoNzcQJ9CBH"
   },
   "outputs": [],
   "source": [
    "brown_tagged_sents = brown.tagged_sents(tagset=\"universal\")"
   ]
  },
  {
   "cell_type": "code",
   "execution_count": 39,
   "metadata": {
    "colab": {
     "base_uri": "https://localhost:8080/"
    },
    "executionInfo": {
     "elapsed": 501,
     "status": "ok",
     "timestamp": 1636465903914,
     "user": {
      "displayName": "Кирилл Ионкин",
      "photoUrl": "https://lh3.googleusercontent.com/a-/AOh14GjG3HOioA1HlkpNy1xqhKKlDr7YAygtL0OTgT3EtA=s64",
      "userId": "05870578380605152071"
     },
     "user_tz": -180
    },
    "id": "GX9t-1qowC58",
    "outputId": "6494402a-cbc1-4ab0-eb84-2f912b34671a"
   },
   "outputs": [
    {
     "name": "stderr",
     "output_type": "stream",
     "text": [
      "<ipython-input-39-12f9078c0878>:7: VisibleDeprecationWarning: Creating an ndarray from ragged nested sequences (which is a list-or-tuple of lists-or-tuples-or ndarrays with different lengths or shapes) is deprecated. If you meant to do this, you must specify 'dtype=object' when creating the ndarray.\n",
      "  my_brown_tagged_humor_sents = np.array(my_brown_tagged_humor_sents) # переводим в np.ndarray для удобсива разбиения данных на train/test\n"
     ]
    }
   ],
   "source": [
    "brown_tagged_humor_sents = brown.tagged_sents(tagset=\"universal\", categories='humor') # выбираем категорию юмор\n",
    "\n",
    "# Приведем слова к нижнему регистру\n",
    "my_brown_tagged_humor_sents = []\n",
    "for sent in brown_tagged_humor_sents:\n",
    "    my_brown_tagged_humor_sents.append(list(map(lambda x: (x[0].lower(), x[1]), sent)))\n",
    "my_brown_tagged_humor_sents = np.array(my_brown_tagged_humor_sents) # переводим в np.ndarray для удобсива разбиения данных на train/test"
   ]
  },
  {
   "cell_type": "code",
   "execution_count": 40,
   "metadata": {
    "executionInfo": {
     "elapsed": 688,
     "status": "ok",
     "timestamp": 1636465954775,
     "user": {
      "displayName": "Кирилл Ионкин",
      "photoUrl": "https://lh3.googleusercontent.com/a-/AOh14GjG3HOioA1HlkpNy1xqhKKlDr7YAygtL0OTgT3EtA=s64",
      "userId": "05870578380605152071"
     },
     "user_tz": -180
    },
    "id": "sN9GTT-o9ot-"
   },
   "outputs": [],
   "source": [
    "from sklearn.model_selection import train_test_split\n",
    "train_sents, test_sents = train_test_split(my_brown_tagged_sents, random_state=0, train_size=0.9)"
   ]
  },
  {
   "cell_type": "code",
   "execution_count": 43,
   "metadata": {
    "colab": {
     "base_uri": "https://localhost:8080/"
    },
    "executionInfo": {
     "elapsed": 8,
     "status": "ok",
     "timestamp": 1636465954776,
     "user": {
      "displayName": "Кирилл Ионкин",
      "photoUrl": "https://lh3.googleusercontent.com/a-/AOh14GjG3HOioA1HlkpNy1xqhKKlDr7YAygtL0OTgT3EtA=s64",
      "userId": "05870578380605152071"
     },
     "user_tz": -180
    },
    "id": "pXkVwUjYwC5-",
    "outputId": "186ceb5e-cd91-4b97-ee3f-6c1cbbe11fe5"
   },
   "outputs": [
    {
     "data": {
      "text/plain": [
       "(947, 106)"
      ]
     },
     "execution_count": 43,
     "metadata": {},
     "output_type": "execute_result"
    }
   ],
   "source": [
    "len(train_sents), len(test_sents)"
   ]
  },
  {
   "cell_type": "markdown",
   "metadata": {
    "id": "_rEasLVcwC6G"
   },
   "source": [
    "### Метод максимального правдоподобия для обучения модели\n",
    "\n",
    "* $\\normalsize S = s_0, s_1, ..., s_N$ - скрытые состояния, то есть различные теги\n",
    "* $\\normalsize O = o_0, o_1, ..., o_M$ - различные слова\n",
    "* $\\normalsize a_{i,j} = p(s_j|s_i)$ - вероятность того, что, находясь в скрытом состоянии $s_i$, мы попадем в состояние $s_j$ (элемент матрицы $A$)\n",
    "* $\\normalsize b_{k,j}=p(o_k|s_j)$ - вероятность того, что при скрытом состоянии $s_j$ находится слово $o_k$(элемент матрицы $B$)\n",
    "\n",
    "$$\\normalsize x_t \\in O, y_t \\in S$$\n",
    "$\\normalsize (x_t, y_t)$ - слово и тег, стоящие на месте $t$ $\\Rightarrow$ \n",
    "* $\\normalsize X$ - последовательность слов\n",
    "* $\\normalsize Y$ - последовательность тегов\n",
    "\n",
    "Требуется построить скрытую марковскую модель (class HiddenMarkovModel) и написать метод fit для настройки всех её параметров с помощью оценок максимального правдоподобия по размеченным данным (последовательности пар слово+тег):\n",
    "\n",
    "- Вероятности переходов между скрытыми состояниями $p(y_t | y_{t - 1})$ посчитайте на основе частот биграмм POS-тегов.\n",
    "\n",
    "\n",
    "- Вероятности эмиссий наблюдаемых состояний $p(x_t | y_t)$ посчитайте на основе частот \"POS-тег - слово\".\n",
    "\n",
    "\n",
    "- Распределение вероятностей начальных состояний $p(y_0)$ задайте равномерным.\n",
    "\n",
    "Пример $X = [x_0, x_1], Y = [y_0, y_1]$:<br><br>\n",
    "$$p(X, Y) = p(x_0, x_1, y_0, y_1) = p(y_0) \\cdot p(x_0, x_1, y_1 | y_0) = p(y_0) \\cdot p(x_0 | y_0) \\cdot\n",
    "p(x_1, y_1 | x_0, y_0) = \\\\ = p(y_0) \\cdot p(x_0 | y_0) \\cdot p(y_1 | x_0, y_0) \\cdot p(x_1 | x_0, y_0, y_1)\n",
    "= (\\text{в силу условий нашей модели}) = \\\\ = p(y_0) \\cdot p(x_0 | y_0) \\cdot p(y_1 | y_0) \\cdot p(x_1 | y_1) \\Rightarrow$$ <br>\n",
    "Для последовательности длины $n + 1$:<br>\n",
    "$$p(X, Y) = p(x_0 ... x_{n - 1}, y_0 ... y_{n - 1}) \\cdot p(y_n | y_{n - 1}) \\cdot p(x_n | y_n)$$"
   ]
  },
  {
   "cell_type": "markdown",
   "metadata": {
    "id": "tysPoe5rwC6I"
   },
   "source": [
    "#### Алгоритм Витерби для применения модели\n",
    "\n",
    "\n",
    "Требуется написать метод .predict для определения частей речи на тестовой выборке. Чтобы использовать обученную модель на новых данных, необходимо реализовать алгоритм Витерби. Это алгоритм динамиеского программирования, с помощью которого мы будем находить наиболее вероятную последовательность скрытых состояний модели для фиксированной последовательности слов:\n",
    "\n",
    "$$ \\hat{Y} = \\arg \\max_{Y} p(Y|X) = \\arg \\max_{Y} p(Y, X) $$\n",
    "\n",
    "Пусть $\\normalsize Q_{t,s}$ - самая вероятная последовательность скрытых состояний длины $t$ с окончанием в состоянии $s$. $\\normalsize q_{t, s}$ - вероятность этой последовательности.\n",
    "$$(1)\\: \\normalsize q_{t,s} = \\max_{s'} q_{t - 1, s'} \\cdot p(s | s') \\cdot p(o_t | s)$$\n",
    "$\\normalsize Q_{t,s}$ можно восстановить по argmax-ам."
   ]
  },
  {
   "cell_type": "code",
   "execution_count": null,
   "metadata": {},
   "outputs": [],
   "source": [
    "# для понимания"
   ]
  },
  {
   "cell_type": "code",
   "execution_count": 44,
   "metadata": {},
   "outputs": [
    {
     "data": {
      "text/plain": [
       ".       147565\n",
       "ADJ      83721\n",
       "ADP     144766\n",
       "ADV      56239\n",
       "CONJ     38151\n",
       "DET     137019\n",
       "NOUN    275558\n",
       "NUM      14874\n",
       "PRON     49334\n",
       "PRT      29829\n",
       "VERB    182750\n",
       "X         1386\n",
       "dtype: int64"
      ]
     },
     "execution_count": 44,
     "metadata": {},
     "output_type": "execute_result"
    }
   ],
   "source": [
    "tag_num = pd.Series(nltk.FreqDist(tags)).sort_index()\n",
    "tag_num"
   ]
  },
  {
   "cell_type": "code",
   "execution_count": 45,
   "metadata": {},
   "outputs": [
    {
     "data": {
      "text/plain": [
       "the            69971\n",
       ",              58334\n",
       ".              49346\n",
       "of             36412\n",
       "and            28853\n",
       "               ...  \n",
       "quasi-folk         1\n",
       "moneymaking        1\n",
       "puckish            1\n",
       "jeepers            1\n",
       "stupefying         1\n",
       "Length: 49815, dtype: int64"
      ]
     },
     "execution_count": 45,
     "metadata": {},
     "output_type": "execute_result"
    }
   ],
   "source": [
    "word_num = pd.Series(nltk.FreqDist(words)).sort_values(ascending=False)\n",
    "word_num"
   ]
  },
  {
   "cell_type": "code",
   "execution_count": 46,
   "metadata": {},
   "outputs": [
    {
     "data": {
      "text/plain": [
       "11"
      ]
     },
     "execution_count": 46,
     "metadata": {},
     "output_type": "execute_result"
    }
   ],
   "source": [
    "tag_num.index.get_loc(\"X\")"
   ]
  },
  {
   "cell_type": "code",
   "execution_count": 47,
   "metadata": {},
   "outputs": [
    {
     "data": {
      "text/plain": [
       "4531"
      ]
     },
     "execution_count": 47,
     "metadata": {},
     "output_type": "execute_result"
    }
   ],
   "source": [
    "word_num.index.get_loc(\"sphere\")"
   ]
  },
  {
   "cell_type": "code",
   "execution_count": null,
   "metadata": {},
   "outputs": [],
   "source": []
  },
  {
   "cell_type": "code",
   "execution_count": 55,
   "metadata": {
    "id": "QpEXdhOfwC6J"
   },
   "outputs": [],
   "source": [
    "class HiddenMarkovModel:    \n",
    "    def __init__(self):\n",
    "    \n",
    "        pass\n",
    "        \n",
    "    def fit(self, train_tokens_tags_list):\n",
    "        \"\"\"\n",
    "        train_tokens_tags_list: массив предложений пар слово-тег (выборка для train) \n",
    "        \"\"\"\n",
    "        tags = [tag for sent in train_tokens_tags_list for (word, tag) in sent]\n",
    "        words = [word  for sent in train_tokens_tags_list for (word, tag) in sent]\n",
    "        \n",
    "        # создадим серии, соответствующие кол-ву тегов и слов\n",
    "        tag_num = pd.Series(nltk.FreqDist(tags)).sort_index()\n",
    "        word_num = pd.Series(nltk.FreqDist(words)).sort_values(ascending=False)\n",
    "         \n",
    "        self.tags = tag_num.index\n",
    "        self.words = word_num.index\n",
    "        \n",
    "        A = pd.DataFrame({'{}'.format(tag) : [0] * len(tag_num) for tag in tag_num.index}, index=tag_num.index)\n",
    "        B = pd.DataFrame({'{}'.format(tag) : [0] * len(word_num) for tag in tag_num.index}, index=word_num.index)\n",
    "        \n",
    "        # Вычисляем матрицу A и B по частотам слов и тегов\n",
    "        \n",
    "        # sent - предложение\n",
    "        # sent[i][0] - i слово в этом предложении, sent[i][1] - i тег в этом предложении\n",
    "        for sent in train_tokens_tags_list:\n",
    "            for i in range(len(sent)):\n",
    "                word = sent[i][0] # i-ое слово в sent\n",
    "                tag = sent[i][1] # i-ый тег в sent\n",
    "                B.loc[word, tag] += 1 # текущая i-пара слово-тег (обновите матрицу B аналогично A)\n",
    "                \n",
    "                if i != len(sent) - 1: # для последнего тега нет следующего тега\n",
    "                    A.loc[sent[i][1], sent[i + 1][1]] += 1 # пара тег[i]-тег[i + 1]\n",
    "                \n",
    "        \n",
    "        # переходим к вероятностям\n",
    "        \n",
    "        # нормируем по строке, то есть по всем всевозможным следующим тегам\n",
    "        A = A.divide(A.sum(axis=1), axis=0)\n",
    "        \n",
    "        # нормируем по столбцу, то есть по всем всевозможным текущим словам\n",
    "        B = B / np.sum(B, axis=0)\n",
    "        \n",
    "        self.A = A\n",
    "        self.B = B\n",
    "        \n",
    "        return self\n",
    "        \n",
    "    \n",
    "    def predict(self, test_tokens_list):\n",
    "        \"\"\"\n",
    "        test_tokens_list : массив предложений пар слово-тег (выборка для test) ... на счёт tag это не правда...\n",
    "        \"\"\"\n",
    "        predict_tags = OrderedDict({i : np.array([]) for i in range(len(test_tokens_list))})\n",
    "        \n",
    "        for i_sent in range(len(test_tokens_list)):\n",
    "            \n",
    "            current_sent = test_tokens_list[i_sent] # текущее предложение\n",
    "            len_sent = len(current_sent) # длина текущего предложения - кол-во пар (word, tag)\n",
    "            \n",
    "            q = np.zeros(shape=(len_sent + 1, len(self.tags)))\n",
    "            q[0] = 1 # нулевое состояние (равномерная инициализация по всем тегам)\n",
    "            back_point = np.zeros(shape=(len_sent + 1, len(self.tags))) # argmax\n",
    "            \n",
    "            for t in range(len_sent):\n",
    "                \n",
    "                # если мы не встречали такое слово в обучении, то вместо него будет \n",
    "                # самое популярное слово с самым популярным тегом (вопрос 2)\n",
    "                if current_sent[t] not in self.words:\n",
    "                    current_sent[t] = \"time\" # '''your code'''\n",
    "                    \n",
    "                # через max выбираем следующий тег\n",
    "                for i_s in range(len(self.tags)):\n",
    "                    \n",
    "                    s = self.tags[i_s]\n",
    "                    \n",
    "                    # формула (1)\n",
    "                    q[t + 1][i_s] = np.max(q[t] *\n",
    "                        self.A.loc[:, s] * \n",
    "                        self.B.loc[current_sent[t], s])\n",
    "                    \n",
    "                    # argmax формула(1)\n",
    "                    \n",
    "                    # argmax, чтобы восстановить последовательность тегов\n",
    "                    back_point[t + 1][i_s] = (q[t] * self.A.loc[:, s] * \n",
    "                        self.B.loc[current_sent[t], s]).reset_index()[s].idxmax() # индекс \n",
    "                    \n",
    "            back_point = back_point.astype('int')\n",
    "            \n",
    "            # выписываем теги, меняя порядок на реальный\n",
    "            back_tag = deque()\n",
    "            current_tag = np.argmax(q[len_sent])\n",
    "            for t in range(len_sent, 0, -1):\n",
    "                back_tag.appendleft(self.tags[current_tag])\n",
    "                current_tag = back_point[t, current_tag]\n",
    "             \n",
    "            predict_tags[i_sent] = np.array(back_tag)\n",
    "        \n",
    "        \n",
    "        return predict_tags                 "
   ]
  },
  {
   "cell_type": "markdown",
   "metadata": {
    "id": "y0BLgsWkwC6M"
   },
   "source": [
    "Обучите скрытую марковскую модель:"
   ]
  },
  {
   "cell_type": "code",
   "execution_count": 60,
   "metadata": {},
   "outputs": [],
   "source": [
    "my_model_humor = HiddenMarkovModel()\n",
    "my_model_humor = my_model.fit(train_sents)"
   ]
  },
  {
   "cell_type": "markdown",
   "metadata": {
    "id": "FeVNt19kwC6P"
   },
   "source": [
    "Проверьте работу реализованного алгоритма на следующих модельных примерах, проинтерпретируйте результат.\n",
    "\n",
    "- 'He can stay'\n",
    "- 'a cat and a dog'\n",
    "- 'I have a television'\n",
    "- 'My favourite character'"
   ]
  },
  {
   "cell_type": "code",
   "execution_count": 62,
   "metadata": {
    "id": "cMJErf7NwC6Q"
   },
   "outputs": [
    {
     "data": {
      "text/plain": [
       "'your code'"
      ]
     },
     "execution_count": 62,
     "metadata": {},
     "output_type": "execute_result"
    }
   ],
   "source": [
    "sents = [\n",
    "         ['He', 'can', 'stay'],\n",
    "         ['a', 'cat', 'and', 'a', 'dog'],\n",
    "         ['I', 'have', 'a', 'television'],\n",
    "         ['My', 'favourite', 'character']\n",
    "        ]\n",
    "'''your code'''"
   ]
  },
  {
   "cell_type": "code",
   "execution_count": 63,
   "metadata": {},
   "outputs": [
    {
     "data": {
      "text/plain": [
       "OrderedDict([(0, array(['NOUN', 'VERB', 'VERB'], dtype='<U4')),\n",
       "             (1, array(['DET', 'NOUN', 'CONJ', 'DET', 'NOUN'], dtype='<U4')),\n",
       "             (2, array(['NOUN', 'VERB', 'DET', 'NOUN'], dtype='<U4')),\n",
       "             (3, array(['NOUN', 'NOUN', 'NOUN'], dtype='<U4'))])"
      ]
     },
     "execution_count": 63,
     "metadata": {},
     "output_type": "execute_result"
    }
   ],
   "source": [
    "preds = my_model_humor.predict(sents)\n",
    "preds"
   ]
  },
  {
   "cell_type": "markdown",
   "metadata": {
    "id": "suDCwbGMwC6T"
   },
   "source": [
    "### Вопрос 3:\n",
    "* Какой тег вы получили для слова `can`?"
   ]
  },
  {
   "cell_type": "code",
   "execution_count": 64,
   "metadata": {},
   "outputs": [
    {
     "data": {
      "text/plain": [
       "'VERB'"
      ]
     },
     "execution_count": 64,
     "metadata": {},
     "output_type": "execute_result"
    }
   ],
   "source": [
    "\"VERB\""
   ]
  },
  {
   "cell_type": "markdown",
   "metadata": {
    "id": "ObAslurlwC6X"
   },
   "source": [
    "### Вопрос 4:\n",
    "* Какой тег вы получили для слова `favourite`?"
   ]
  },
  {
   "cell_type": "code",
   "execution_count": 65,
   "metadata": {},
   "outputs": [
    {
     "data": {
      "text/plain": [
       "'NOUN'"
      ]
     },
     "execution_count": 65,
     "metadata": {},
     "output_type": "execute_result"
    }
   ],
   "source": [
    "\"NOUN\""
   ]
  },
  {
   "cell_type": "markdown",
   "metadata": {
    "id": "YPC4NZ4HwC6a"
   },
   "source": [
    "Примените модель к отложенной выборке Брауновского корпуса и подсчитайте точность определения тегов (accuracy). Сделайте выводы. "
   ]
  },
  {
   "cell_type": "code",
   "execution_count": 66,
   "metadata": {},
   "outputs": [
    {
     "data": {
      "text/plain": [
       "106"
      ]
     },
     "execution_count": 66,
     "metadata": {},
     "output_type": "execute_result"
    }
   ],
   "source": [
    "len(test_sents)"
   ]
  },
  {
   "cell_type": "code",
   "execution_count": 67,
   "metadata": {
    "id": "-7aioBc1wC6b"
   },
   "outputs": [],
   "source": [
    "def accuracy_score(model, sents):\n",
    "    true_pred = 0\n",
    "    num_pred = 0\n",
    "\n",
    "    for i, sent in enumerate(sents, start=1):\n",
    "        tags = [tag for (word, tag) in sent] # '''your code'''\n",
    "        words = [word for (word, tag) in sent] # '''your code'''\n",
    "        #print(tags, words)\n",
    "        # '''your code'''\n",
    "        preds = model.predict([words])[0]\n",
    "        \n",
    "        true_pred += sum([tag == pred for tag, pred in zip(tags, preds)]) # '''your code'''\n",
    "        num_pred += len(tags) # '''your code'''\n",
    "        \n",
    "    print(\"Accuracy:\", true_pred / num_pred * 100, '%')"
   ]
  },
  {
   "cell_type": "code",
   "execution_count": 69,
   "metadata": {
    "id": "roesKrPCcMbp"
   },
   "outputs": [
    {
     "name": "stdout",
     "output_type": "stream",
     "text": [
      "Accuracy: 88.82847256549678 %\n"
     ]
    }
   ],
   "source": [
    "accuracy_score(my_model_humor, test_sents)"
   ]
  },
  {
   "cell_type": "markdown",
   "metadata": {
    "id": "ff_W7J8XwC6e"
   },
   "source": [
    "### Вопрос 5:\n",
    "* Какое качество вы получили(округлите до одного знака после запятой)?"
   ]
  },
  {
   "cell_type": "code",
   "execution_count": 70,
   "metadata": {
    "id": "ptvlpc-6wC6f"
   },
   "outputs": [],
   "source": [
    "# 88.8"
   ]
  },
  {
   "cell_type": "markdown",
   "metadata": {
    "id": "FpAgfZRTwC6h"
   },
   "source": [
    "## DefaultTagger"
   ]
  },
  {
   "cell_type": "markdown",
   "metadata": {
    "id": "9b4cPKyiwC6j"
   },
   "source": [
    "### Вопрос 6:\n",
    "* Какое качество вы бы получили, если бы предсказывали любой тег, как самый популярный тег на выборке train(округлите до одного знака после запятой)?"
   ]
  },
  {
   "cell_type": "markdown",
   "metadata": {
    "id": "Td-0Pe0vwC6k"
   },
   "source": [
    "Вы можете испоьзовать DefaultTagger(метод tag для предсказания частей речи предложения)"
   ]
  },
  {
   "cell_type": "code",
   "execution_count": null,
   "metadata": {
    "id": "NfZYlMxJwC6m"
   },
   "outputs": [],
   "source": [
    "from nltk.tag import DefaultTagger\n",
    "default_tagger = DefaultTagger('''your code''')"
   ]
  },
  {
   "cell_type": "code",
   "execution_count": null,
   "metadata": {
    "id": "9CXKibo_cMcB"
   },
   "outputs": [],
   "source": [
    "'''your code'''"
   ]
  },
  {
   "cell_type": "markdown",
   "metadata": {
    "id": "lz7Q3BfbwC6o"
   },
   "source": [
    "## NLTK, Rnnmorph"
   ]
  },
  {
   "cell_type": "markdown",
   "metadata": {
    "id": "PZvdB22Oyycz"
   },
   "source": [
    "Вспомним первый [семинар](https://colab.research.google.com/drive/1FHZVU6yJT61J8w1hALno0stD4VU36rit?usp=sharing) нашего курса. В том семинаре мы с вами работали c некоторыми библиотеками.\n",
    "\n",
    "Не забудьте преобразовать систему тэгов из `'en-ptb' в 'universal'` с помощью функции `map_tag` или используйте `tagset='universal'`"
   ]
  },
  {
   "cell_type": "code",
   "execution_count": null,
   "metadata": {
    "id": "9bn1TGlGAfuL"
   },
   "outputs": [],
   "source": [
    "from nltk.tag.mapping import map_tag"
   ]
  },
  {
   "cell_type": "code",
   "execution_count": null,
   "metadata": {
    "id": "JJQFfbp8A_cj"
   },
   "outputs": [],
   "source": [
    "import nltk\n",
    "nltk.download('averaged_perceptron_tagger')\n",
    "# nltk.pos_tag(..., tagset='universal')"
   ]
  },
  {
   "cell_type": "code",
   "execution_count": null,
   "metadata": {
    "id": "8LD_61W7N35q"
   },
   "outputs": [],
   "source": [
    "from rnnmorph.predictor import RNNMorphPredictor\n",
    "predictor = RNNMorphPredictor(language=\"en\")"
   ]
  },
  {
   "cell_type": "markdown",
   "metadata": {
    "id": "i1z8x4vvwC6s"
   },
   "source": [
    "### Вопрос 7:\n",
    "* Какое качество вы получили, используя каждую из двух библиотек? Сравните их результаты.\n",
    "\n",
    "* Качество с библиотекой rnnmorph должно быть хуже, так как там используется немного другая система тэгов. Какие здесь отличия?"
   ]
  },
  {
   "cell_type": "code",
   "execution_count": null,
   "metadata": {
    "id": "GBd3RgqVwC6s"
   },
   "outputs": [],
   "source": [
    "'''your code'''"
   ]
  },
  {
   "cell_type": "markdown",
   "metadata": {
    "id": "5w1W5hSkcMcV"
   },
   "source": [
    "## BiLSTMTagger"
   ]
  },
  {
   "cell_type": "markdown",
   "metadata": {
    "id": "mm1-S3t2cMcW"
   },
   "source": [
    "### Подготовка данных"
   ]
  },
  {
   "cell_type": "markdown",
   "metadata": {
    "id": "GayTl7mUcMcX"
   },
   "source": [
    "Изменим структуру данных"
   ]
  },
  {
   "cell_type": "code",
   "execution_count": null,
   "metadata": {
    "id": "CnXcI64fxoj4",
    "scrolled": false
   },
   "outputs": [],
   "source": [
    "pos_data = [list(zip(*sent)) for sent in brown_tagged_sents]\n",
    "print(pos_data[0])"
   ]
  },
  {
   "cell_type": "markdown",
   "metadata": {
    "id": "DpRE3c-3cMcc"
   },
   "source": [
    "До этого мы писали много кода сами, теперь пора эксплуатировать pytorch"
   ]
  },
  {
   "cell_type": "code",
   "execution_count": null,
   "metadata": {
    "id": "gvFlzrYnxokE"
   },
   "outputs": [],
   "source": [
    "from torchtext.legacy.data import Field, BucketIterator\n",
    "import torchtext\n",
    "\n",
    "# наши поля\n",
    "WORD = Field(lower=True)\n",
    "TAG = Field(unk_token=None) # все токены нам извсетны\n",
    "\n",
    "# создаем примеры\n",
    "examples = []\n",
    "for words, tags in pos_data:\n",
    "    examples.append(torchtext.legacy.data.Example.fromlist([list(words), list(tags)], fields=[('words', WORD), ('tags', TAG)]))"
   ]
  },
  {
   "cell_type": "markdown",
   "metadata": {
    "id": "tjl6u6cpOc1u"
   },
   "source": [
    "Вот один наш пример:"
   ]
  },
  {
   "cell_type": "code",
   "execution_count": null,
   "metadata": {
    "id": "dnrzktytN9rL"
   },
   "outputs": [],
   "source": [
    "print(vars(examples[0]))"
   ]
  },
  {
   "cell_type": "markdown",
   "metadata": {
    "id": "nUhTrWCWcMcj"
   },
   "source": [
    "Теперь формируем наш датасет"
   ]
  },
  {
   "cell_type": "code",
   "execution_count": null,
   "metadata": {
    "id": "LGKkbZUIxokO",
    "scrolled": true
   },
   "outputs": [],
   "source": [
    "# кладем примеры в наш датасет\n",
    "dataset = torchtext.legacy.data.Dataset('''your code''', fields=[('words', WORD), ('tags', TAG)])\n",
    "\n",
    "train_data, valid_data, test_data = dataset.split(split_ratio=[0.8, 0.1, 0.1])\n",
    "\n",
    "print(f\"Number of training examples: {len(train_data.examples)}\")\n",
    "print(f\"Number of validation examples: {len(valid_data.examples)}\")\n",
    "print(f\"Number of testing examples: {len(test_data.examples)}\")"
   ]
  },
  {
   "cell_type": "markdown",
   "metadata": {
    "id": "T89unpppcMcp"
   },
   "source": [
    "Построим словари. Параметр `min_freq` выберете сами. При построении словаря испольузем только **train**"
   ]
  },
  {
   "cell_type": "code",
   "execution_count": null,
   "metadata": {
    "id": "tZwkwhlrxoka",
    "scrolled": true
   },
   "outputs": [],
   "source": [
    "WORD.build_vocab('''your code''', min_freq='''your code''')\n",
    "TAG.build_vocab('''your code''')\n",
    "\n",
    "print(f\"Unique tokens in source (ru) vocabulary: {len(WORD.vocab)}\")\n",
    "print(f\"Unique tokens in target (en) vocabulary: {len(TAG.vocab)}\")\n",
    "\n",
    "print(WORD.vocab.itos[::200])\n",
    "print(TAG.vocab.itos)"
   ]
  },
  {
   "cell_type": "code",
   "execution_count": null,
   "metadata": {
    "id": "vjn07NP-xokl",
    "scrolled": true
   },
   "outputs": [],
   "source": [
    "print(vars(train_data.examples[9]))"
   ]
  },
  {
   "cell_type": "markdown",
   "metadata": {
    "id": "LxgkU4cZcMcz"
   },
   "source": [
    "Посмотрим с насколько большими предложениями мы имеем дело"
   ]
  },
  {
   "cell_type": "code",
   "execution_count": null,
   "metadata": {
    "id": "dVpMi1_0xoku",
    "scrolled": true
   },
   "outputs": [],
   "source": [
    "length = map(len, [vars(x)['words'] for x in train_data.examples])\n",
    "\n",
    "plt.figure(figsize=[8, 4])\n",
    "plt.title(\"Length distribution in Train data\")\n",
    "plt.hist(list(length), bins=20);"
   ]
  },
  {
   "cell_type": "markdown",
   "metadata": {
    "id": "yi28N2RBcMc5"
   },
   "source": [
    "Для обучения `BiLSTM` лучше использовать colab"
   ]
  },
  {
   "cell_type": "code",
   "execution_count": null,
   "metadata": {
    "id": "LAGSrqWsxok2",
    "scrolled": true
   },
   "outputs": [],
   "source": [
    "import torch\n",
    "from torch import nn\n",
    "import torch.nn.functional as F\n",
    "import torch.optim as optim\n",
    "\n",
    "device = torch.device('cuda' if torch.cuda.is_available() else 'cpu')\n",
    "device"
   ]
  },
  {
   "cell_type": "markdown",
   "metadata": {
    "id": "2DSWm0UjcMc-"
   },
   "source": [
    "Для более быстрого и устойчивого обучения сгруппируем наши данные по батчам"
   ]
  },
  {
   "cell_type": "code",
   "execution_count": null,
   "metadata": {
    "id": "dmwAyhNgxok_"
   },
   "outputs": [],
   "source": [
    "# бьем нашу выборку на батч, не забывая сначала отсортировать выборку по длине\n",
    "def _len_sort_key(x):\n",
    "    return len(x.words)\n",
    "\n",
    "BATCH_SIZE = 32\n",
    "\n",
    "train_iterator, valid_iterator, test_iterator = BucketIterator.splits(\n",
    "    (train_data, valid_data, test_data), \n",
    "    batch_size = BATCH_SIZE, \n",
    "    device = device,\n",
    "    sort_key=_len_sort_key\n",
    ")"
   ]
  },
  {
   "cell_type": "code",
   "execution_count": null,
   "metadata": {
    "id": "6aTjW00nxolI"
   },
   "outputs": [],
   "source": [
    "# посморим  на количество батчей\n",
    "list(map(len, [train_iterator, valid_iterator, test_iterator]))"
   ]
  },
  {
   "cell_type": "markdown",
   "metadata": {
    "id": "zyLQsizhcMdI"
   },
   "source": [
    "### Модель и её обучение"
   ]
  },
  {
   "cell_type": "markdown",
   "metadata": {
    "id": "-i9oHzcrcMdJ"
   },
   "source": [
    "Инициализируем нашу модель"
   ]
  },
  {
   "cell_type": "code",
   "execution_count": null,
   "metadata": {
    "id": "Ff7BLWs_xolS",
    "scrolled": true
   },
   "outputs": [],
   "source": [
    "class LSTMTagger(nn.Module):\n",
    "\n",
    "    def __init__(self, input_dim, emb_dim, hid_dim, output_dim, dropout, bidirectional=False):\n",
    "        super().__init__()\n",
    "        \n",
    "  \n",
    "        self.embeddings = '''your code'''\n",
    "        self.dropout = '''your code'''\n",
    "        \n",
    "        self.rnn = '''your code'''\n",
    "        # если bidirectional, то предсказываем на основе конкатенации двух hidden\n",
    "        self.tag = nn.Linear((1 + bidirectional) * hid_dim, output_dim)\n",
    "\n",
    "    def forward(self, sent):\n",
    "        \n",
    "        #sent = [sent len, batch size] \n",
    "        \n",
    "        # не забываем применить dropout к embedding\n",
    "        embedded = '''your code'''\n",
    "\n",
    "        output, _ = '''your code'''\n",
    "        #output = [sent len, batch size, hid dim * n directions]\n",
    "\n",
    "        prediction = '''your code'''\n",
    "    \n",
    "        return prediction\n",
    "        \n",
    "# параметры модели\n",
    "INPUT_DIM = '''your code'''\n",
    "OUTPUT_DIM = '''your code'''\n",
    "EMB_DIM = '''your code'''\n",
    "HID_DIM = '''your code'''\n",
    "DROPOUT = '''your code'''\n",
    "BIDIRECTIONAL = '''your code'''\n",
    "\n",
    "model = LSTMTagger('''your code''').to(device)\n",
    "\n",
    "# инициализируем веса\n",
    "def init_weights(m):\n",
    "    for name, param in m.named_parameters():\n",
    "        nn.init.uniform_(param, -0.08, 0.08)\n",
    "        \n",
    "model.apply(init_weights)"
   ]
  },
  {
   "cell_type": "markdown",
   "metadata": {
    "id": "EJLqq8IHcMdQ"
   },
   "source": [
    "Подсчитаем количество обучаемых параметров нашей модели"
   ]
  },
  {
   "cell_type": "code",
   "execution_count": null,
   "metadata": {
    "id": "_Auu53Kdxolm"
   },
   "outputs": [],
   "source": [
    "def count_parameters(model):\n",
    "    return '''your code'''\n",
    "\n",
    "print(f'The model has {count_parameters(model):,} trainable parameters')"
   ]
  },
  {
   "cell_type": "markdown",
   "metadata": {
    "id": "oSBfvf9HcMd9"
   },
   "source": [
    "Погнали обучать"
   ]
  },
  {
   "cell_type": "code",
   "execution_count": null,
   "metadata": {
    "id": "AjD1Y7Rmxolu",
    "scrolled": true
   },
   "outputs": [],
   "source": [
    "PAD_IDX = TAG.vocab.stoi['<pad>']\n",
    "optimizer = optim.Adam(model.parameters())\n",
    "criterion = nn.CrossEntropyLoss(ignore_index = PAD_IDX)\n",
    "\n",
    "def train(model, iterator, optimizer, criterion, clip, train_history=None, valid_history=None):\n",
    "    model.train()\n",
    "    \n",
    "    epoch_loss = 0\n",
    "    history = []\n",
    "    for i, batch in enumerate(iterator):\n",
    "        \n",
    "       '''your code'''\n",
    "        \n",
    "        optimizer.zero_grad()\n",
    "        \n",
    "        output = model('''your code''')\n",
    "        \n",
    "        #tags = [sent len, batch size]\n",
    "        #output = [sent len, batch size, output dim]\n",
    "        \n",
    "        output = '''your code'''\n",
    "        tags = tags.view(-1)\n",
    "        \n",
    "        #tags = [sent len * batch size]\n",
    "        #output = [sent len * batch size, output dim]\n",
    "        \n",
    "        loss = criterion('''your code''')\n",
    "        \n",
    "        loss.backward()\n",
    "        \n",
    "        # Gradient clipping(решение проблемы взрыва граденты), clip - максимальная норма вектора\n",
    "        torch.nn.utils.clip_grad_norm_(model.parameters(), max_norm=clip)\n",
    "        \n",
    "        optimizer.step()\n",
    "        \n",
    "        epoch_loss += loss.item()\n",
    "        \n",
    "        history.append(loss.cpu().data.numpy())\n",
    "        if (i+1)%10==0:\n",
    "            fig, ax = plt.subplots(nrows=1, ncols=2, figsize=(12, 8))\n",
    "\n",
    "            clear_output(True)\n",
    "            ax[0].plot(history, label='train loss')\n",
    "            ax[0].set_xlabel('Batch')\n",
    "            ax[0].set_title('Train loss')\n",
    "            \n",
    "            if train_history is not None:\n",
    "                ax[1].plot(train_history, label='general train history')\n",
    "                ax[1].set_xlabel('Epoch')\n",
    "            if valid_history is not None:\n",
    "                ax[1].plot(valid_history, label='general valid history')\n",
    "            plt.legend()\n",
    "            \n",
    "            plt.show()\n",
    "\n",
    "        \n",
    "    return epoch_loss / len(iterator)\n",
    "\n",
    "def evaluate(model, iterator, criterion):\n",
    "    model.eval()\n",
    "    \n",
    "    epoch_loss = 0\n",
    "    \n",
    "    history = []\n",
    "    \n",
    "    with torch.no_grad():\n",
    "    \n",
    "        for i, batch in enumerate(iterator):\n",
    "\n",
    "            '''your code'''\n",
    "\n",
    "            output = model('''your code''')\n",
    "\n",
    "            #tags = [sent len, batch size]\n",
    "            #output = [sent len, batch size, output dim]\n",
    "\n",
    "            output = '''your code'''\n",
    "            tags = tags.view(-1)\n",
    "\n",
    "            #tags = [sent len * batch size]\n",
    "            #output = [sent len * batch size, output dim]\n",
    "\n",
    "            loss = criterion('''your code''')\n",
    "            \n",
    "            epoch_loss += loss.item()\n",
    "        \n",
    "    return epoch_loss / len(iterator)\n",
    "\n",
    "def epoch_time(start_time, end_time):\n",
    "    elapsed_time = end_time - start_time\n",
    "    elapsed_mins = int(elapsed_time / 60)\n",
    "    elapsed_secs = int(elapsed_time - (elapsed_mins * 60))\n",
    "    return elapsed_mins, elapsed_secs"
   ]
  },
  {
   "cell_type": "code",
   "execution_count": null,
   "metadata": {
    "id": "TJdXIyTHxol2",
    "scrolled": false
   },
   "outputs": [],
   "source": [
    "import time\n",
    "import math\n",
    "import matplotlib\n",
    "matplotlib.rcParams.update({'figure.figsize': (16, 12), 'font.size': 14})\n",
    "import matplotlib.pyplot as plt\n",
    "%matplotlib inline\n",
    "from IPython.display import clear_output\n",
    "\n",
    "train_history = []\n",
    "valid_history = []\n",
    "\n",
    "N_EPOCHS = '''your code'''\n",
    "CLIP = '''your code'''\n",
    "\n",
    "best_valid_loss = float('inf')\n",
    "\n",
    "for epoch in range(N_EPOCHS):\n",
    "    \n",
    "    start_time = time.time()\n",
    "    \n",
    "    train_loss = train(model, train_iterator, optimizer, criterion, CLIP, train_history, valid_history)\n",
    "    valid_loss = evaluate(model, valid_iterator, criterion)\n",
    "    \n",
    "    end_time = time.time()\n",
    "    \n",
    "    epoch_mins, epoch_secs = epoch_time(start_time, end_time)\n",
    "    \n",
    "    if valid_loss < best_valid_loss:\n",
    "        best_valid_loss = valid_loss\n",
    "        torch.save(model.state_dict(), 'best-val-model.pt')\n",
    "\n",
    "    train_history.append(train_loss)\n",
    "    valid_history.append(valid_loss)\n",
    "    print(f'Epoch: {epoch+1:02} | Time: {epoch_mins}m {epoch_secs}s')\n",
    "    print(f'\\tTrain Loss: {train_loss:.3f} | Train PPL: {math.exp(train_loss):7.3f}')\n",
    "    print(f'\\t Val. Loss: {valid_loss:.3f} |  Val. PPL: {math.exp(valid_loss):7.3f}')"
   ]
  },
  {
   "cell_type": "markdown",
   "metadata": {
    "id": "Fr860UPacMeI"
   },
   "source": [
    "### Применение модели"
   ]
  },
  {
   "cell_type": "code",
   "execution_count": null,
   "metadata": {
    "id": "5sDAfAq9xol9"
   },
   "outputs": [],
   "source": [
    "def accuracy_model(model, iterator):\n",
    "    model.eval()\n",
    "    \n",
    "    true_pred = 0\n",
    "    num_pred = 0\n",
    "    \n",
    "    with torch.no_grad():\n",
    "        for i, batch in enumerate(iterator):\n",
    "\n",
    "           '''your code'''\n",
    "\n",
    "            output = model('''your code''')\n",
    "            \n",
    "            #output = [sent len, batch size, output dim]\n",
    "            output = '''your code'''\n",
    "            \n",
    "            #output = [sent len, batch size]\n",
    "            predict_tags = output.cpu().numpy()\n",
    "            true_tags = tags.cpu().numpy()\n",
    "\n",
    "            true_pred += np.sum((true_tags == predict_tags) & (true_tags != PAD_IDX))\n",
    "            num_pred += np.prod(true_tags.shape) - (true_tags == PAD_IDX).sum()\n",
    "        \n",
    "    return round(true_pred / num_pred * 100, 3)"
   ]
  },
  {
   "cell_type": "code",
   "execution_count": null,
   "metadata": {
    "id": "V2n0H85mxomE",
    "scrolled": true
   },
   "outputs": [],
   "source": [
    "print(\"Accuracy:\", accuracy_model(model, test_iterator), '%')"
   ]
  },
  {
   "cell_type": "markdown",
   "metadata": {
    "id": "FacTKSPJcMeP"
   },
   "source": [
    "Вы можете улучшить качество, изменяя параметры модели. Но чтобы добиться нужного качества, вам неообходимо взять все выборку, а не только категорию `humor`."
   ]
  },
  {
   "cell_type": "code",
   "execution_count": null,
   "metadata": {
    "id": "QXqXg0gbcMeR"
   },
   "outputs": [],
   "source": [
    "#brown_tagged_sents = brown.tagged_sents(tagset=\"universal\")"
   ]
  },
  {
   "cell_type": "markdown",
   "metadata": {
    "id": "gnpi2R6rcMeU"
   },
   "source": [
    "Вам неоходимо добиться качества не меньше, чем `accuracy = 93 %` "
   ]
  },
  {
   "cell_type": "code",
   "execution_count": null,
   "metadata": {
    "id": "TqD1lZuwxomK",
    "scrolled": true
   },
   "outputs": [],
   "source": [
    "best_model = LSTMTagger(INPUT_DIM, EMB_DIM, HID_DIM, OUTPUT_DIM, DROPOUT, BIDIRECTIONAL).to(device)\n",
    "best_model.load_state_dict(torch.load('best-val-model.pt'))\n",
    "assert accuracy_model(best_model, test_iterator) >= 93"
   ]
  },
  {
   "cell_type": "markdown",
   "metadata": {
    "id": "nVfdJM-lcMeZ"
   },
   "source": [
    "Пример решение нашей задачи:"
   ]
  },
  {
   "cell_type": "code",
   "execution_count": null,
   "metadata": {
    "id": "W3GUbwldxomW"
   },
   "outputs": [],
   "source": [
    "def print_tags(model, data):\n",
    "    model.eval()\n",
    "    \n",
    "    with torch.no_grad():\n",
    "        words, _ = data\n",
    "        example = torch.LongTensor([WORD.vocab.stoi[elem] for elem in words]).unsqueeze(1).to(device)\n",
    "        \n",
    "        output = model(example).argmax(dim=-1).cpu().numpy()\n",
    "        tags = [TAG.vocab.itos[int(elem)] for elem in output]\n",
    "\n",
    "        for token, tag in zip(words, tags):\n",
    "            print(f'{token:15s}{tag}')"
   ]
  },
  {
   "cell_type": "code",
   "execution_count": null,
   "metadata": {
    "id": "4mQoHc_EcMed",
    "scrolled": false
   },
   "outputs": [],
   "source": [
    "print_tags(model, pos_data[-1])"
   ]
  },
  {
   "cell_type": "markdown",
   "metadata": {
    "heading_collapsed": true,
    "id": "zMIJDOBmwC6v"
   },
   "source": [
    "## Сравните результаты моделей HiddenMarkov, LstmTagger:\n",
    "* при обучение на маленькой части корпуса, например, на категории humor\n",
    "* при обучении на всем корпусе"
   ]
  },
  {
   "cell_type": "code",
   "execution_count": null,
   "metadata": {
    "id": "uDdsG2AjO-sp"
   },
   "outputs": [],
   "source": []
  }
 ],
 "metadata": {
  "colab": {
   "collapsed_sections": [],
   "name": "[homework]language_model.ipynb",
   "provenance": []
  },
  "kernelspec": {
   "display_name": "Python 3",
   "language": "python",
   "name": "python3"
  },
  "language_info": {
   "codemirror_mode": {
    "name": "ipython",
    "version": 3
   },
   "file_extension": ".py",
   "mimetype": "text/x-python",
   "name": "python",
   "nbconvert_exporter": "python",
   "pygments_lexer": "ipython3",
   "version": "3.9.3"
  },
  "toc": {
   "base_numbering": 1,
   "nav_menu": {},
   "number_sections": false,
   "sideBar": true,
   "skip_h1_title": false,
   "title_cell": "Table of Contents",
   "title_sidebar": "Contents",
   "toc_cell": false,
   "toc_position": {},
   "toc_section_display": true,
   "toc_window_display": false
  },
  "varInspector": {
   "cols": {
    "lenName": 16,
    "lenType": 16,
    "lenVar": 40
   },
   "kernels_config": {
    "python": {
     "delete_cmd_postfix": "",
     "delete_cmd_prefix": "del ",
     "library": "var_list.py",
     "varRefreshCmd": "print(var_dic_list())"
    },
    "r": {
     "delete_cmd_postfix": ") ",
     "delete_cmd_prefix": "rm(",
     "library": "var_list.r",
     "varRefreshCmd": "cat(var_dic_list()) "
    }
   },
   "types_to_exclude": [
    "module",
    "function",
    "builtin_function_or_method",
    "instance",
    "_Feature"
   ],
   "window_display": false
  }
 },
 "nbformat": 4,
 "nbformat_minor": 1
}

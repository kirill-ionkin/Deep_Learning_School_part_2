{
 "cells": [
  {
   "cell_type": "markdown",
   "metadata": {
    "id": "Ot3c4fjZwC4T"
   },
   "source": [
    "<img src=\"https://s8.hostingkartinok.com/uploads/images/2018/08/308b49fcfbc619d629fe4604bceb67ac.jpg\" width=200, height=200>\n",
    "<h3 style=\"text-align: center;\"><b>Физтех-Школа Прикладной математики и информатики (ФПМИ) МФТИ</b></h3>"
   ]
  },
  {
   "cell_type": "markdown",
   "metadata": {
    "id": "P2JdzEXmwRU5"
   },
   "source": [
    "---"
   ]
  },
  {
   "cell_type": "markdown",
   "metadata": {
    "id": "Fc8iHXIVwDwj"
   },
   "source": [
    "***Some parts of the notebook are almost the copy of [ mmta-team course](https://github.com/mmta-team/mmta_fall_2020). Special thanks to mmta-team for making them publicly available. [Original notebook](https://github.com/mmta-team/mmta_fall_2020/blob/master/tasks/01_word_embeddings/task_word_embeddings.ipynb).***"
   ]
  },
  {
   "cell_type": "markdown",
   "metadata": {
    "id": "7D0wm5jt6j0U"
   },
   "source": [
    "<b> Прочитайте семинар, пожалуйста, для успешного выполнения домашнего задания. В конце ноутка напишите свой вывод. Работа без вывода оценивается ниже."
   ]
  },
  {
   "cell_type": "markdown",
   "metadata": {
    "id": "BIWqBuEa6j0b"
   },
   "source": [
    "## Задача поиска схожих по смыслу предложений"
   ]
  },
  {
   "cell_type": "markdown",
   "metadata": {
    "id": "NUkwMPLA6j0g"
   },
   "source": [
    "Мы будем ранжировать вопросы [StackOverflow](https://stackoverflow.com) на основе семантического векторного представления "
   ]
  },
  {
   "cell_type": "markdown",
   "metadata": {
    "id": "dNRXIEfu5a3Q"
   },
   "source": [
    "До этого в курсе не было речи про задачу ранжировния, поэтому введем математическую формулировку"
   ]
  },
  {
   "cell_type": "markdown",
   "metadata": {
    "id": "uS9FwWNd5a3S"
   },
   "source": [
    "## Задача ранжирования(Learning to Rank)"
   ]
  },
  {
   "cell_type": "markdown",
   "metadata": {
    "id": "wdwY9-f75a3T"
   },
   "source": [
    "* $X$ - множество объектов\n",
    "* $X^l = \\{x_1, x_2, ..., x_l\\}$ - обучающая выборка\n",
    "<br>На обучающей выборке задан порядок между некоторыми элементами, то есть нам известно, что некий объект выборки более релевантный для нас, чем другой:\n",
    "* $i \\prec j$ - порядок пары индексов объектов на выборке $X^l$ c индексами $i$ и $j$\n",
    "### Задача:\n",
    "построить ранжирующую функцию $a$ : $X \\rightarrow R$ такую, что\n",
    "$$i \\prec j \\Rightarrow a(x_i) < a(x_j)$$"
   ]
  },
  {
   "cell_type": "markdown",
   "metadata": {
    "id": "WG2IGBsh5a3U"
   },
   "source": [
    "<img src=\"https://d25skit2l41vkl.cloudfront.net/wp-content/uploads/2016/12/Featured-Image.jpg\" width=500, height=450>"
   ]
  },
  {
   "cell_type": "markdown",
   "metadata": {
    "id": "MQk_rolFwT_h"
   },
   "source": [
    "### Embeddings"
   ]
  },
  {
   "cell_type": "markdown",
   "metadata": {
    "id": "xUe1PGXn6j0l"
   },
   "source": [
    "Будем использовать предобученные векторные представления слов на постах Stack Overflow.<br>\n",
    "[A word2vec model trained on Stack Overflow posts](https://github.com/vefstathiou/SO_word2vec)"
   ]
  },
  {
   "cell_type": "code",
   "execution_count": null,
   "metadata": {
    "colab": {
     "base_uri": "https://localhost:8080/"
    },
    "executionInfo": {
     "elapsed": 60961,
     "status": "ok",
     "timestamp": 1633960506700,
     "user": {
      "displayName": "Кирилл Ионкин",
      "photoUrl": "https://lh3.googleusercontent.com/a-/AOh14GjG3HOioA1HlkpNy1xqhKKlDr7YAygtL0OTgT3EtA=s64",
      "userId": "05870578380605152071"
     },
     "user_tz": -180
    },
    "id": "mYkI54Y-rk7a",
    "outputId": "36bb15af-3bdf-4d1d-808f-ca9fc6d73211"
   },
   "outputs": [
    {
     "name": "stdout",
     "output_type": "stream",
     "text": [
      "--2021-10-11 13:54:05--  https://zenodo.org/record/1199620/files/SO_vectors_200.bin?download=1\n",
      "Resolving zenodo.org (zenodo.org)... 137.138.76.77\n",
      "Connecting to zenodo.org (zenodo.org)|137.138.76.77|:443... connected.\n",
      "HTTP request sent, awaiting response... 200 OK\n",
      "Length: 1453905423 (1.4G) [application/octet-stream]\n",
      "Saving to: ‘SO_vectors_200.bin?download=1’\n",
      "\n",
      "SO_vectors_200.bin? 100%[===================>]   1.35G  16.0MB/s    in 59s     \n",
      "\n",
      "2021-10-11 13:55:05 (23.5 MB/s) - ‘SO_vectors_200.bin?download=1’ saved [1453905423/1453905423]\n",
      "\n"
     ]
    }
   ],
   "source": [
    "!wget https://zenodo.org/record/1199620/files/SO_vectors_200.bin?download=1"
   ]
  },
  {
   "cell_type": "code",
   "execution_count": null,
   "metadata": {
    "id": "O8YJTOYv6j0s"
   },
   "outputs": [],
   "source": [
    "from gensim.models.keyedvectors import KeyedVectors\n",
    "wv_embeddings = KeyedVectors.load_word2vec_format(\"SO_vectors_200.bin?download=1\", binary=True)"
   ]
  },
  {
   "cell_type": "markdown",
   "metadata": {
    "id": "aIcT_g-C6j1E"
   },
   "source": [
    "#### Как пользоваться этими векторами?"
   ]
  },
  {
   "cell_type": "markdown",
   "metadata": {
    "id": "DWO5SPDY6j1G"
   },
   "source": [
    "Посмотрим на примере одного слова, что из себя представляет embedding"
   ]
  },
  {
   "cell_type": "code",
   "execution_count": null,
   "metadata": {
    "colab": {
     "base_uri": "https://localhost:8080/"
    },
    "executionInfo": {
     "elapsed": 112,
     "status": "ok",
     "timestamp": 1633960532834,
     "user": {
      "displayName": "Кирилл Ионкин",
      "photoUrl": "https://lh3.googleusercontent.com/a-/AOh14GjG3HOioA1HlkpNy1xqhKKlDr7YAygtL0OTgT3EtA=s64",
      "userId": "05870578380605152071"
     },
     "user_tz": -180
    },
    "id": "KeSBlQfk6j1J",
    "outputId": "1d3f2427-2e1f-4e0d-9e3f-bba66cb025c1",
    "scrolled": true
   },
   "outputs": [
    {
     "name": "stdout",
     "output_type": "stream",
     "text": [
      "float32 (200,)\n"
     ]
    }
   ],
   "source": [
    "word = 'dog'\n",
    "if word in wv_embeddings:\n",
    "    print(wv_embeddings[word].dtype, wv_embeddings[word].shape)"
   ]
  },
  {
   "cell_type": "code",
   "execution_count": null,
   "metadata": {
    "colab": {
     "base_uri": "https://localhost:8080/"
    },
    "executionInfo": {
     "elapsed": 98,
     "status": "ok",
     "timestamp": 1633960532836,
     "user": {
      "displayName": "Кирилл Ионкин",
      "photoUrl": "https://lh3.googleusercontent.com/a-/AOh14GjG3HOioA1HlkpNy1xqhKKlDr7YAygtL0OTgT3EtA=s64",
      "userId": "05870578380605152071"
     },
     "user_tz": -180
    },
    "id": "yCT77Mxb_J6S",
    "outputId": "f6d68bbe-5368-43d5-a2b7-e60f7394c14d"
   },
   "outputs": [
    {
     "data": {
      "text/plain": [
       "array([ 0.6851772 , -1.2778991 , -0.41913974,  1.3623164 , -3.1675398 ,\n",
       "        0.09950767,  0.6402681 , -1.1245339 , -0.6699619 , -0.6998852 ,\n",
       "        0.4936771 , -0.40500194, -3.0706816 , -2.2809966 ,  0.85798043,\n",
       "        2.7093108 ,  0.3492745 , -0.03494101, -0.22330493,  1.2290467 ,\n",
       "        1.7755157 , -3.158358  , -0.6515983 ,  0.7224096 ,  2.3193083 ,\n",
       "       -1.7969862 ,  0.40903398, -2.744604  , -1.7179952 , -0.914309  ,\n",
       "       -0.75887376, -0.35140672, -0.5182776 , -1.9097351 , -0.8300773 ,\n",
       "        0.02147918,  1.1783471 ,  0.03169126, -0.3069023 ,  1.6666299 ,\n",
       "        0.6711357 , -2.1706133 , -0.11800487,  0.22336982, -1.2075394 ,\n",
       "       -0.86297905, -0.63865614,  1.1733794 ,  0.10022762,  0.7017279 ,\n",
       "        2.7290728 , -0.4640484 , -2.1719306 , -0.3562852 , -1.8449957 ,\n",
       "        0.10270727,  1.1125596 , -0.8364318 ,  1.9513408 , -0.97937447,\n",
       "        1.2650859 ,  0.06809282,  0.6477318 , -0.52431005, -0.6103959 ,\n",
       "       -2.979829  , -0.7889965 , -0.11004248,  1.7603841 , -1.0547444 ,\n",
       "       -0.98998   , -1.1834062 , -2.5359967 , -0.35286787,  0.7733574 ,\n",
       "        0.16300043,  0.76991326,  1.9223119 , -1.2843752 , -1.5023688 ,\n",
       "        0.15765315, -2.4150877 ,  2.4326491 , -0.36940518,  2.2511673 ,\n",
       "       -1.602164  ,  1.0818797 ,  0.59202737, -2.8141215 , -0.9547914 ,\n",
       "       -1.8816328 , -2.251527  ,  0.208779  ,  0.24186568,  0.36262512,\n",
       "       -1.1487632 , -0.33167967,  1.4389734 ,  0.9608894 ,  0.35947856,\n",
       "       -0.45259392, -0.45514247, -2.1248987 ,  1.828458  , -1.8585896 ,\n",
       "        0.4114255 ,  1.1428199 , -0.50754434, -0.12364098, -3.7919624 ,\n",
       "       -1.3027766 , -1.0333146 ,  0.97529024, -0.9289765 , -0.9175716 ,\n",
       "        0.04012083, -1.7776312 , -0.16942771,  2.318477  ,  0.16809507,\n",
       "        1.5688989 , -1.9980967 , -1.0449845 ,  1.3963503 , -0.13359734,\n",
       "       -1.4952992 , -0.60059625, -0.04604611, -1.8134118 , -0.50812286,\n",
       "       -1.7697111 , -2.6240456 ,  0.50520307, -2.0226426 , -0.8193453 ,\n",
       "       -3.036361  ,  0.32545397, -0.5707175 ,  0.93880373,  1.5678531 ,\n",
       "       -0.4485128 ,  1.4617805 ,  2.6263788 ,  1.0872725 ,  0.21335754,\n",
       "        0.93010294,  3.489708  ,  0.17392842,  0.911422  , -0.61643803,\n",
       "       -2.1106405 ,  0.36008754, -0.32839164, -0.2838782 , -0.23150575,\n",
       "        0.73796517, -1.3399363 , -2.356109  , -2.0610485 , -1.2165475 ,\n",
       "        0.7498155 , -0.19086224, -2.8202996 , -0.37605208,  0.1785639 ,\n",
       "        0.72514814, -0.8697008 ,  0.41977307,  0.04011298, -2.8652422 ,\n",
       "       -0.18194903, -0.5910473 , -2.7400806 , -0.6971266 ,  1.2614748 ,\n",
       "       -1.2979602 , -3.0204656 , -0.743788  ,  1.6838108 ,  0.11611916,\n",
       "        0.84407914, -3.4510055 ,  0.61605287, -1.2632201 , -0.00716789,\n",
       "       -1.2434675 , -0.47464737, -0.7219753 , -0.51104206, -3.793404  ,\n",
       "       -1.0512625 , -1.2473925 , -0.67683965, -0.17455211,  2.6480556 ,\n",
       "       -2.1741571 , -2.2171447 ,  0.71225303,  4.1232347 , -1.4569836 ],\n",
       "      dtype=float32)"
      ]
     },
     "execution_count": 4,
     "metadata": {},
     "output_type": "execute_result"
    }
   ],
   "source": [
    "wv_embeddings[\"dog\"]"
   ]
  },
  {
   "cell_type": "code",
   "execution_count": null,
   "metadata": {
    "colab": {
     "base_uri": "https://localhost:8080/"
    },
    "executionInfo": {
     "elapsed": 86,
     "status": "ok",
     "timestamp": 1633960532838,
     "user": {
      "displayName": "Кирилл Ионкин",
      "photoUrl": "https://lh3.googleusercontent.com/a-/AOh14GjG3HOioA1HlkpNy1xqhKKlDr7YAygtL0OTgT3EtA=s64",
      "userId": "05870578380605152071"
     },
     "user_tz": -180
    },
    "id": "T4Eq-D1qxpMJ",
    "outputId": "31494e88-3173-41e9-c01e-725394aa672e"
   },
   "outputs": [
    {
     "name": "stdout",
     "output_type": "stream",
     "text": [
      "Num of words: 1787145\n"
     ]
    }
   ],
   "source": [
    "print(f\"Num of words: {len(wv_embeddings.index2word)}\")"
   ]
  },
  {
   "cell_type": "markdown",
   "metadata": {
    "id": "ZT6NTCys6j1Q"
   },
   "source": [
    "Найдем наиболее близкие слова к слову `dog`:"
   ]
  },
  {
   "cell_type": "markdown",
   "metadata": {
    "id": "n08z2PjMwC5o"
   },
   "source": [
    "#### Вопрос 1:\n",
    "* Входит ли слов `cat` топ-5 близких слов к слову `dog`? Какое место? "
   ]
  },
  {
   "cell_type": "code",
   "execution_count": null,
   "metadata": {
    "colab": {
     "base_uri": "https://localhost:8080/"
    },
    "executionInfo": {
     "elapsed": 2140,
     "status": "ok",
     "timestamp": 1633960534911,
     "user": {
      "displayName": "Кирилл Ионкин",
      "photoUrl": "https://lh3.googleusercontent.com/a-/AOh14GjG3HOioA1HlkpNy1xqhKKlDr7YAygtL0OTgT3EtA=s64",
      "userId": "05870578380605152071"
     },
     "user_tz": -180
    },
    "id": "nYwVz0xG6j1U",
    "outputId": "aa0ba075-a3f8-4d85-b5fb-6a0fe14661fe",
    "scrolled": true
   },
   "outputs": [
    {
     "data": {
      "text/plain": [
       "[('animal', 0.8564180135726929),\n",
       " ('dogs', 0.7880867123603821),\n",
       " ('mammal', 0.7623804807662964),\n",
       " ('cats', 0.7621253728866577),\n",
       " ('animals', 0.760793924331665),\n",
       " ('feline', 0.7392398118972778),\n",
       " ('bird', 0.7315489053726196),\n",
       " ('animal1', 0.7219215631484985),\n",
       " ('doggy', 0.7213349938392639),\n",
       " ('labrador', 0.7209131717681885)]"
      ]
     },
     "execution_count": 6,
     "metadata": {},
     "output_type": "execute_result"
    }
   ],
   "source": [
    "# method most_simmilar\n",
    "'''your code'''\n",
    "wv_embeddings.most_similar(positive=\"dog\", topn=10)"
   ]
  },
  {
   "cell_type": "code",
   "execution_count": null,
   "metadata": {
    "id": "azNg0A0G_vFZ"
   },
   "outputs": [],
   "source": [
    "# \"cat\" не входит в top-5 близких слов, но входит \"cats\""
   ]
  },
  {
   "cell_type": "code",
   "execution_count": null,
   "metadata": {
    "colab": {
     "base_uri": "https://localhost:8080/"
    },
    "executionInfo": {
     "elapsed": 29,
     "status": "ok",
     "timestamp": 1633960534916,
     "user": {
      "displayName": "Кирилл Ионкин",
      "photoUrl": "https://lh3.googleusercontent.com/a-/AOh14GjG3HOioA1HlkpNy1xqhKKlDr7YAygtL0OTgT3EtA=s64",
      "userId": "05870578380605152071"
     },
     "user_tz": -180
    },
    "id": "WLCyXK4PtA2Q",
    "outputId": "89095514-a827-4db0-affc-3cab3b5ddb33"
   },
   "outputs": [
    {
     "data": {
      "text/plain": [
       "[('animal', 0.8564180135726929),\n",
       " ('dogs', 0.7880867123603821),\n",
       " ('mammal', 0.7623804807662964),\n",
       " ('cats', 0.7621253728866577),\n",
       " ('animals', 0.760793924331665),\n",
       " ('feline', 0.7392398118972778),\n",
       " ('bird', 0.7315489053726196),\n",
       " ('animal1', 0.7219215631484985),\n",
       " ('doggy', 0.7213349938392639),\n",
       " ('labrador', 0.7209131717681885),\n",
       " ('canine', 0.7209056615829468),\n",
       " ('meow', 0.7185295820236206),\n",
       " ('cow', 0.7080444693565369),\n",
       " ('dog2', 0.7057910561561584),\n",
       " ('woof', 0.7050611972808838),\n",
       " ('dog1', 0.7038840055465698),\n",
       " ('dog3', 0.701882004737854),\n",
       " ('penguin', 0.6970292329788208),\n",
       " ('bulldog', 0.6940488815307617),\n",
       " ('mammals', 0.6931389570236206),\n",
       " ('bark', 0.6913799047470093),\n",
       " ('fruit', 0.6892251968383789),\n",
       " ('reptile', 0.6891210079193115),\n",
       " ('furry', 0.6863498687744141),\n",
       " ('carnivore', 0.6862949728965759),\n",
       " ('cat', 0.6852341294288635),\n",
       " ('horse', 0.6833381056785583),\n",
       " ('kitten', 0.6820152997970581),\n",
       " ('sheep', 0.6802570223808289),\n",
       " ('chihuahua', 0.6791757941246033)]"
      ]
     },
     "execution_count": 8,
     "metadata": {},
     "output_type": "execute_result"
    }
   ],
   "source": [
    "wv_embeddings.most_similar(positive=\"dog\", topn=30)"
   ]
  },
  {
   "cell_type": "code",
   "execution_count": null,
   "metadata": {
    "id": "qzVC-9-btlpi"
   },
   "outputs": [],
   "source": [
    "# cat занимает 26-ое место"
   ]
  },
  {
   "cell_type": "markdown",
   "metadata": {
    "id": "ai48-5vv6j1d"
   },
   "source": [
    "### Векторные представления текста\n",
    "\n",
    "Перейдем от векторных представлений отдельных слов к векторным представлениям вопросов, как к **среднему** векторов всех слов в вопросе. Если для какого-то слова нет предобученного вектора, то его нужно пропустить. Если вопрос не содержит ни одного известного слова, то нужно вернуть нулевой вектор."
   ]
  },
  {
   "cell_type": "code",
   "execution_count": null,
   "metadata": {
    "id": "EhNuxBJd6j1f"
   },
   "outputs": [],
   "source": [
    "import numpy as np\n",
    "import re\n",
    "# you can use your tokenizer\n",
    "# for example, from nltk.tokenize import WordPunctTokenizer\n",
    "class MyTokenizer:\n",
    "    def __init__(self):\n",
    "        pass\n",
    "    def tokenize(self, text):\n",
    "        return re.findall('\\w+', text)"
   ]
  },
  {
   "cell_type": "code",
   "execution_count": null,
   "metadata": {
    "id": "YHcvu6186j1m"
   },
   "outputs": [],
   "source": [
    "def question_to_vec(question, embeddings, tokenizer, dim=200):\n",
    "    \"\"\"\n",
    "        question: строка\n",
    "        embeddings: наше векторное представление\n",
    "        dim: размер любого вектора в нашем представлении\n",
    "        \n",
    "        return: векторное представление для вопроса\n",
    "    \"\"\"\n",
    "    \n",
    "    '''your code'''\n",
    "    question_embedding = np.zeros(shape=dim)\n",
    "    num_question_words = 0\n",
    "    for word in tokenizer.tokenize(text=question.lower()):\n",
    "        if word in embeddings:\n",
    "            question_embedding += embeddings[word]\n",
    "            num_question_words += 1\n",
    "    if num_question_words:\n",
    "        return question_embedding / num_question_words\n",
    "    return question_embedding"
   ]
  },
  {
   "cell_type": "markdown",
   "metadata": {
    "id": "u5Q_4j7r6j1u"
   },
   "source": [
    "Теперь у нас есть метод для создания векторного представления любого предложения."
   ]
  },
  {
   "cell_type": "markdown",
   "metadata": {
    "id": "EsJSNkhm6j1y"
   },
   "source": [
    "#### Вопрос 2:\n",
    "* Какая третья(с индексом 2) компонента вектора предложения `I love neural networks` (округлите до 2 знаков после запятой)?"
   ]
  },
  {
   "cell_type": "code",
   "execution_count": null,
   "metadata": {
    "id": "6OSzl3nIy0Z8"
   },
   "outputs": [],
   "source": [
    "example_question = \"I love neural networks\""
   ]
  },
  {
   "cell_type": "code",
   "execution_count": null,
   "metadata": {
    "colab": {
     "base_uri": "https://localhost:8080/"
    },
    "executionInfo": {
     "elapsed": 6,
     "status": "ok",
     "timestamp": 1633961937995,
     "user": {
      "displayName": "Кирилл Ионкин",
      "photoUrl": "https://lh3.googleusercontent.com/a-/AOh14GjG3HOioA1HlkpNy1xqhKKlDr7YAygtL0OTgT3EtA=s64",
      "userId": "05870578380605152071"
     },
     "user_tz": -180
    },
    "id": "0UCA-jWry44c",
    "outputId": "e2b1af2d-c75d-4d1b-896b-d677f029cbf0"
   },
   "outputs": [
    {
     "data": {
      "text/plain": [
       "<gensim.models.keyedvectors.Word2VecKeyedVectors at 0x7f6f51a45fd0>"
      ]
     },
     "execution_count": 60,
     "metadata": {},
     "output_type": "execute_result"
    }
   ],
   "source": [
    "tokenizer = MyTokenizer()\n",
    "wv_embeddings"
   ]
  },
  {
   "cell_type": "code",
   "execution_count": null,
   "metadata": {
    "colab": {
     "base_uri": "https://localhost:8080/"
    },
    "executionInfo": {
     "elapsed": 1195,
     "status": "ok",
     "timestamp": 1633961941769,
     "user": {
      "displayName": "Кирилл Ионкин",
      "photoUrl": "https://lh3.googleusercontent.com/a-/AOh14GjG3HOioA1HlkpNy1xqhKKlDr7YAygtL0OTgT3EtA=s64",
      "userId": "05870578380605152071"
     },
     "user_tz": -180
    },
    "id": "BdcmaL-Ly5oC",
    "outputId": "f2415418-fe5c-471d-cf97-c60420452ea6"
   },
   "outputs": [
    {
     "data": {
      "text/plain": [
       "(200,)"
      ]
     },
     "execution_count": 61,
     "metadata": {},
     "output_type": "execute_result"
    }
   ],
   "source": [
    "question_embedding = question_to_vec(example_question, wv_embeddings, tokenizer, dim=200)\n",
    "question_embedding.shape"
   ]
  },
  {
   "cell_type": "code",
   "execution_count": null,
   "metadata": {
    "colab": {
     "base_uri": "https://localhost:8080/"
    },
    "executionInfo": {
     "elapsed": 6,
     "status": "ok",
     "timestamp": 1633961943340,
     "user": {
      "displayName": "Кирилл Ионкин",
      "photoUrl": "https://lh3.googleusercontent.com/a-/AOh14GjG3HOioA1HlkpNy1xqhKKlDr7YAygtL0OTgT3EtA=s64",
      "userId": "05870578380605152071"
     },
     "user_tz": -180
    },
    "id": "a62r11cT6j10",
    "outputId": "9f7f0b1e-8ca0-4ed0-e4dc-2ab794ca67ff",
    "scrolled": true
   },
   "outputs": [
    {
     "data": {
      "text/plain": [
       "-1.29"
      ]
     },
     "execution_count": 62,
     "metadata": {},
     "output_type": "execute_result"
    }
   ],
   "source": [
    "round(question_embedding[2], 2)"
   ]
  },
  {
   "cell_type": "markdown",
   "metadata": {
    "id": "Y60z4t6W6j16"
   },
   "source": [
    "### Оценка близости текстов\n",
    "\n",
    "Представим, что мы используем идеальные векторные представления слов. Тогда косинусное расстояние между дублирующими предложениями должно быть меньше, чем между случайно взятыми предложениями. \n",
    "\n",
    "Сгенерируем для каждого из $N$ вопросов $R$ случайных отрицательных примеров и примешаем к ним также настоящие дубликаты. Для каждого вопроса будем ранжировать с помощью нашей модели $R + 1$ примеров и смотреть на позицию дубликата. Мы хотим, чтобы дубликат был первым в ранжированном списке.\n",
    "\n",
    "#### Hits@K\n",
    "Первой простой метрикой будет количество корректных попаданий для какого-то $K$:\n",
    "$$ \\text{Hits@K} = \\frac{1}{N}\\sum_{i=1}^N \\, [rank\\_q_i^{'} \\le K],$$\n",
    "* $\\begin{equation*}\n",
    "[x < 0 ] \\equiv \n",
    " \\begin{cases}\n",
    "   1, &x < 0\\\\\n",
    "   0, &x \\geq 0\n",
    " \\end{cases}\n",
    "\\end{equation*}$ - индикаторная функция\n",
    "* $q_i$ - $i$-ый вопрос\n",
    "* $q_i^{'}$ - его дубликат\n",
    "* $rank\\_q_i^{'}$ - позиция дубликата в ранжированном списке ближайших предложений для вопроса $q_i$.\n",
    "\n",
    "#### DCG@K\n",
    "Второй метрикой будет упрощенная DCG метрика, учитывающая порядок элементов в списке путем домножения релевантности элемента на вес равный обратному логарифму номера позиции::\n",
    "$$ \\text{DCG@K} = \\frac{1}{N} \\sum_{i=1}^N\\frac{1}{\\log_2(1+rank\\_q_i^{'})}\\cdot[rank\\_q_i^{'} \\le K],$$\n",
    "С такой метрикой модель штрафуется за большой ранк корректного ответа"
   ]
  },
  {
   "cell_type": "markdown",
   "metadata": {
    "id": "eHCnH-jw6j18"
   },
   "source": [
    "#### Вопрос 3:\n",
    "* Максимум `Hits@47 - DCG@1`?"
   ]
  },
  {
   "cell_type": "code",
   "execution_count": null,
   "metadata": {
    "id": "537vnbIN_GbJ"
   },
   "outputs": [],
   "source": [
    "# Рассуждения по данному вопросу:\n",
    "# Чтобы максимизировать разницу, первое слагаемое должно стремиться к максимально возможному своему значению, а второе слагаемое наоборот должно стремиться к минимально возможному своему значению\n",
    "\n",
    "# max(Hits@47) = 1, если для каждого запроса ранг его дубликата <= 47, что вполне реализуемо чисто теоретически.\n",
    "# min(DCG@1) = 0, если для каждого запроса ранг его дубликата > 1, что также вполне реализуемо теоретически\n",
    "\n",
    "# Тогда, при условии ранжирования так, что выполняются условия выше -> max(Hits@47 - DCG@1) = 1"
   ]
  },
  {
   "cell_type": "markdown",
   "metadata": {
    "id": "_tFemBkP6j1-"
   },
   "source": [
    "<img src='https://hsto.org/files/1c5/edf/dee/1c5edfdeebce4b71a86bdf986d9f88f2.jpg' width=400, height=200>"
   ]
  },
  {
   "cell_type": "markdown",
   "metadata": {
    "id": "0sUSxk866j1_"
   },
   "source": [
    "#### Пример оценок\n",
    "\n",
    "Вычислим описанные выше метрики для игрушечного примера. \n",
    "Пусть\n",
    "* $N = 1$, $R = 3$\n",
    "* <font color='green'>\"Что такое python?\"</font> - вопрос $q_1$\n",
    "* <font color='red'>\"Что такое язык python?\"</font> - его дубликат $q_i^{'}$\n",
    "\n",
    "Пусть модель выдала следующий ранжированный список кандидатов:\n",
    "\n",
    "1. \"Как изучить с++?\"\n",
    "2. <font color='red'>\"Что такое язык python?\"</font>\n",
    "3. \"Хочу учить Java\"\n",
    "4. \"Не понимаю Tensorflow\"\n",
    "\n",
    "$\\Rightarrow rank\\_q_i^{'} = 2$\n",
    "\n",
    "Вычислим метрику *Hits@K* для *K = 1, 4*:\n",
    "\n",
    "- [K = 1] $\\text{Hits@1} =  [rank\\_q_i^{'} \\le 1)] = 0$\n",
    "- [K = 4] $\\text{Hits@4} =  [rank\\_q_i^{'} \\le 4] = 1$\n",
    "\n",
    "Вычислим метрику *DCG@K* для *K = 1, 4*:\n",
    "- [K = 1] $\\text{DCG@1} = \\frac{1}{\\log_2(1+2)}\\cdot[2 \\le 1] = 0$\n",
    "- [K = 4] $\\text{DCG@4} = \\frac{1}{\\log_2(1+2)}\\cdot[2 \\le 4] = \\frac{1}{\\log_2{3}}$"
   ]
  },
  {
   "cell_type": "markdown",
   "metadata": {
    "id": "B4L6HJJC6j2B"
   },
   "source": [
    "#### Вопрос 4:\n",
    "* Вычислите `DCG@10`, если $rank\\_q_i^{'} = 9$(округлите до одного знака после запятой)"
   ]
  },
  {
   "cell_type": "code",
   "execution_count": null,
   "metadata": {
    "id": "x2jypfjCIlGu"
   },
   "outputs": [],
   "source": [
    "import math"
   ]
  },
  {
   "cell_type": "code",
   "execution_count": null,
   "metadata": {
    "colab": {
     "base_uri": "https://localhost:8080/"
    },
    "executionInfo": {
     "elapsed": 26,
     "status": "ok",
     "timestamp": 1633960954444,
     "user": {
      "displayName": "Кирилл Ионкин",
      "photoUrl": "https://lh3.googleusercontent.com/a-/AOh14GjG3HOioA1HlkpNy1xqhKKlDr7YAygtL0OTgT3EtA=s64",
      "userId": "05870578380605152071"
     },
     "user_tz": -180
    },
    "id": "C00dyR7OIdsL",
    "outputId": "7ee73584-0e7c-4257-a507-cdc856223c68"
   },
   "outputs": [
    {
     "data": {
      "text/plain": [
       "0.3"
      ]
     },
     "execution_count": 20,
     "metadata": {},
     "output_type": "execute_result"
    }
   ],
   "source": [
    "# 1/log2(1 + 9) * [9 <= 10]\n",
    "\n",
    "round(1 / math.log(1 + 9, 2), 1)"
   ]
  },
  {
   "cell_type": "markdown",
   "metadata": {
    "id": "J5xWOORI6j2F"
   },
   "source": [
    "### HITS\\_COUNT и DCG\\_SCORE"
   ]
  },
  {
   "cell_type": "markdown",
   "metadata": {
    "id": "I1q9WQOx6j2H"
   },
   "source": [
    "Каждая функция имеет два аргумента: $dup\\_ranks$ и $k$. $dup\\_ranks$ является списком, который содержит рейтинги дубликатов(их позиции в ранжированном списке). Например, $dup\\_ranks = [2]$ для примера, описанного выше."
   ]
  },
  {
   "cell_type": "code",
   "execution_count": null,
   "metadata": {
    "id": "F5VwySUB6j2J"
   },
   "outputs": [],
   "source": [
    "def hits_count(dup_ranks, k):\n",
    "    \"\"\"\n",
    "        dup_ranks: list индексов дубликатов\n",
    "        result: вернуть  Hits@k\n",
    "    \"\"\"\n",
    "    '''your code'''\n",
    "    hits_value = 0\n",
    "    for dup_rank in dup_ranks:\n",
    "        if dup_rank <= k:\n",
    "            hits_value += 1\n",
    "    return hits_value  / len(dup_ranks)   "
   ]
  },
  {
   "cell_type": "code",
   "execution_count": null,
   "metadata": {
    "id": "pYk0PXCeKB_g"
   },
   "outputs": [],
   "source": [
    "import math"
   ]
  },
  {
   "cell_type": "code",
   "execution_count": null,
   "metadata": {
    "id": "82hQaxCH6j2R"
   },
   "outputs": [],
   "source": [
    "def dcg_score(dup_ranks, k):\n",
    "    \"\"\"\n",
    "        dup_ranks: list индексов дубликатов\n",
    "        result: вернуть DCG@k\n",
    "    \"\"\"\n",
    "    '''your code'''\n",
    "    dcg_value = 0\n",
    "    for dup_rank in dup_ranks:\n",
    "        if dup_rank <= k:\n",
    "            dcg_value += 1 / math.log(1 + dup_rank, 2)\n",
    "    return dcg_value / len(dup_ranks)"
   ]
  },
  {
   "cell_type": "markdown",
   "metadata": {
    "id": "PcwHeXN26j2Y"
   },
   "source": [
    "Протестируем функции. Пусть $N = 1$, то есть один эксперимент. Будем искать копию вопроса и оценивать метрики."
   ]
  },
  {
   "cell_type": "code",
   "execution_count": null,
   "metadata": {
    "id": "fjISmOEW6j2h"
   },
   "outputs": [],
   "source": [
    "import pandas as pd"
   ]
  },
  {
   "cell_type": "code",
   "execution_count": null,
   "metadata": {
    "colab": {
     "base_uri": "https://localhost:8080/"
    },
    "executionInfo": {
     "elapsed": 19,
     "status": "ok",
     "timestamp": 1633960989831,
     "user": {
      "displayName": "Кирилл Ионкин",
      "photoUrl": "https://lh3.googleusercontent.com/a-/AOh14GjG3HOioA1HlkpNy1xqhKKlDr7YAygtL0OTgT3EtA=s64",
      "userId": "05870578380605152071"
     },
     "user_tz": -180
    },
    "id": "gLa_Wqfh6j2m",
    "outputId": "df41b50b-c063-46e9-bc83-67abcf58484e"
   },
   "outputs": [
    {
     "name": "stdout",
     "output_type": "stream",
     "text": [
      "Ваш ответ HIT: [0.0, 1.0, 1.0, 1.0]\n",
      "Ваш ответ DCG: [0.0, 0.63093, 0.63093, 0.63093]\n"
     ]
    }
   ],
   "source": [
    "copy_answers = [\"How does the catch keyword determine the type of exception that was thrown\"]\n",
    "\n",
    "# наги кандидаты\n",
    "candidates_ranking = [[\"How Can I Make These Links Rotate in PHP\",\n",
    "                       \"How does the catch keyword determine the type of exception that was thrown\",\n",
    "                       \"NSLog array description not memory address\",\n",
    "                       \"PECL_HTTP not recognised php ubuntu\"],]\n",
    "\n",
    "\n",
    "\n",
    "# вспомогательная ф-я для нахождения ранга дибликата\n",
    "def find_dup_ranks(candidates, copy_answer):\n",
    "    for i, candidate in enumerate(candidates, 1):\n",
    "        if candidate == copy_answer:\n",
    "            return i\n",
    "\n",
    "# dup_ranks — позиции наших копий, так как эксперимент один, то этот массив длины 1\n",
    "dup_ranks = [find_dup_ranks(sentence, copy_answers[i]) for i, sentence in enumerate(candidates_ranking)]\n",
    "\n",
    "# вычисляем метрику для разных k\n",
    "print('Ваш ответ HIT:', [hits_count(dup_ranks, k) for k in range(1, 5)])\n",
    "print('Ваш ответ DCG:', [round(dcg_score(dup_ranks, k), 5) for k in range(1, 5)])"
   ]
  },
  {
   "cell_type": "markdown",
   "metadata": {
    "id": "MoHC3YoQ6j2t"
   },
   "source": [
    "У вас должно получиться"
   ]
  },
  {
   "cell_type": "code",
   "execution_count": null,
   "metadata": {
    "colab": {
     "base_uri": "https://localhost:8080/",
     "height": 111
    },
    "executionInfo": {
     "elapsed": 1264,
     "status": "ok",
     "timestamp": 1633961005170,
     "user": {
      "displayName": "Кирилл Ионкин",
      "photoUrl": "https://lh3.googleusercontent.com/a-/AOh14GjG3HOioA1HlkpNy1xqhKKlDr7YAygtL0OTgT3EtA=s64",
      "userId": "05870578380605152071"
     },
     "user_tz": -180
    },
    "id": "B0NFWq4f6j2u",
    "outputId": "b8f0777b-0bc8-41b6-85e1-a68e46e6169b",
    "scrolled": true
   },
   "outputs": [
    {
     "data": {
      "text/html": [
       "<div>\n",
       "<style scoped>\n",
       "    .dataframe tbody tr th:only-of-type {\n",
       "        vertical-align: middle;\n",
       "    }\n",
       "\n",
       "    .dataframe tbody tr th {\n",
       "        vertical-align: top;\n",
       "    }\n",
       "\n",
       "    .dataframe thead th {\n",
       "        text-align: right;\n",
       "    }\n",
       "</style>\n",
       "<table border=\"1\" class=\"dataframe\">\n",
       "  <thead>\n",
       "    <tr style=\"text-align: right;\">\n",
       "      <th></th>\n",
       "      <th>1</th>\n",
       "      <th>2</th>\n",
       "      <th>3</th>\n",
       "      <th>4</th>\n",
       "    </tr>\n",
       "  </thead>\n",
       "  <tbody>\n",
       "    <tr>\n",
       "      <th>HITS</th>\n",
       "      <td>0</td>\n",
       "      <td>1.00000</td>\n",
       "      <td>1.00000</td>\n",
       "      <td>1.00000</td>\n",
       "    </tr>\n",
       "    <tr>\n",
       "      <th>DCG</th>\n",
       "      <td>0</td>\n",
       "      <td>0.63093</td>\n",
       "      <td>0.63093</td>\n",
       "      <td>0.63093</td>\n",
       "    </tr>\n",
       "  </tbody>\n",
       "</table>\n",
       "</div>"
      ],
      "text/plain": [
       "      1        2        3        4\n",
       "HITS  0  1.00000  1.00000  1.00000\n",
       "DCG   0  0.63093  0.63093  0.63093"
      ]
     },
     "execution_count": 26,
     "metadata": {},
     "output_type": "execute_result"
    }
   ],
   "source": [
    "# correct_answers - метрика для разных k\n",
    "correct_answers = pd.DataFrame([[0, 1, 1, 1], [0, 1 / (np.log2(3)), 1 / (np.log2(3)), 1 / (np.log2(3))]],\n",
    "                               index=['HITS', 'DCG'], columns=range(1,5))\n",
    "correct_answers"
   ]
  },
  {
   "cell_type": "markdown",
   "metadata": {
    "id": "tHZqgDTo6j0i"
   },
   "source": [
    "### Данные\n",
    "[arxiv link](https://drive.google.com/file/d/1QqT4D0EoqJTy7v9VrNCYD-m964XZFR7_/edit)\n",
    "\n",
    "`train.tsv` - выборка для обучения.<br> В каждой строке через табуляцию записаны: **<вопрос>, <похожий вопрос>**\n",
    "\n",
    "`validation.tsv` - тестовая выборка.<br> В каждой строке через табуляцию записаны: **<вопрос>, <похожий вопрос>, <отрицательный пример 1>, <отрицательный пример 2>, ...**"
   ]
  },
  {
   "cell_type": "code",
   "execution_count": null,
   "metadata": {
    "colab": {
     "base_uri": "https://localhost:8080/"
    },
    "executionInfo": {
     "elapsed": 50610,
     "status": "ok",
     "timestamp": 1633961055679,
     "user": {
      "displayName": "Кирилл Ионкин",
      "photoUrl": "https://lh3.googleusercontent.com/a-/AOh14GjG3HOioA1HlkpNy1xqhKKlDr7YAygtL0OTgT3EtA=s64",
      "userId": "05870578380605152071"
     },
     "user_tz": -180
    },
    "id": "MYqR7BKzOU6d",
    "outputId": "2ea61b00-9c8d-493b-b4c4-c5480b024bf6"
   },
   "outputs": [
    {
     "name": "stdout",
     "output_type": "stream",
     "text": [
      "Mounted at /content/drive\n"
     ]
    }
   ],
   "source": [
    "from google.colab import drive\n",
    "drive.mount('/content/drive')"
   ]
  },
  {
   "cell_type": "code",
   "execution_count": null,
   "metadata": {
    "colab": {
     "base_uri": "https://localhost:8080/"
    },
    "executionInfo": {
     "elapsed": 5324,
     "status": "ok",
     "timestamp": 1633961065861,
     "user": {
      "displayName": "Кирилл Ионкин",
      "photoUrl": "https://lh3.googleusercontent.com/a-/AOh14GjG3HOioA1HlkpNy1xqhKKlDr7YAygtL0OTgT3EtA=s64",
      "userId": "05870578380605152071"
     },
     "user_tz": -180
    },
    "id": "jKVK2lDGvrIe",
    "outputId": "d4d58345-3c41-422e-8d8b-aa75a34c54f6"
   },
   "outputs": [
    {
     "name": "stdout",
     "output_type": "stream",
     "text": [
      "Archive:  /content/drive/MyDrive/stackoverflow_similar_questions.zip\n",
      "   creating: data/\n",
      "  inflating: data/.DS_Store          \n",
      "   creating: __MACOSX/\n",
      "   creating: __MACOSX/data/\n",
      "  inflating: __MACOSX/data/._.DS_Store  \n",
      "  inflating: data/train.tsv          \n",
      "  inflating: data/validation.tsv     \n"
     ]
    }
   ],
   "source": [
    "!unzip /content/drive/MyDrive/stackoverflow_similar_questions.zip"
   ]
  },
  {
   "cell_type": "code",
   "execution_count": null,
   "metadata": {
    "colab": {
     "base_uri": "https://localhost:8080/"
    },
    "executionInfo": {
     "elapsed": 34,
     "status": "ok",
     "timestamp": 1633961065864,
     "user": {
      "displayName": "Кирилл Ионкин",
      "photoUrl": "https://lh3.googleusercontent.com/a-/AOh14GjG3HOioA1HlkpNy1xqhKKlDr7YAygtL0OTgT3EtA=s64",
      "userId": "05870578380605152071"
     },
     "user_tz": -180
    },
    "id": "xLlWvPHsOSq_",
    "outputId": "f1a4082f-9b87-477e-c53d-e9df390c5c82"
   },
   "outputs": [
    {
     "name": "stdout",
     "output_type": "stream",
     "text": [
      "total 1419864\n",
      "drwxr-xr-x 1 root root       4096 Oct 11 14:04  \u001b[0m\u001b[01;34m.\u001b[0m/\n",
      "drwxr-xr-x 1 root root       4096 Oct 11 13:52  \u001b[01;34m..\u001b[0m/\n",
      "drwxr-xr-x 4 root root       4096 Sep 30 17:11  \u001b[01;34m.config\u001b[0m/\n",
      "drwxr-xr-x 2 root root       4096 Oct 26  2018  \u001b[01;34mdata\u001b[0m/\n",
      "drwx------ 6 root root       4096 Oct 11 14:04  \u001b[01;34mdrive\u001b[0m/\n",
      "drwxrwxr-x 3 root root       4096 Sep 22  2019  \u001b[01;34m__MACOSX\u001b[0m/\n",
      "drwxr-xr-x 1 root root       4096 Sep 30 17:12  \u001b[01;34msample_data\u001b[0m/\n",
      "-rw-r--r-- 1 root root 1453905423 Oct  3 01:07 'SO_vectors_200.bin?download=1'\n"
     ]
    }
   ],
   "source": [
    "ls -la"
   ]
  },
  {
   "cell_type": "markdown",
   "metadata": {
    "id": "hil2UsUG6j22"
   },
   "source": [
    "Считайте данные."
   ]
  },
  {
   "cell_type": "code",
   "execution_count": null,
   "metadata": {
    "id": "B4EBho8s6j26"
   },
   "outputs": [],
   "source": [
    "def read_corpus(filename):\n",
    "    data = []\n",
    "    for line in open(filename, encoding='utf-8'):\n",
    "        data.append(line.strip().split(\"\\t\"))\n",
    "    \n",
    "    return data"
   ]
  },
  {
   "cell_type": "markdown",
   "metadata": {
    "id": "kkTxY3Mk9_nG"
   },
   "source": [
    "Нам понадобиться только файл validation."
   ]
  },
  {
   "cell_type": "code",
   "execution_count": null,
   "metadata": {
    "id": "PTVB9Tnp6j29"
   },
   "outputs": [],
   "source": [
    "validation_data = read_corpus('./data/validation.tsv')"
   ]
  },
  {
   "cell_type": "code",
   "execution_count": null,
   "metadata": {
    "colab": {
     "base_uri": "https://localhost:8080/"
    },
    "executionInfo": {
     "elapsed": 71,
     "status": "ok",
     "timestamp": 1633961150728,
     "user": {
      "displayName": "Кирилл Ионкин",
      "photoUrl": "https://lh3.googleusercontent.com/a-/AOh14GjG3HOioA1HlkpNy1xqhKKlDr7YAygtL0OTgT3EtA=s64",
      "userId": "05870578380605152071"
     },
     "user_tz": -180
    },
    "id": "ACat2dBbP3lw",
    "outputId": "19baf067-3701-4b14-dfbd-3fbc04a536f7"
   },
   "outputs": [
    {
     "data": {
      "text/plain": [
       "['setGraphic() not working correctly on recursively created TreeItems',\n",
       " 'Strange behaviour of sscanf with string',\n",
       " 'HTTP method for a WCF Restful Service',\n",
       " 'SubSonic .Filter() in memory filter',\n",
       " 'Does ASP.NET MVC use the regular toolbox controls?',\n",
       " 'How can I render a GSP as a String?',\n",
       " 'publishing ASP.Net MVC 4 Project',\n",
       " 'how to hyperlink to a TFS item from visual studio',\n",
       " 'mutex attribute PTHREAD_PROCESS_SHARED inverts logic?',\n",
       " 'Unable to call SOAP Webservice using jQuery']"
      ]
     },
     "execution_count": 35,
     "metadata": {},
     "output_type": "execute_result"
    }
   ],
   "source": [
    "validation_data[1][-10:] # .strip() позволил избавиться от /n"
   ]
  },
  {
   "cell_type": "markdown",
   "metadata": {
    "id": "bTHfL-9y6j3F"
   },
   "source": [
    "Кол-во строк"
   ]
  },
  {
   "cell_type": "code",
   "execution_count": null,
   "metadata": {
    "colab": {
     "base_uri": "https://localhost:8080/"
    },
    "executionInfo": {
     "elapsed": 51,
     "status": "ok",
     "timestamp": 1633961150733,
     "user": {
      "displayName": "Кирилл Ионкин",
      "photoUrl": "https://lh3.googleusercontent.com/a-/AOh14GjG3HOioA1HlkpNy1xqhKKlDr7YAygtL0OTgT3EtA=s64",
      "userId": "05870578380605152071"
     },
     "user_tz": -180
    },
    "id": "z6ubXhIe6j3H",
    "outputId": "4a58d088-2414-4476-9261-b33f839ca3bf",
    "scrolled": false
   },
   "outputs": [
    {
     "data": {
      "text/plain": [
       "3760"
      ]
     },
     "execution_count": 36,
     "metadata": {},
     "output_type": "execute_result"
    }
   ],
   "source": [
    "len(validation_data)"
   ]
  },
  {
   "cell_type": "markdown",
   "metadata": {
    "id": "kaOQblBy6j3M"
   },
   "source": [
    "Размер нескольких первых строк"
   ]
  },
  {
   "cell_type": "code",
   "execution_count": null,
   "metadata": {
    "colab": {
     "base_uri": "https://localhost:8080/"
    },
    "executionInfo": {
     "elapsed": 34,
     "status": "ok",
     "timestamp": 1633961150736,
     "user": {
      "displayName": "Кирилл Ионкин",
      "photoUrl": "https://lh3.googleusercontent.com/a-/AOh14GjG3HOioA1HlkpNy1xqhKKlDr7YAygtL0OTgT3EtA=s64",
      "userId": "05870578380605152071"
     },
     "user_tz": -180
    },
    "id": "yRx6e-Pe6j3M",
    "outputId": "2344c810-1d56-450f-eeca-d9b0dbdab18e"
   },
   "outputs": [
    {
     "name": "stdout",
     "output_type": "stream",
     "text": [
      "1 1001\n",
      "2 1001\n",
      "3 1001\n",
      "4 1001\n",
      "5 1001\n"
     ]
    }
   ],
   "source": [
    "for i in range(5):\n",
    "    print(i + 1, len(validation_data[i]))"
   ]
  },
  {
   "cell_type": "markdown",
   "metadata": {
    "id": "ySQQp0oQt1Ep"
   },
   "source": [
    "### Ранжирование без обучения"
   ]
  },
  {
   "cell_type": "markdown",
   "metadata": {
    "id": "iElEDhj-6j3R"
   },
   "source": [
    "Реализуйте функцию ранжирования кандидатов на основе косинусного расстояния. Функция должна по списку кандидатов вернуть отсортированный список пар (позиция в исходном списке кандидатов, кандидат). При этом позиция кандидата в полученном списке является его рейтингом (первый - лучший). Например, если исходный список кандидатов был [a, b, c], и самый похожий на исходный вопрос среди них - c, затем a, и в конце b, то функция должна вернуть список **[(2, c), (0, a), (1, b)]**."
   ]
  },
  {
   "cell_type": "code",
   "execution_count": null,
   "metadata": {
    "id": "uXfMD_NiZDCb"
   },
   "outputs": [],
   "source": [
    "import pandas as pd"
   ]
  },
  {
   "cell_type": "code",
   "execution_count": null,
   "metadata": {
    "id": "K02JARKr6j3T"
   },
   "outputs": [],
   "source": [
    "from sklearn.metrics.pairwise import cosine_similarity\n",
    "from copy import deepcopy"
   ]
  },
  {
   "cell_type": "code",
   "execution_count": null,
   "metadata": {
    "id": "1yP8wJWj6j3X"
   },
   "outputs": [],
   "source": [
    "def rank_candidates(question, candidates, embeddings, tokenizer, dim=200):\n",
    "    \"\"\"\n",
    "        question: строка\n",
    "        candidates: массив строк(кандидатов) [a, b, c]\n",
    "        result: пары (начальная позиция, кандидат) [(2, c), (0, a), (1, b)]\n",
    "    \"\"\"\n",
    "    '''your code'''\n",
    "\n",
    "    question_embedding = [question_to_vec(question, embeddings, tokenizer, dim)]\n",
    "    candidates_embeddings = [question_to_vec(candidate, embeddings, tokenizer, dim) for candidate in candidates]\n",
    "\n",
    "    cos_similarity = pd.Series(cosine_similarity(X=question_embedding, Y=candidates_embeddings).squeeze()).sort_values(ascending=False)\n",
    "    #print(cos_similarity)\n",
    "\n",
    "    return [(i, candidates[i]) for i in cos_similarity.index]"
   ]
  },
  {
   "cell_type": "markdown",
   "metadata": {
    "id": "TnBszTb76j3c"
   },
   "source": [
    "Протестируйте работу функции на примерах ниже. Пусть $N=2$, то есть два эксперимента"
   ]
  },
  {
   "cell_type": "code",
   "execution_count": null,
   "metadata": {
    "id": "xvQgtP176j3h"
   },
   "outputs": [],
   "source": [
    "questions = ['converting string to list', 'Sending array via Ajax fails'] \n",
    "\n",
    "candidates = [['Convert Google results object (pure js) to Python object', # первый эксперимент\n",
    "               'C# create cookie from string and send it',\n",
    "               'How to use jQuery AJAX for an outside domain?'],\n",
    "              \n",
    "              ['Getting all list items of an unordered list in PHP',      # второй эксперимент\n",
    "               'WPF- How to update the changes in list item of a list',\n",
    "               'select2 not displaying search results']]"
   ]
  },
  {
   "cell_type": "code",
   "execution_count": null,
   "metadata": {
    "colab": {
     "base_uri": "https://localhost:8080/"
    },
    "executionInfo": {
     "elapsed": 83,
     "status": "ok",
     "timestamp": 1633961180624,
     "user": {
      "displayName": "Кирилл Ионкин",
      "photoUrl": "https://lh3.googleusercontent.com/a-/AOh14GjG3HOioA1HlkpNy1xqhKKlDr7YAygtL0OTgT3EtA=s64",
      "userId": "05870578380605152071"
     },
     "user_tz": -180
    },
    "id": "f28M2lZ-XUzR",
    "outputId": "b9a20753-bd40-4f72-da53-67520abfeceb"
   },
   "outputs": [
    {
     "name": "stdout",
     "output_type": "stream",
     "text": [
      "<__main__.MyTokenizer object at 0x7f6f2db96250>\n",
      "<gensim.models.keyedvectors.Word2VecKeyedVectors object at 0x7f6f51a45fd0>\n"
     ]
    }
   ],
   "source": [
    "print(tokenizer)\n",
    "print(wv_embeddings)"
   ]
  },
  {
   "cell_type": "code",
   "execution_count": null,
   "metadata": {
    "colab": {
     "base_uri": "https://localhost:8080/"
    },
    "executionInfo": {
     "elapsed": 71,
     "status": "ok",
     "timestamp": 1633961180626,
     "user": {
      "displayName": "Кирилл Ионкин",
      "photoUrl": "https://lh3.googleusercontent.com/a-/AOh14GjG3HOioA1HlkpNy1xqhKKlDr7YAygtL0OTgT3EtA=s64",
      "userId": "05870578380605152071"
     },
     "user_tz": -180
    },
    "id": "bPj1JGFi6j3m",
    "outputId": "94840dd5-cbd3-4094-d41c-ec61c3e4c475"
   },
   "outputs": [
    {
     "name": "stdout",
     "output_type": "stream",
     "text": [
      "[(1, 'C# create cookie from string and send it'), (0, 'Convert Google results object (pure js) to Python object'), (2, 'How to use jQuery AJAX for an outside domain?')]\n",
      "\n",
      "[(1, 'WPF- How to update the changes in list item of a list'), (0, 'Getting all list items of an unordered list in PHP'), (2, 'select2 not displaying search results')]\n",
      "\n"
     ]
    }
   ],
   "source": [
    "for question, q_candidates in zip(questions, candidates):\n",
    "        ranks = rank_candidates(question, q_candidates, wv_embeddings, tokenizer)\n",
    "        print(ranks)\n",
    "        print()"
   ]
  },
  {
   "cell_type": "markdown",
   "metadata": {
    "id": "jm4cidj56j3q"
   },
   "source": [
    "Для первого экперимента вы можете полностью сравнить ваши ответы и правильные ответы. Но для второго эксперимента два ответа на кандидаты будут <b>скрыты</b>(*)"
   ]
  },
  {
   "cell_type": "code",
   "execution_count": null,
   "metadata": {
    "colab": {
     "base_uri": "https://localhost:8080/",
     "height": 132
    },
    "executionInfo": {
     "elapsed": 1546,
     "status": "error",
     "timestamp": 1633026706232,
     "user": {
      "displayName": "Кирилл Ионкин",
      "photoUrl": "https://lh3.googleusercontent.com/a-/AOh14GjG3HOioA1HlkpNy1xqhKKlDr7YAygtL0OTgT3EtA=s64",
      "userId": "05870578380605152071"
     },
     "user_tz": -180
    },
    "id": "0LeKMIsn6j3s",
    "outputId": "e15b0931-8084-4c94-c2fb-fbf3affd2d77"
   },
   "outputs": [
    {
     "ename": "SyntaxError",
     "evalue": "ignored",
     "output_type": "error",
     "traceback": [
      "\u001b[0;36m  File \u001b[0;32m\"<ipython-input-149-858aee104232>\"\u001b[0;36m, line \u001b[0;32m5\u001b[0m\n\u001b[0;31m    [(*, 'Getting all list items of an unordered list in PHP'), #скрыт\u001b[0m\n\u001b[0m       ^\u001b[0m\n\u001b[0;31mSyntaxError\u001b[0m\u001b[0;31m:\u001b[0m invalid syntax\n"
     ]
    }
   ],
   "source": [
    "# должно вывести\n",
    "results = [[(1, 'C# create cookie from string and send it'),\n",
    "            (0, 'Convert Google results object (pure js) to Python object'),\n",
    "            (2, 'How to use jQuery AJAX for an outside domain?')],\n",
    "           [(*, 'Getting all list items of an unordered list in PHP'), #скрыт\n",
    "            (*, 'select2 not displaying search results'), #скрыт\n",
    "            (*, 'WPF- How to update the changes in list item of a list')]] #скрыт"
   ]
  },
  {
   "cell_type": "markdown",
   "metadata": {
    "id": "t1ttnIBe6j3x"
   },
   "source": [
    "Последовательность начальных индексов вы должны получить `для эксперимента 1`  1, 0, 2."
   ]
  },
  {
   "cell_type": "markdown",
   "metadata": {
    "id": "5WQgYDWd6j3y"
   },
   "source": [
    "#### Вопрос 5:\n",
    "* Какую последовательность начальных индексов вы получили `для эксперимента 2`(перечисление без запятой и пробелов, например, `102` для первого эксперимента?"
   ]
  },
  {
   "cell_type": "code",
   "execution_count": null,
   "metadata": {
    "id": "JpO38D-QdHy5"
   },
   "outputs": [],
   "source": [
    "# 102"
   ]
  },
  {
   "cell_type": "markdown",
   "metadata": {
    "id": "fPllOY-Y6j30"
   },
   "source": [
    "Теперь мы можем оценить качество нашего метода. Запустите следующие два блока кода для получения результата. Обратите внимание, что вычисление расстояния между векторами занимает некоторое время (примерно 10 минут). Можете взять для validation 1000 примеров."
   ]
  },
  {
   "cell_type": "code",
   "execution_count": null,
   "metadata": {
    "id": "Z3q9sxddz-yU"
   },
   "outputs": [],
   "source": [
    "from tqdm.notebook import tqdm"
   ]
  },
  {
   "cell_type": "code",
   "execution_count": null,
   "metadata": {
    "colab": {
     "base_uri": "https://localhost:8080/",
     "height": 49,
     "referenced_widgets": [
      "2fa18c95f7cb42118827f2c2384a8d14",
      "caf26f7b39c443be800aabb5f03275ff",
      "cb3423eda6d24b76acf1bac59dc295a9",
      "258d691acf2d499791419991606a9fec",
      "796a06742dd043c386a4fe96481bf26f",
      "5cd2556e25144d18832dbdd06eab9ba1",
      "76fd7cb5996641d7a34a93337dffae82",
      "afd808a311ad4c078be5ccdb17151da5",
      "503802ba97704beab70f85ccf1170e32",
      "e05c0869a1d64633acb020f9c0f3ca56",
      "fe98d69fd7894c84be1212c88bd30900"
     ]
    },
    "executionInfo": {
     "elapsed": 68989,
     "status": "ok",
     "timestamp": 1633962084548,
     "user": {
      "displayName": "Кирилл Ионкин",
      "photoUrl": "https://lh3.googleusercontent.com/a-/AOh14GjG3HOioA1HlkpNy1xqhKKlDr7YAygtL0OTgT3EtA=s64",
      "userId": "05870578380605152071"
     },
     "user_tz": -180
    },
    "id": "nu7K4mis6j32",
    "outputId": "ef8d43b6-ed3f-48df-efe6-43dfde49ea68"
   },
   "outputs": [
    {
     "data": {
      "application/vnd.jupyter.widget-view+json": {
       "model_id": "2fa18c95f7cb42118827f2c2384a8d14",
       "version_major": 2,
       "version_minor": 0
      },
      "text/plain": [
       "  0%|          | 0/3760 [00:00<?, ?it/s]"
      ]
     },
     "metadata": {},
     "output_type": "display_data"
    }
   ],
   "source": [
    "wv_ranking = []\n",
    "max_validation_examples = 1000\n",
    "for i, line in enumerate(tqdm(validation_data)):\n",
    "    if i == max_validation_examples:\n",
    "        break\n",
    "    q, *ex = line\n",
    "    ranks = rank_candidates(q, ex, wv_embeddings, tokenizer)\n",
    "    wv_ranking.append([r[0] for r in ranks].index(0) + 1)"
   ]
  },
  {
   "cell_type": "code",
   "execution_count": null,
   "metadata": {
    "colab": {
     "base_uri": "https://localhost:8080/",
     "height": 156,
     "referenced_widgets": [
      "2b7c5226fa9b485c86d08ac5df70d83d",
      "e457ef7fc7084539b966530c72d2fefb",
      "e73a7084321e46cf9fe6cedd146c156c",
      "e78a324893ca4cd58af3bcbd24c50770",
      "5519f42cc8fc4ccfb6ceec01f0824666",
      "6a29cbbd1824446181d555ac803a3e0b",
      "ad50796b42b648208aa5affdf1076489",
      "531170edbc4c4dfca1874df309b2d9b2",
      "5085dcf3a3b240d6b007f1378b2373a7",
      "55474fd39a5d494daabacd628415f1ae",
      "8733268a527c4f86a41917d9feed6b0c"
     ]
    },
    "executionInfo": {
     "elapsed": 120,
     "status": "ok",
     "timestamp": 1633962084549,
     "user": {
      "displayName": "Кирилл Ионкин",
      "photoUrl": "https://lh3.googleusercontent.com/a-/AOh14GjG3HOioA1HlkpNy1xqhKKlDr7YAygtL0OTgT3EtA=s64",
      "userId": "05870578380605152071"
     },
     "user_tz": -180
    },
    "id": "gDtS520v6j35",
    "outputId": "91f3bb26-4a50-4d33-8970-4fa7bf4cc2ae",
    "scrolled": true
   },
   "outputs": [
    {
     "data": {
      "application/vnd.jupyter.widget-view+json": {
       "model_id": "2b7c5226fa9b485c86d08ac5df70d83d",
       "version_major": 2,
       "version_minor": 0
      },
      "text/plain": [
       "  0%|          | 0/6 [00:00<?, ?it/s]"
      ]
     },
     "metadata": {},
     "output_type": "display_data"
    },
    {
     "name": "stdout",
     "output_type": "stream",
     "text": [
      "DCG@   1: 0.415 | Hits@   1: 0.415\n",
      "DCG@   5: 0.502 | Hits@   5: 0.582\n",
      "DCG@  10: 0.524 | Hits@  10: 0.650\n",
      "DCG@ 100: 0.570 | Hits@ 100: 0.874\n",
      "DCG@ 500: 0.583 | Hits@ 500: 0.973\n",
      "DCG@1000: 0.586 | Hits@1000: 1.000\n"
     ]
    }
   ],
   "source": [
    "for k in tqdm([1, 5, 10, 100, 500, 1000]):\n",
    "    print(\"DCG@%4d: %.3f | Hits@%4d: %.3f\" % (k, dcg_score(wv_ranking, k), k, hits_count(wv_ranking, k)))"
   ]
  },
  {
   "cell_type": "code",
   "execution_count": null,
   "metadata": {
    "id": "IrJ_-cHgvDgu"
   },
   "outputs": [],
   "source": [
    "# ниже можно увидеть результат, если не использовать .lower()"
   ]
  },
  {
   "cell_type": "markdown",
   "metadata": {
    "id": "mi3n4oYDt8hr"
   },
   "source": [
    "![image.png](data:image/png;base64,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)"
   ]
  },
  {
   "cell_type": "markdown",
   "metadata": {
    "id": "LL6_Rjg3InL8"
   },
   "source": [
    "### Эмбеддинги, обученные на корпусе похожих вопросов"
   ]
  },
  {
   "cell_type": "code",
   "execution_count": null,
   "metadata": {
    "colab": {
     "base_uri": "https://localhost:8080/"
    },
    "executionInfo": {
     "elapsed": 3634,
     "status": "ok",
     "timestamp": 1633962219992,
     "user": {
      "displayName": "Кирилл Ионкин",
      "photoUrl": "https://lh3.googleusercontent.com/a-/AOh14GjG3HOioA1HlkpNy1xqhKKlDr7YAygtL0OTgT3EtA=s64",
      "userId": "05870578380605152071"
     },
     "user_tz": -180
    },
    "id": "iNvbpR5gJIPz",
    "outputId": "37e17eab-8a51-4717-c041-87d13819e4e4"
   },
   "outputs": [
    {
     "data": {
      "text/plain": [
       "['Which HTML 5 Canvas Javascript to use for making an interactive drawing tool?',\n",
       " 'Event handling for geometries in Three.js?']"
      ]
     },
     "execution_count": 66,
     "metadata": {},
     "output_type": "execute_result"
    }
   ],
   "source": [
    "train_data = read_corpus('./data/train.tsv')\n",
    "train_data[1]"
   ]
  },
  {
   "cell_type": "code",
   "execution_count": null,
   "metadata": {
    "colab": {
     "base_uri": "https://localhost:8080/"
    },
    "executionInfo": {
     "elapsed": 14,
     "status": "ok",
     "timestamp": 1633962219994,
     "user": {
      "displayName": "Кирилл Ионкин",
      "photoUrl": "https://lh3.googleusercontent.com/a-/AOh14GjG3HOioA1HlkpNy1xqhKKlDr7YAygtL0OTgT3EtA=s64",
      "userId": "05870578380605152071"
     },
     "user_tz": -180
    },
    "id": "D7NCvNzWmYUS",
    "outputId": "f1c24620-b380-43e1-d15d-f63aa766efbe"
   },
   "outputs": [
    {
     "data": {
      "text/plain": [
       "[['converting string to list',\n",
       "  'Convert Google results object (pure js) to Python object'],\n",
       " ['Which HTML 5 Canvas Javascript to use for making an interactive drawing tool?',\n",
       "  'Event handling for geometries in Three.js?'],\n",
       " ['Sending array via Ajax fails',\n",
       "  'Getting all list items of an unordered list in PHP'],\n",
       " ['How to insert CookieCollection to CookieContainer?',\n",
       "  'C# create cookie from string and send it'],\n",
       " ['Updating one element of a bound Observable collection',\n",
       "  'WPF- How to update the changes in list item of a list']]"
      ]
     },
     "execution_count": 67,
     "metadata": {},
     "output_type": "execute_result"
    }
   ],
   "source": [
    "train_data[:5]"
   ]
  },
  {
   "cell_type": "code",
   "execution_count": null,
   "metadata": {
    "colab": {
     "base_uri": "https://localhost:8080/"
    },
    "executionInfo": {
     "elapsed": 6,
     "status": "ok",
     "timestamp": 1633962220445,
     "user": {
      "displayName": "Кирилл Ионкин",
      "photoUrl": "https://lh3.googleusercontent.com/a-/AOh14GjG3HOioA1HlkpNy1xqhKKlDr7YAygtL0OTgT3EtA=s64",
      "userId": "05870578380605152071"
     },
     "user_tz": -180
    },
    "id": "08j1ZGQN-f3q",
    "outputId": "2f44f685-c31e-49de-ae65-6b9049c73f1a"
   },
   "outputs": [
    {
     "data": {
      "text/plain": [
       "1000000"
      ]
     },
     "execution_count": 68,
     "metadata": {},
     "output_type": "execute_result"
    }
   ],
   "source": [
    "len(train_data)"
   ]
  },
  {
   "cell_type": "markdown",
   "metadata": {
    "id": "Nr281ZyEJfjT"
   },
   "source": [
    "Улучшите качество модели.<br>Склеим вопросы в пары и обучим на них модель Word2Vec из gensim. Выберите размер window. Объясните свой выбор."
   ]
  },
  {
   "cell_type": "code",
   "execution_count": null,
   "metadata": {
    "id": "CChr1OHU61AN"
   },
   "outputs": [],
   "source": [
    "tokenizer = MyTokenizer()"
   ]
  },
  {
   "cell_type": "code",
   "execution_count": null,
   "metadata": {
    "id": "f6Y46SSQMTL0"
   },
   "outputs": [],
   "source": [
    "words = [list(tokenizer.tokenize(\" \".join(corpus))) for corpus in train_data]"
   ]
  },
  {
   "cell_type": "code",
   "execution_count": null,
   "metadata": {
    "colab": {
     "base_uri": "https://localhost:8080/"
    },
    "executionInfo": {
     "elapsed": 23,
     "status": "ok",
     "timestamp": 1633962233858,
     "user": {
      "displayName": "Кирилл Ионкин",
      "photoUrl": "https://lh3.googleusercontent.com/a-/AOh14GjG3HOioA1HlkpNy1xqhKKlDr7YAygtL0OTgT3EtA=s64",
      "userId": "05870578380605152071"
     },
     "user_tz": -180
    },
    "id": "i6Aekji_-TMX",
    "outputId": "3e244994-48b7-497b-968c-a3368565cc03"
   },
   "outputs": [
    {
     "data": {
      "text/plain": [
       "1000000"
      ]
     },
     "execution_count": 71,
     "metadata": {},
     "output_type": "execute_result"
    }
   ],
   "source": [
    "len(words)"
   ]
  },
  {
   "cell_type": "code",
   "execution_count": null,
   "metadata": {
    "colab": {
     "base_uri": "https://localhost:8080/"
    },
    "executionInfo": {
     "elapsed": 16,
     "status": "ok",
     "timestamp": 1633962233858,
     "user": {
      "displayName": "Кирилл Ионкин",
      "photoUrl": "https://lh3.googleusercontent.com/a-/AOh14GjG3HOioA1HlkpNy1xqhKKlDr7YAygtL0OTgT3EtA=s64",
      "userId": "05870578380605152071"
     },
     "user_tz": -180
    },
    "id": "FZQ0VacA-zCg",
    "outputId": "20688a84-b2dd-4675-84dd-2c49b61b23ca"
   },
   "outputs": [
    {
     "data": {
      "text/plain": [
       "['converting',\n",
       " 'string',\n",
       " 'to',\n",
       " 'list',\n",
       " 'Convert',\n",
       " 'Google',\n",
       " 'results',\n",
       " 'object',\n",
       " 'pure',\n",
       " 'js',\n",
       " 'to',\n",
       " 'Python',\n",
       " 'object']"
      ]
     },
     "execution_count": 72,
     "metadata": {},
     "output_type": "execute_result"
    }
   ],
   "source": [
    "words[0]"
   ]
  },
  {
   "cell_type": "code",
   "execution_count": null,
   "metadata": {
    "id": "AiMbiAyAHLj_"
   },
   "outputs": [],
   "source": [
    "# Посмотрим на пример работы обученного нами Word2Vec"
   ]
  },
  {
   "cell_type": "code",
   "execution_count": null,
   "metadata": {
    "id": "QuJzAM0cI-UH"
   },
   "outputs": [],
   "source": [
    "from gensim.models import Word2Vec\n",
    "embeddings_trained = Word2Vec(words,                     # data for model to train on\n",
    "                              size=200,                  # embedding vector size\n",
    "                              min_count=5, # consider words that occured at least 5 times\n",
    "                              window=5).wv"
   ]
  },
  {
   "cell_type": "code",
   "execution_count": null,
   "metadata": {
    "colab": {
     "base_uri": "https://localhost:8080/",
     "height": 49,
     "referenced_widgets": [
      "7a89fe1aa188411fb5aa565eb0ec70e0",
      "33d379fb13424929b7ca1dc823e90464",
      "c7b315bc6caa4b1d80a774a9a25219ee",
      "bfe5bd0b7c1b4ce0991bf99ae43d30f9",
      "0d09365d051646a8808d91e743f242bf",
      "50d4d560add34b2c85ce10a857d75b08",
      "32122e6b84684e26a7834e6d72ad3727",
      "8f13e2b2afe047d18e74cb57037df09b",
      "3abb41aa31db46bf857cfac56967e8ce",
      "9e3d7ce7c92b42258515b3ad3650068d",
      "800a1ce590874e3e86f44b0a3d13ad60"
     ]
    },
    "executionInfo": {
     "elapsed": 84694,
     "status": "ok",
     "timestamp": 1633962521656,
     "user": {
      "displayName": "Кирилл Ионкин",
      "photoUrl": "https://lh3.googleusercontent.com/a-/AOh14GjG3HOioA1HlkpNy1xqhKKlDr7YAygtL0OTgT3EtA=s64",
      "userId": "05870578380605152071"
     },
     "user_tz": -180
    },
    "id": "OQonbm4nMenD",
    "outputId": "79316527-1c90-4401-dec6-49a511f772f1"
   },
   "outputs": [
    {
     "data": {
      "application/vnd.jupyter.widget-view+json": {
       "model_id": "7a89fe1aa188411fb5aa565eb0ec70e0",
       "version_major": 2,
       "version_minor": 0
      },
      "text/plain": [
       "  0%|          | 0/3760 [00:00<?, ?it/s]"
      ]
     },
     "metadata": {},
     "output_type": "display_data"
    }
   ],
   "source": [
    "wv_ranking = []\n",
    "max_validation_examples = 1000\n",
    "for i, line in enumerate(tqdm(validation_data)):\n",
    "    if i == max_validation_examples:\n",
    "        break\n",
    "    q, *ex = line\n",
    "    ranks = rank_candidates(q, ex, embeddings_trained, tokenizer)\n",
    "    wv_ranking.append([r[0] for r in ranks].index(0) + 1)"
   ]
  },
  {
   "cell_type": "code",
   "execution_count": null,
   "metadata": {
    "colab": {
     "base_uri": "https://localhost:8080/",
     "height": 156,
     "referenced_widgets": [
      "45e0ca37342a414ebc0c411b9353ca2d",
      "e3d5899c72674b5aa1044afde0775179",
      "724496f4e45345de8379f18451886bf2",
      "97ea1a1a072843b6a1bc924fa119fdf2",
      "a997965ed9914b93a04907ccae69a7c9",
      "691dd72c4e334535a63bf532dbbba2da",
      "7ab57253e3694a60a3e1103bc6110dbe",
      "83faa88e52b043fea75219ec41ab4dcb",
      "865d5c733a894fcfaf29144f48a8b565",
      "4e7073f89aae4b36bf67f63debefa998",
      "d42dd1319a124f689b81082cdfc3ee70"
     ]
    },
    "executionInfo": {
     "elapsed": 7,
     "status": "ok",
     "timestamp": 1633962521899,
     "user": {
      "displayName": "Кирилл Ионкин",
      "photoUrl": "https://lh3.googleusercontent.com/a-/AOh14GjG3HOioA1HlkpNy1xqhKKlDr7YAygtL0OTgT3EtA=s64",
      "userId": "05870578380605152071"
     },
     "user_tz": -180
    },
    "id": "3kahBUPGMgGR",
    "outputId": "67d3142d-aefc-47de-9d2d-83ea6b76c772"
   },
   "outputs": [
    {
     "data": {
      "application/vnd.jupyter.widget-view+json": {
       "model_id": "45e0ca37342a414ebc0c411b9353ca2d",
       "version_major": 2,
       "version_minor": 0
      },
      "text/plain": [
       "  0%|          | 0/6 [00:00<?, ?it/s]"
      ]
     },
     "metadata": {},
     "output_type": "display_data"
    },
    {
     "name": "stdout",
     "output_type": "stream",
     "text": [
      "DCG@   1: 0.267 | Hits@   1: 0.267\n",
      "DCG@   5: 0.335 | Hits@   5: 0.396\n",
      "DCG@  10: 0.357 | Hits@  10: 0.463\n",
      "DCG@ 100: 0.411 | Hits@ 100: 0.732\n",
      "DCG@ 500: 0.436 | Hits@ 500: 0.922\n",
      "DCG@1000: 0.444 | Hits@1000: 1.000\n"
     ]
    }
   ],
   "source": [
    "for k in tqdm([1, 5, 10, 100, 500, 1000]):\n",
    "    print(\"DCG@%4d: %.3f | Hits@%4d: %.3f\" % (k, dcg_score(wv_ranking, k), k, hits_count(wv_ranking, k)))"
   ]
  },
  {
   "cell_type": "code",
   "execution_count": null,
   "metadata": {
    "id": "L1viHGTivT8h"
   },
   "outputs": [],
   "source": [
    "# ниже также представлен результат, если не использовать .lower()"
   ]
  },
  {
   "cell_type": "markdown",
   "metadata": {
    "id": "EE6lOkxat0cp"
   },
   "source": [
    "![image.png](data:image/png;base64,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)"
   ]
  },
  {
   "cell_type": "code",
   "execution_count": null,
   "metadata": {
    "id": "EcPn1rxRRplo"
   },
   "outputs": [],
   "source": [
    "# Попробуем подобрать более оптимальное значение размера окна"
   ]
  },
  {
   "cell_type": "code",
   "execution_count": 126,
   "metadata": {
    "executionInfo": {
     "elapsed": 2036,
     "status": "ok",
     "timestamp": 1633970344182,
     "user": {
      "displayName": "Кирилл Ионкин",
      "photoUrl": "https://lh3.googleusercontent.com/a-/AOh14GjG3HOioA1HlkpNy1xqhKKlDr7YAygtL0OTgT3EtA=s64",
      "userId": "05870578380605152071"
     },
     "user_tz": -180
    },
    "id": "ER7ewuBzrYxV"
   },
   "outputs": [],
   "source": [
    "# Посмотрим на распределение кол-ва слов в документах\n",
    "from collections import Counter\n",
    "\n",
    "words_count = Counter({i: len(word_i) for i, word_i in enumerate(words)})\n",
    "count = [val for val in words_count.values()]"
   ]
  },
  {
   "cell_type": "code",
   "execution_count": 127,
   "metadata": {
    "colab": {
     "base_uri": "https://localhost:8080/",
     "height": 592
    },
    "executionInfo": {
     "elapsed": 10562,
     "status": "ok",
     "timestamp": 1633970359509,
     "user": {
      "displayName": "Кирилл Ионкин",
      "photoUrl": "https://lh3.googleusercontent.com/a-/AOh14GjG3HOioA1HlkpNy1xqhKKlDr7YAygtL0OTgT3EtA=s64",
      "userId": "05870578380605152071"
     },
     "user_tz": -180
    },
    "id": "Wx3VyvjTLPjP",
    "outputId": "28b5788a-365c-448f-c56f-0e8134aba973"
   },
   "outputs": [
    {
     "data": {
      "image/png": "[encoded data removed]",
      "text/plain": [
       "<Figure size 1080x720 with 1 Axes>"
      ]
     },
     "metadata": {
      "needs_background": "light"
     },
     "output_type": "display_data"
    }
   ],
   "source": [
    "import seaborn as sns\n",
    "import matplotlib.pyplot as plt\n",
    "\n",
    "\n",
    "%matplotlib inline\n",
    "plt.rcParams[\"figure.figsize\"] = (15, 10)\n",
    "\n",
    "sns.histplot(data=count);"
   ]
  },
  {
   "cell_type": "code",
   "execution_count": null,
   "metadata": {
    "id": "d7jzmukIONpw"
   },
   "outputs": [],
   "source": [
    "# кол-во слов в предложении в основном около 10 - 30, поэтому размер окна может быть около 20 или даже больше"
   ]
  },
  {
   "cell_type": "code",
   "execution_count": 130,
   "metadata": {
    "colab": {
     "base_uri": "https://localhost:8080/",
     "height": 1000,
     "referenced_widgets": [
      "9a2b6c5e2846463db0abf733b6d461f1",
      "0cc5e61e76bb46f791b7b6538e4a68b4",
      "2ef5936a7ec243f3a7716b72328ce71c",
      "143d612c2d3944aaaa8a4bcd96c279b5",
      "58c2d78a62d546659af49cc9545c6948",
      "4f7680b12aa448af84e5d476a333c7a6",
      "c816cc112ce844e5929f47b707084175",
      "c5c522ff1666447387e57fb2d1ccb4d1",
      "ea6dff22e16f4e879b0b36406a109b32",
      "d8aee47eba9646a8a8c6c14dc9df206d",
      "12a7bf1e5ae94acc9dd891d83451b494",
      "c4f2d2ddfc9243cc8c6fbf6adf1e24da",
      "d4aab80e7590456cbc042ff9111b7dae",
      "c19e53684381463f846c3b2b247ae13e",
      "0dcfcc7e2d3443c9a4307fa9bbb7bcd7",
      "58bc1f67e50b4350a2e769db990c6a22",
      "d4a3262cdec04c75a850ed0fafac5d29",
      "bed2841b009048b3b5ea32a8d49aa5aa",
      "72b9a8bff4c54f24affd35edb33c40af",
      "59fbde4f50114cedbc6fa32fabaf0bd1",
      "f1d08c6ae4594d9fbe4126ffdaa3f157",
      "cc1d3ee211b346fd821ebb0442588028",
      "a43096a7f51845bdb17f799a14625e36",
      "d4805c02c8ec4db3b86cc8d02caa0f2c",
      "49cc2d1b19e54716bf1ab9dc473e7a04",
      "cb57fde94ba24a2f95a75e6b6e4d506d",
      "0128bab0f84442eabaee243e0873dbac",
      "b968fd86f88543bd9ec63a5265498eeb",
      "c0597006c11b49e88818af651b4be8a6",
      "fc37392e47434900963ab82e40c58f7b",
      "fe2f91230168428f92aec5d042bdb8a3",
      "822dd97aed62489db2c6d85fc97cf439",
      "77431fe49bc642d3bbd5853904a25aaf",
      "0e40998cc82b4a928fa0d973166dfb27",
      "3255aae12bb9459c8c9bb149e9bdffd8",
      "9cdf0fcd349c4a27814ccb865e9392ae",
      "a366629fac824258b7e6bcd51bbb706c",
      "5978ade1d96843caa50ca6dbf7e988a0",
      "0435261737d641bbb8625985441362d0",
      "4553df5af5b8435db52b3c43f2b7752d",
      "2f352d0aa3a340e4bb4b2799475fcd81",
      "a9d915fcf6224b7eb6fff4b417af630a",
      "dffdbbe8112d42ac8656475a58716f37",
      "66abc31ad91d4983bea762944b8c996f",
      "921962372d994c5eadea2e386ff9da6b"
     ]
    },
    "executionInfo": {
     "elapsed": 694878,
     "status": "ok",
     "timestamp": 1633973526990,
     "user": {
      "displayName": "Кирилл Ионкин",
      "photoUrl": "https://lh3.googleusercontent.com/a-/AOh14GjG3HOioA1HlkpNy1xqhKKlDr7YAygtL0OTgT3EtA=s64",
      "userId": "05870578380605152071"
     },
     "user_tz": -180
    },
    "id": "Dvl_9382OfkZ",
    "outputId": "a28bd1ca-2e27-4deb-884f-0f810e0c4cba"
   },
   "outputs": [
    {
     "data": {
      "application/vnd.jupyter.widget-view+json": {
       "model_id": "9a2b6c5e2846463db0abf733b6d461f1",
       "version_major": 2,
       "version_minor": 0
      },
      "text/plain": [
       "  0%|          | 0/3760 [00:00<?, ?it/s]"
      ]
     },
     "metadata": {},
     "output_type": "display_data"
    },
    {
     "metadata": {
      "tags": null
     },
     "name": "stdout",
     "output_type": "stream",
     "text": [
      "window_size: 5\n"
     ]
    },
    {
     "data": {
      "application/vnd.jupyter.widget-view+json": {
       "model_id": "c4f2d2ddfc9243cc8c6fbf6adf1e24da",
       "version_major": 2,
       "version_minor": 0
      },
      "text/plain": [
       "  0%|          | 0/6 [00:00<?, ?it/s]"
      ]
     },
     "metadata": {},
     "output_type": "display_data"
    },
    {
     "metadata": {
      "tags": null
     },
     "name": "stdout",
     "output_type": "stream",
     "text": [
      "DCG@   1: 0.265 | Hits@   1: 0.265\n",
      "DCG@   5: 0.335 | Hits@   5: 0.398\n",
      "DCG@  10: 0.357 | Hits@  10: 0.467\n",
      "DCG@ 100: 0.410 | Hits@ 100: 0.732\n",
      "DCG@ 500: 0.434 | Hits@ 500: 0.919\n",
      "DCG@1000: 0.443 | Hits@1000: 1.000\n",
      "\n"
     ]
    },
    {
     "data": {
      "application/vnd.jupyter.widget-view+json": {
       "model_id": "a43096a7f51845bdb17f799a14625e36",
       "version_major": 2,
       "version_minor": 0
      },
      "text/plain": [
       "  0%|          | 0/3760 [00:00<?, ?it/s]"
      ]
     },
     "metadata": {},
     "output_type": "display_data"
    },
    {
     "metadata": {
      "tags": null
     },
     "name": "stdout",
     "output_type": "stream",
     "text": [
      "window_size: 10\n"
     ]
    },
    {
     "data": {
      "application/vnd.jupyter.widget-view+json": {
       "model_id": "0e40998cc82b4a928fa0d973166dfb27",
       "version_major": 2,
       "version_minor": 0
      },
      "text/plain": [
       "  0%|          | 0/6 [00:00<?, ?it/s]"
      ]
     },
     "metadata": {},
     "output_type": "display_data"
    },
    {
     "metadata": {
      "tags": null
     },
     "name": "stdout",
     "output_type": "stream",
     "text": [
      "DCG@   1: 0.279 | Hits@   1: 0.279\n",
      "DCG@   5: 0.355 | Hits@   5: 0.422\n",
      "DCG@  10: 0.374 | Hits@  10: 0.480\n",
      "DCG@ 100: 0.427 | Hits@ 100: 0.743\n",
      "DCG@ 500: 0.450 | Hits@ 500: 0.923\n",
      "DCG@1000: 0.458 | Hits@1000: 1.000\n",
      "\n"
     ]
    },
    {
     "data": {
      "application/vnd.jupyter.widget-view+json": {
       "model_id": "921962372d994c5eadea2e386ff9da6b",
       "version_major": 2,
       "version_minor": 0
      },
      "text/plain": [
       "  0%|          | 0/3760 [00:00<?, ?it/s]"
      ]
     },
     "metadata": {},
     "output_type": "display_data"
    },
    {
     "name": "stdout",
     "output_type": "stream",
     "text": [
      "window_size: 15\n"
     ]
    },
    {
     "data": {
      "application/vnd.jupyter.widget-view+json": {
       "model_id": "ac4c54e38bd84d8e81c060033a29ac88",
       "version_major": 2,
       "version_minor": 0
      },
      "text/plain": [
       "  0%|          | 0/6 [00:00<?, ?it/s]"
      ]
     },
     "metadata": {},
     "output_type": "display_data"
    },
    {
     "name": "stdout",
     "output_type": "stream",
     "text": [
      "DCG@   1: 0.287 | Hits@   1: 0.287\n",
      "DCG@   5: 0.361 | Hits@   5: 0.429\n",
      "DCG@  10: 0.379 | Hits@  10: 0.488\n",
      "DCG@ 100: 0.432 | Hits@ 100: 0.747\n",
      "DCG@ 500: 0.455 | Hits@ 500: 0.924\n",
      "DCG@1000: 0.463 | Hits@1000: 1.000\n",
      "\n"
     ]
    },
    {
     "data": {
      "application/vnd.jupyter.widget-view+json": {
       "model_id": "843ee5344dfb46be95c608a2499cff4e",
       "version_major": 2,
       "version_minor": 0
      },
      "text/plain": [
       "  0%|          | 0/3760 [00:00<?, ?it/s]"
      ]
     },
     "metadata": {},
     "output_type": "display_data"
    },
    {
     "name": "stdout",
     "output_type": "stream",
     "text": [
      "window_size: 20\n"
     ]
    },
    {
     "data": {
      "application/vnd.jupyter.widget-view+json": {
       "model_id": "4e711b647d294425adb12efee2ebbc21",
       "version_major": 2,
       "version_minor": 0
      },
      "text/plain": [
       "  0%|          | 0/6 [00:00<?, ?it/s]"
      ]
     },
     "metadata": {},
     "output_type": "display_data"
    },
    {
     "name": "stdout",
     "output_type": "stream",
     "text": [
      "DCG@   1: 0.295 | Hits@   1: 0.295\n",
      "DCG@   5: 0.368 | Hits@   5: 0.437\n",
      "DCG@  10: 0.387 | Hits@  10: 0.495\n",
      "DCG@ 100: 0.437 | Hits@ 100: 0.739\n",
      "DCG@ 500: 0.461 | Hits@ 500: 0.924\n",
      "DCG@1000: 0.469 | Hits@1000: 1.000\n",
      "\n"
     ]
    },
    {
     "data": {
      "application/vnd.jupyter.widget-view+json": {
       "model_id": "d3d837d3b10b431da60945ca333786e0",
       "version_major": 2,
       "version_minor": 0
      },
      "text/plain": [
       "  0%|          | 0/3760 [00:00<?, ?it/s]"
      ]
     },
     "metadata": {},
     "output_type": "display_data"
    },
    {
     "name": "stdout",
     "output_type": "stream",
     "text": [
      "window_size: 30\n"
     ]
    },
    {
     "data": {
      "application/vnd.jupyter.widget-view+json": {
       "model_id": "c60efeb652494de690e02d8f12def70e",
       "version_major": 2,
       "version_minor": 0
      },
      "text/plain": [
       "  0%|          | 0/6 [00:00<?, ?it/s]"
      ]
     },
     "metadata": {},
     "output_type": "display_data"
    },
    {
     "name": "stdout",
     "output_type": "stream",
     "text": [
      "DCG@   1: 0.292 | Hits@   1: 0.292\n",
      "DCG@   5: 0.370 | Hits@   5: 0.441\n",
      "DCG@  10: 0.392 | Hits@  10: 0.510\n",
      "DCG@ 100: 0.438 | Hits@ 100: 0.737\n",
      "DCG@ 500: 0.462 | Hits@ 500: 0.927\n",
      "DCG@1000: 0.470 | Hits@1000: 1.000\n",
      "\n"
     ]
    }
   ],
   "source": [
    "# зададим размер окон, которые рассмотрим\n",
    "window_size = [5, 10, 15, 20, 30]\n",
    "\n",
    "for window in window_size:\n",
    "\n",
    "    embeddings_trained = Word2Vec(words,                     # data for model to train on\n",
    "                                  size=200,                  # embedding vector size\n",
    "                                  min_count=5, # consider words that occured at least 5 times\n",
    "                                  window=window).wv\n",
    "    wv_ranking = []\n",
    "    max_validation_examples = 1000\n",
    "    for i, line in enumerate(tqdm(validation_data)):\n",
    "        if i == max_validation_examples:\n",
    "            break\n",
    "        q, *ex = line\n",
    "        ranks = rank_candidates(q, ex, embeddings_trained, tokenizer)\n",
    "        wv_ranking.append([r[0] for r in ranks].index(0) + 1)\n",
    "    \n",
    "    print(\"window_size: {}\".format(window))\n",
    "    for k in tqdm([1, 5, 10, 100, 500, 1000]):\n",
    "        print(\"DCG@%4d: %.3f | Hits@%4d: %.3f\" % (k, dcg_score(wv_ranking, k), k, hits_count(wv_ranking, k)))\n",
    "    print()"
   ]
  },
  {
   "cell_type": "code",
   "execution_count": null,
   "metadata": {
    "id": "9Ff-mS2rmrIt"
   },
   "outputs": [],
   "source": [
    "# как можно заметить, лучшим вариантом оказалось окно размером = 20"
   ]
  },
  {
   "cell_type": "markdown",
   "metadata": {
    "id": "tY8PxB0j-ThG"
   },
   "source": [
    "### Замечание:\n",
    "Решить эту задачу с помощью обучения полноценной нейронной сети будет вам предложено, как часть задания в одной из домашних работ по теме \"Диалоговые системы\"."
   ]
  },
  {
   "cell_type": "markdown",
   "metadata": {
    "id": "vymVj8IxO2PO"
   },
   "source": [
    "Напишите свой вывод о полученных результатах.\n",
    "* Какой принцип токенизации даёт качество лучше и почему?\n",
    "* Помогает ли нормализация слов?\n",
    "* Какие эмбеддинги лучше справляются с задачей и почему?\n",
    "* Почему получилось плохое качество решения задачи?\n",
    "* Предложите свой подход к решению задачи.\n",
    "\n",
    "## Вывод:\n"
   ]
  },
  {
   "cell_type": "markdown",
   "metadata": {
    "id": "emODHztAQUQz"
   },
   "source": [
    "Чтобы ответить на поставленные вопросы, проведём дополнительные действия.\n",
    "\n",
    "А именно:\n",
    "\n",
    "1) Воспользуемся nltk токенайзером\n",
    "\n",
    "2) Применим лемматизация или стемминг + стоп слова\n",
    "\n"
   ]
  },
  {
   "cell_type": "code",
   "execution_count": null,
   "metadata": {
    "id": "nUuvEGYPzUUq"
   },
   "outputs": [],
   "source": [
    "# создаём токенизатор на основе nltk word_tokenize"
   ]
  },
  {
   "cell_type": "code",
   "execution_count": null,
   "metadata": {
    "colab": {
     "base_uri": "https://localhost:8080/"
    },
    "executionInfo": {
     "elapsed": 3768,
     "status": "ok",
     "timestamp": 1633962846840,
     "user": {
      "displayName": "Кирилл Ионкин",
      "photoUrl": "https://lh3.googleusercontent.com/a-/AOh14GjG3HOioA1HlkpNy1xqhKKlDr7YAygtL0OTgT3EtA=s64",
      "userId": "05870578380605152071"
     },
     "user_tz": -180
    },
    "id": "Duik0Bourj-w",
    "outputId": "accab32d-b124-4711-f9d4-293e03d5a94e"
   },
   "outputs": [
    {
     "name": "stdout",
     "output_type": "stream",
     "text": [
      "[nltk_data] Downloading package punkt to /root/nltk_data...\n",
      "[nltk_data]   Unzipping tokenizers/punkt.zip.\n"
     ]
    }
   ],
   "source": [
    "import nltk\n",
    "nltk.download(\"punkt\")\n",
    "from nltk.tokenize import word_tokenize"
   ]
  },
  {
   "cell_type": "code",
   "execution_count": null,
   "metadata": {
    "id": "gvPhdiR3_CZp"
   },
   "outputs": [],
   "source": [
    "class NLTK_Tokenizer():\n",
    "    def __init__(self, word_tokenize=None, stopWords=False, lemmatizer=False):\n",
    "        if word_tokenize is None:\n",
    "            import nltk\n",
    "            word_tokenize = nltk.tokenize.word_tokenize\n",
    "        self.word_tokenize = word_tokenize\n",
    "\n",
    "        if stopWords:\n",
    "            import nltk\n",
    "            nltk.download('stopwords')\n",
    "\n",
    "            from nltk.corpus import stopwords\n",
    "            stopWords = set(stopwords.words('english'))\n",
    "        self.stopWords = stopWords\n",
    "\n",
    "        if lemmatizer:\n",
    "            import nltk\n",
    "            nltk.download('wordnet')\n",
    "            \n",
    "        self.lemmatizer = nltk.WordNetLemmatizer()\n",
    "\n",
    "    def tokenize(self, text):\n",
    "        if self.stopWords and self.lemmatizer:\n",
    "            return [self.lemmatizer.lemmatize(word) for word in self.word_tokenize(text.lower()) if word not in self.stopWords]\n",
    "        elif selt.stopWords:\n",
    "            return [word for word in self.word_tokenize(text.lower()) if word not in self.stopWords]\n",
    "        elif self.lemmatizer:\n",
    "            return [self.lemmatizer.lemmatize(word) for word in self.word_tokenize(text.lower())]\n",
    "        return self.word_tokenize(text.lower())"
   ]
  },
  {
   "cell_type": "code",
   "execution_count": null,
   "metadata": {
    "id": "OyE-9toTxe3F"
   },
   "outputs": [],
   "source": [
    "nltk_tokenizer = NLTK_Tokenizer()"
   ]
  },
  {
   "cell_type": "code",
   "execution_count": null,
   "metadata": {
    "colab": {
     "base_uri": "https://localhost:8080/",
     "height": 49,
     "referenced_widgets": [
      "de855c3165cb4c8ca67bdfcb9b7f878e",
      "75a0143441d8465b8a5996fcbc4d5ec4",
      "c70034b79d74436aafb7677ee837a667",
      "ae94c1044b294f699b812f93834f3cdf",
      "147ba53b6c4b42bb91f1cdae5b387fd2",
      "561b22de13f649aaab8008386dd5865d",
      "65b42d76711b41518a6af4a039b4ffdb",
      "588e744886f948349ecc0cef8a9a4064",
      "077248c84a384302925418d45fd0ba29",
      "05e3ece3d96c49f6aee96f9a3184e746",
      "318d5f7890e44db9804533a48af52389"
     ]
    },
    "executionInfo": {
     "elapsed": 212939,
     "status": "ok",
     "timestamp": 1633963068574,
     "user": {
      "displayName": "Кирилл Ионкин",
      "photoUrl": "https://lh3.googleusercontent.com/a-/AOh14GjG3HOioA1HlkpNy1xqhKKlDr7YAygtL0OTgT3EtA=s64",
      "userId": "05870578380605152071"
     },
     "user_tz": -180
    },
    "id": "6PnSNq-eN0OH",
    "outputId": "89c26788-686d-4785-8bc2-ec5723c8cff2"
   },
   "outputs": [
    {
     "data": {
      "application/vnd.jupyter.widget-view+json": {
       "model_id": "de855c3165cb4c8ca67bdfcb9b7f878e",
       "version_major": 2,
       "version_minor": 0
      },
      "text/plain": [
       "  0%|          | 0/3760 [00:00<?, ?it/s]"
      ]
     },
     "metadata": {},
     "output_type": "display_data"
    }
   ],
   "source": [
    "wv_ranking = []\n",
    "max_validation_examples = 1000\n",
    "for i, line in enumerate(tqdm(validation_data)):\n",
    "    if i == max_validation_examples:\n",
    "        break\n",
    "    q, *ex = line\n",
    "    ranks = rank_candidates(q, ex, wv_embeddings, nltk_tokenizer)\n",
    "    wv_ranking.append([r[0] for r in ranks].index(0) + 1)"
   ]
  },
  {
   "cell_type": "code",
   "execution_count": null,
   "metadata": {
    "colab": {
     "base_uri": "https://localhost:8080/",
     "height": 156,
     "referenced_widgets": [
      "b976639e098040a588f6237460058314",
      "9106e27adfc2478eafb08bcc018a29c3",
      "4c4558f8d7284ac0a9533246b5fe91eb",
      "9f6643fcfdeb4c8c9188a173186e9222",
      "d27f1d9bf8e34a6cb94295a0aa08c7e7",
      "99f25dd11c86477b938ef41270c33422",
      "ca932b4ba35e473c9bf84b6e2c8081fc",
      "060a8851c0f841e6810107f1e9cf7886",
      "1ff146f842ac4c308ecaa3720ff65bb6",
      "2703dd51126944d883e4953ce27d4d59",
      "1a1759fdf36040db84ed6eeffa88fff8"
     ]
    },
    "executionInfo": {
     "elapsed": 29,
     "status": "ok",
     "timestamp": 1633963068575,
     "user": {
      "displayName": "Кирилл Ионкин",
      "photoUrl": "https://lh3.googleusercontent.com/a-/AOh14GjG3HOioA1HlkpNy1xqhKKlDr7YAygtL0OTgT3EtA=s64",
      "userId": "05870578380605152071"
     },
     "user_tz": -180
    },
    "id": "EkXOGZWjmXQV",
    "outputId": "7016ddb5-f9df-484e-84ed-a723ace2a5eb"
   },
   "outputs": [
    {
     "data": {
      "application/vnd.jupyter.widget-view+json": {
       "model_id": "b976639e098040a588f6237460058314",
       "version_major": 2,
       "version_minor": 0
      },
      "text/plain": [
       "  0%|          | 0/6 [00:00<?, ?it/s]"
      ]
     },
     "metadata": {},
     "output_type": "display_data"
    },
    {
     "name": "stdout",
     "output_type": "stream",
     "text": [
      "DCG@   1: 0.399 | Hits@   1: 0.399\n",
      "DCG@   5: 0.487 | Hits@   5: 0.566\n",
      "DCG@  10: 0.509 | Hits@  10: 0.634\n",
      "DCG@ 100: 0.554 | Hits@ 100: 0.858\n",
      "DCG@ 500: 0.569 | Hits@ 500: 0.969\n",
      "DCG@1000: 0.573 | Hits@1000: 1.000\n"
     ]
    }
   ],
   "source": [
    "for k in tqdm([1, 5, 10, 100, 500, 1000]):\n",
    "    print(\"DCG@%4d: %.3f | Hits@%4d: %.3f\" % (k, dcg_score(wv_ranking, k), k, hits_count(wv_ranking, k)))"
   ]
  },
  {
   "cell_type": "code",
   "execution_count": null,
   "metadata": {
    "id": "a0vafJMJxvyy"
   },
   "outputs": [],
   "source": [
    "# посмотрим на токенизатор + лемматизатор + стоп слова"
   ]
  },
  {
   "cell_type": "code",
   "execution_count": null,
   "metadata": {
    "colab": {
     "base_uri": "https://localhost:8080/"
    },
    "executionInfo": {
     "elapsed": 1397,
     "status": "ok",
     "timestamp": 1633965920953,
     "user": {
      "displayName": "Кирилл Ионкин",
      "photoUrl": "https://lh3.googleusercontent.com/a-/AOh14GjG3HOioA1HlkpNy1xqhKKlDr7YAygtL0OTgT3EtA=s64",
      "userId": "05870578380605152071"
     },
     "user_tz": -180
    },
    "id": "QSyUwGD77ye_",
    "outputId": "edb6037c-f5eb-4448-cd85-ecc1ec0582b1"
   },
   "outputs": [
    {
     "name": "stdout",
     "output_type": "stream",
     "text": [
      "[nltk_data] Downloading package stopwords to /root/nltk_data...\n",
      "[nltk_data]   Package stopwords is already up-to-date!\n",
      "[nltk_data] Downloading package stopwords to /root/nltk_data...\n",
      "[nltk_data]   Package stopwords is already up-to-date!\n",
      "[nltk_data] Downloading package wordnet to /root/nltk_data...\n",
      "[nltk_data]   Unzipping corpora/wordnet.zip.\n"
     ]
    }
   ],
   "source": [
    "nltk_tokenizer_v1 = NLTK_Tokenizer(stopWords=True)\n",
    "nltk_tokenizer_v2 = NLTK_Tokenizer(lemmatizer=True, stopWords=True)"
   ]
  },
  {
   "cell_type": "code",
   "execution_count": null,
   "metadata": {
    "id": "Bor0fVqc9hrZ"
   },
   "outputs": [],
   "source": [
    "# добавляем стоп слова"
   ]
  },
  {
   "cell_type": "code",
   "execution_count": null,
   "metadata": {
    "colab": {
     "base_uri": "https://localhost:8080/",
     "height": 49,
     "referenced_widgets": [
      "bb277dcc1e204577828d962337bf6ad0",
      "cc2e3795f2e146159464b0889b8f7555",
      "6768784332ff4d61ae5253dac15bebd3",
      "997ff6d0878a419ea86b342824d5b270",
      "737d602d5a4645bc997720786fc28ca5",
      "1d01a6a7ec1e4a22a09a98f94684e61f",
      "babefb5447d24c3fac1092c9932b7a80",
      "6d79fd2a1a7a43f58a2af46f4346c91b",
      "60a4d9b5306346e0801e29a95f0faa8c",
      "eb84ed5e28bf4cf586a8979419b2d118",
      "64b9299693bb4ad4806353ed073cfe0c"
     ]
    },
    "executionInfo": {
     "elapsed": 258574,
     "status": "ok",
     "timestamp": 1633966212061,
     "user": {
      "displayName": "Кирилл Ионкин",
      "photoUrl": "https://lh3.googleusercontent.com/a-/AOh14GjG3HOioA1HlkpNy1xqhKKlDr7YAygtL0OTgT3EtA=s64",
      "userId": "05870578380605152071"
     },
     "user_tz": -180
    },
    "id": "lHu8slso7zFh",
    "outputId": "f72d4bfd-156d-499a-abaa-2a8fb14f6c1b"
   },
   "outputs": [
    {
     "data": {
      "application/vnd.jupyter.widget-view+json": {
       "model_id": "bb277dcc1e204577828d962337bf6ad0",
       "version_major": 2,
       "version_minor": 0
      },
      "text/plain": [
       "  0%|          | 0/3760 [00:00<?, ?it/s]"
      ]
     },
     "metadata": {},
     "output_type": "display_data"
    }
   ],
   "source": [
    "wv_ranking = []\n",
    "max_validation_examples = 1000\n",
    "for i, line in enumerate(tqdm(validation_data)):\n",
    "    if i == max_validation_examples:\n",
    "        break\n",
    "    q, *ex = line\n",
    "    ranks = rank_candidates(q, ex, wv_embeddings, nltk_tokenizer_v1)\n",
    "    wv_ranking.append([r[0] for r in ranks].index(0) + 1)"
   ]
  },
  {
   "cell_type": "code",
   "execution_count": null,
   "metadata": {
    "colab": {
     "base_uri": "https://localhost:8080/",
     "height": 156,
     "referenced_widgets": [
      "ea95e3fe3c6f498983d89362582a27e9",
      "304e39b96ed44ad6993f4a06f3770574",
      "8a05043b3add4dd4a8b52e779df076ae",
      "b80abcf64e034d86b97ca669ce04d1d5",
      "0dc88f1039954534a16e190991359e43",
      "4dde92c6aef9425b956ad3ce59bd761d",
      "fa5e193810d848dfa3432bc1d65769f1",
      "8cdc54c8812d4f79a126e160e07e96b1",
      "1acc2a2be9dc4b63b5d72180c5d18700",
      "2222fc8de43d45d18a8ec7bc2a28ac87",
      "18ecbfb956434dc08fec906404513954"
     ]
    },
    "executionInfo": {
     "elapsed": 30,
     "status": "ok",
     "timestamp": 1633966212074,
     "user": {
      "displayName": "Кирилл Ионкин",
      "photoUrl": "https://lh3.googleusercontent.com/a-/AOh14GjG3HOioA1HlkpNy1xqhKKlDr7YAygtL0OTgT3EtA=s64",
      "userId": "05870578380605152071"
     },
     "user_tz": -180
    },
    "id": "qd0EBhLH9cye",
    "outputId": "b5fd7639-ac07-4403-c07d-cda9e220b40d"
   },
   "outputs": [
    {
     "data": {
      "application/vnd.jupyter.widget-view+json": {
       "model_id": "ea95e3fe3c6f498983d89362582a27e9",
       "version_major": 2,
       "version_minor": 0
      },
      "text/plain": [
       "  0%|          | 0/6 [00:00<?, ?it/s]"
      ]
     },
     "metadata": {},
     "output_type": "display_data"
    },
    {
     "name": "stdout",
     "output_type": "stream",
     "text": [
      "DCG@   1: 0.392 | Hits@   1: 0.392\n",
      "DCG@   5: 0.482 | Hits@   5: 0.565\n",
      "DCG@  10: 0.503 | Hits@  10: 0.630\n",
      "DCG@ 100: 0.549 | Hits@ 100: 0.856\n",
      "DCG@ 500: 0.563 | Hits@ 500: 0.965\n",
      "DCG@1000: 0.567 | Hits@1000: 1.000\n"
     ]
    }
   ],
   "source": [
    "for k in tqdm([1, 5, 10, 100, 500, 1000]):\n",
    "    print(\"DCG@%4d: %.3f | Hits@%4d: %.3f\" % (k, dcg_score(wv_ranking, k), k, hits_count(wv_ranking, k)))"
   ]
  },
  {
   "cell_type": "code",
   "execution_count": null,
   "metadata": {
    "id": "1Ij3fO8X9g1H"
   },
   "outputs": [],
   "source": [
    "# стоп-слова + лемматризатор"
   ]
  },
  {
   "cell_type": "code",
   "execution_count": 101,
   "metadata": {
    "colab": {
     "base_uri": "https://localhost:8080/",
     "height": 49,
     "referenced_widgets": [
      "4c1e331afa164b45a8a98f1c2a9c03e0",
      "96ee2bb7191d4844bf07235599bb5b57",
      "a6c79da8dde4442f80b587c6653f369a",
      "b3972a5b229f43bbaabc71bc7ecee82d",
      "50ebfd8545b94a6b969b30099b4da6ea",
      "87615c75c5d046a0b3f3c5a339172f95",
      "8d4d8c86bbcd41799af28bec8431bf6b",
      "ae32ff2109bb4c6bb99e06166e446b78",
      "05862a53f25340b3a183dcd9cf2577e5",
      "6efe1e16559b4abfa57d697c2b7d5f49",
      "e62fcbd93d9b4e7ebb6e75fe5b520a37"
     ]
    },
    "executionInfo": {
     "elapsed": 250474,
     "status": "ok",
     "timestamp": 1633966822277,
     "user": {
      "displayName": "Кирилл Ионкин",
      "photoUrl": "https://lh3.googleusercontent.com/a-/AOh14GjG3HOioA1HlkpNy1xqhKKlDr7YAygtL0OTgT3EtA=s64",
      "userId": "05870578380605152071"
     },
     "user_tz": -180
    },
    "id": "pap4Ml7N92TH",
    "outputId": "7ea386fe-edac-422c-e808-7319c1a837a2"
   },
   "outputs": [
    {
     "data": {
      "application/vnd.jupyter.widget-view+json": {
       "model_id": "4c1e331afa164b45a8a98f1c2a9c03e0",
       "version_major": 2,
       "version_minor": 0
      },
      "text/plain": [
       "  0%|          | 0/3760 [00:00<?, ?it/s]"
      ]
     },
     "metadata": {},
     "output_type": "display_data"
    }
   ],
   "source": [
    "wv_ranking = []\n",
    "max_validation_examples = 1000\n",
    "for i, line in enumerate(tqdm(validation_data)):\n",
    "    if i == max_validation_examples:\n",
    "        break\n",
    "    q, *ex = line\n",
    "    ranks = rank_candidates(q, ex, wv_embeddings, nltk_tokenizer_v2)\n",
    "    wv_ranking.append([r[0] for r in ranks].index(0) + 1)"
   ]
  },
  {
   "cell_type": "code",
   "execution_count": 102,
   "metadata": {
    "colab": {
     "base_uri": "https://localhost:8080/",
     "height": 156
    },
    "executionInfo": {
     "elapsed": 845,
     "status": "ok",
     "timestamp": 1633966823042,
     "user": {
      "displayName": "Кирилл Ионкин",
      "photoUrl": "https://lh3.googleusercontent.com/a-/AOh14GjG3HOioA1HlkpNy1xqhKKlDr7YAygtL0OTgT3EtA=s64",
      "userId": "05870578380605152071"
     },
     "user_tz": -180
    },
    "id": "kEz27MWt-DOW",
    "outputId": "38b2a693-e43f-4f09-c949-21c179f3580f"
   },
   "outputs": [
    {
     "data": {
      "application/vnd.jupyter.widget-view+json": {
       "model_id": "8d9ed82649644f59be3f5fa378884349",
       "version_major": 2,
       "version_minor": 0
      },
      "text/plain": [
       "  0%|          | 0/6 [00:00<?, ?it/s]"
      ]
     },
     "metadata": {},
     "output_type": "display_data"
    },
    {
     "name": "stdout",
     "output_type": "stream",
     "text": [
      "DCG@   1: 0.392 | Hits@   1: 0.392\n",
      "DCG@   5: 0.482 | Hits@   5: 0.565\n",
      "DCG@  10: 0.503 | Hits@  10: 0.630\n",
      "DCG@ 100: 0.549 | Hits@ 100: 0.856\n",
      "DCG@ 500: 0.563 | Hits@ 500: 0.965\n",
      "DCG@1000: 0.567 | Hits@1000: 1.000\n"
     ]
    }
   ],
   "source": [
    "for k in tqdm([1, 5, 10, 100, 500, 1000]):\n",
    "    print(\"DCG@%4d: %.3f | Hits@%4d: %.3f\" % (k, dcg_score(wv_ranking, k), k, hits_count(wv_ranking, k)))"
   ]
  },
  {
   "cell_type": "code",
   "execution_count": 103,
   "metadata": {
    "executionInfo": {
     "elapsed": 688,
     "status": "ok",
     "timestamp": 1633967383075,
     "user": {
      "displayName": "Кирилл Ионкин",
      "photoUrl": "https://lh3.googleusercontent.com/a-/AOh14GjG3HOioA1HlkpNy1xqhKKlDr7YAygtL0OTgT3EtA=s64",
      "userId": "05870578380605152071"
     },
     "user_tz": -180
    },
    "id": "BcnyO41N-a8n"
   },
   "outputs": [],
   "source": [
    "# Как можно заметить, качество ранжирования на предобученных эмбеддингах при условии нормализации и nltk токенайзера\n",
    "# слегка ухудщулось, что наводит на мысль, что словарь предобученных эмбеддингов настолько широк, что включает в себя многие отфильтрованные нами слова\n",
    "# и в данном случае этого делать не надо "
   ]
  },
  {
   "cell_type": "code",
   "execution_count": null,
   "metadata": {
    "id": "fG4s3C82C5au"
   },
   "outputs": [],
   "source": [
    "# С данной задачей ранжирования лучше справились предобученные эмбеддинги\n",
    "# Возможно, структура каждого документа, полученная с помощью train.tsv, не является достаточной в том смысле, что взяты всего лишь 2 вопроса\n",
    "# А пройдясь по 2м вопросам и подсчистав необходимые метрики, этого может оказаться недостаточным.... всё таки всего лишь 2 предложения ... по моему мнению\n",
    "# этого недостаточно\n",
    "\n",
    "# Поэтому, для обучения своих эмбеддингов, каждый их документов должен содержать большее кол-во информации...\n",
    "# К примеру можно увеличить кол-во ближайших по смыслу вопросов с помощью и на них уже обучать Word2Vec"
   ]
  }
 ],
 "metadata": {
  "colab": {
   "collapsed_sections": [
    "0sUSxk866j1_"
   ],
   "name": "[homework]simple_embeddings.ipynb",
   "provenance": []
  },
  "kernelspec": {
   "display_name": "Python 3",
   "language": "python",
   "name": "python3"
  },
  "language_info": {
   "codemirror_mode": {
    "name": "ipython",
    "version": 3
   },
   "file_extension": ".py",
   "mimetype": "text/x-python",
   "name": "python",
   "nbconvert_exporter": "python",
   "pygments_lexer": "ipython3",
   "version": "3.9.3"
  },
  "widgets": {
   "application/vnd.jupyter.widget-state+json": {
    "0128bab0f84442eabaee243e0873dbac": {
     "model_module": "@jupyter-widgets/controls",
     "model_module_version": "1.5.0",
     "model_name": "HTMLModel",
     "state": {
      "_dom_classes": [],
      "_model_module": "@jupyter-widgets/controls",
      "_model_module_version": "1.5.0",
      "_model_name": "HTMLModel",
      "_view_count": null,
      "_view_module": "@jupyter-widgets/controls",
      "_view_module_version": "1.5.0",
      "_view_name": "HTMLView",
      "description": "",
      "description_tooltip": null,
      "layout": "IPY_MODEL_77431fe49bc642d3bbd5853904a25aaf",
      "placeholder": "​",
      "style": "IPY_MODEL_822dd97aed62489db2c6d85fc97cf439",
      "value": " 1000/3760 [01:29&lt;04:00, 11.47it/s]"
     }
    },
    "0435261737d641bbb8625985441362d0": {
     "model_module": "@jupyter-widgets/controls",
     "model_module_version": "1.5.0",
     "model_name": "DescriptionStyleModel",
     "state": {
      "_model_module": "@jupyter-widgets/controls",
      "_model_module_version": "1.5.0",
      "_model_name": "DescriptionStyleModel",
      "_view_count": null,
      "_view_module": "@jupyter-widgets/base",
      "_view_module_version": "1.2.0",
      "_view_name": "StyleView",
      "description_width": ""
     }
    },
    "05862a53f25340b3a183dcd9cf2577e5": {
     "model_module": "@jupyter-widgets/base",
     "model_module_version": "1.2.0",
     "model_name": "LayoutModel",
     "state": {
      "_model_module": "@jupyter-widgets/base",
      "_model_module_version": "1.2.0",
      "_model_name": "LayoutModel",
      "_view_count": null,
      "_view_module": "@jupyter-widgets/base",
      "_view_module_version": "1.2.0",
      "_view_name": "LayoutView",
      "align_content": null,
      "align_items": null,
      "align_self": null,
      "border": null,
      "bottom": null,
      "display": null,
      "flex": null,
      "flex_flow": null,
      "grid_area": null,
      "grid_auto_columns": null,
      "grid_auto_flow": null,
      "grid_auto_rows": null,
      "grid_column": null,
      "grid_gap": null,
      "grid_row": null,
      "grid_template_areas": null,
      "grid_template_columns": null,
      "grid_template_rows": null,
      "height": null,
      "justify_content": null,
      "justify_items": null,
      "left": null,
      "margin": null,
      "max_height": null,
      "max_width": null,
      "min_height": null,
      "min_width": null,
      "object_fit": null,
      "object_position": null,
      "order": null,
      "overflow": null,
      "overflow_x": null,
      "overflow_y": null,
      "padding": null,
      "right": null,
      "top": null,
      "visibility": null,
      "width": null
     }
    },
    "05e3ece3d96c49f6aee96f9a3184e746": {
     "model_module": "@jupyter-widgets/base",
     "model_module_version": "1.2.0",
     "model_name": "LayoutModel",
     "state": {
      "_model_module": "@jupyter-widgets/base",
      "_model_module_version": "1.2.0",
      "_model_name": "LayoutModel",
      "_view_count": null,
      "_view_module": "@jupyter-widgets/base",
      "_view_module_version": "1.2.0",
      "_view_name": "LayoutView",
      "align_content": null,
      "align_items": null,
      "align_self": null,
      "border": null,
      "bottom": null,
      "display": null,
      "flex": null,
      "flex_flow": null,
      "grid_area": null,
      "grid_auto_columns": null,
      "grid_auto_flow": null,
      "grid_auto_rows": null,
      "grid_column": null,
      "grid_gap": null,
      "grid_row": null,
      "grid_template_areas": null,
      "grid_template_columns": null,
      "grid_template_rows": null,
      "height": null,
      "justify_content": null,
      "justify_items": null,
      "left": null,
      "margin": null,
      "max_height": null,
      "max_width": null,
      "min_height": null,
      "min_width": null,
      "object_fit": null,
      "object_position": null,
      "order": null,
      "overflow": null,
      "overflow_x": null,
      "overflow_y": null,
      "padding": null,
      "right": null,
      "top": null,
      "visibility": null,
      "width": null
     }
    },
    "060a8851c0f841e6810107f1e9cf7886": {
     "model_module": "@jupyter-widgets/base",
     "model_module_version": "1.2.0",
     "model_name": "LayoutModel",
     "state": {
      "_model_module": "@jupyter-widgets/base",
      "_model_module_version": "1.2.0",
      "_model_name": "LayoutModel",
      "_view_count": null,
      "_view_module": "@jupyter-widgets/base",
      "_view_module_version": "1.2.0",
      "_view_name": "LayoutView",
      "align_content": null,
      "align_items": null,
      "align_self": null,
      "border": null,
      "bottom": null,
      "display": null,
      "flex": null,
      "flex_flow": null,
      "grid_area": null,
      "grid_auto_columns": null,
      "grid_auto_flow": null,
      "grid_auto_rows": null,
      "grid_column": null,
      "grid_gap": null,
      "grid_row": null,
      "grid_template_areas": null,
      "grid_template_columns": null,
      "grid_template_rows": null,
      "height": null,
      "justify_content": null,
      "justify_items": null,
      "left": null,
      "margin": null,
      "max_height": null,
      "max_width": null,
      "min_height": null,
      "min_width": null,
      "object_fit": null,
      "object_position": null,
      "order": null,
      "overflow": null,
      "overflow_x": null,
      "overflow_y": null,
      "padding": null,
      "right": null,
      "top": null,
      "visibility": null,
      "width": null
     }
    },
    "077248c84a384302925418d45fd0ba29": {
     "model_module": "@jupyter-widgets/controls",
     "model_module_version": "1.5.0",
     "model_name": "ProgressStyleModel",
     "state": {
      "_model_module": "@jupyter-widgets/controls",
      "_model_module_version": "1.5.0",
      "_model_name": "ProgressStyleModel",
      "_view_count": null,
      "_view_module": "@jupyter-widgets/base",
      "_view_module_version": "1.2.0",
      "_view_name": "StyleView",
      "bar_color": null,
      "description_width": ""
     }
    },
    "0cc5e61e76bb46f791b7b6538e4a68b4": {
     "model_module": "@jupyter-widgets/base",
     "model_module_version": "1.2.0",
     "model_name": "LayoutModel",
     "state": {
      "_model_module": "@jupyter-widgets/base",
      "_model_module_version": "1.2.0",
      "_model_name": "LayoutModel",
      "_view_count": null,
      "_view_module": "@jupyter-widgets/base",
      "_view_module_version": "1.2.0",
      "_view_name": "LayoutView",
      "align_content": null,
      "align_items": null,
      "align_self": null,
      "border": null,
      "bottom": null,
      "display": null,
      "flex": null,
      "flex_flow": null,
      "grid_area": null,
      "grid_auto_columns": null,
      "grid_auto_flow": null,
      "grid_auto_rows": null,
      "grid_column": null,
      "grid_gap": null,
      "grid_row": null,
      "grid_template_areas": null,
      "grid_template_columns": null,
      "grid_template_rows": null,
      "height": null,
      "justify_content": null,
      "justify_items": null,
      "left": null,
      "margin": null,
      "max_height": null,
      "max_width": null,
      "min_height": null,
      "min_width": null,
      "object_fit": null,
      "object_position": null,
      "order": null,
      "overflow": null,
      "overflow_x": null,
      "overflow_y": null,
      "padding": null,
      "right": null,
      "top": null,
      "visibility": null,
      "width": null
     }
    },
    "0d09365d051646a8808d91e743f242bf": {
     "model_module": "@jupyter-widgets/base",
     "model_module_version": "1.2.0",
     "model_name": "LayoutModel",
     "state": {
      "_model_module": "@jupyter-widgets/base",
      "_model_module_version": "1.2.0",
      "_model_name": "LayoutModel",
      "_view_count": null,
      "_view_module": "@jupyter-widgets/base",
      "_view_module_version": "1.2.0",
      "_view_name": "LayoutView",
      "align_content": null,
      "align_items": null,
      "align_self": null,
      "border": null,
      "bottom": null,
      "display": null,
      "flex": null,
      "flex_flow": null,
      "grid_area": null,
      "grid_auto_columns": null,
      "grid_auto_flow": null,
      "grid_auto_rows": null,
      "grid_column": null,
      "grid_gap": null,
      "grid_row": null,
      "grid_template_areas": null,
      "grid_template_columns": null,
      "grid_template_rows": null,
      "height": null,
      "justify_content": null,
      "justify_items": null,
      "left": null,
      "margin": null,
      "max_height": null,
      "max_width": null,
      "min_height": null,
      "min_width": null,
      "object_fit": null,
      "object_position": null,
      "order": null,
      "overflow": null,
      "overflow_x": null,
      "overflow_y": null,
      "padding": null,
      "right": null,
      "top": null,
      "visibility": null,
      "width": null
     }
    },
    "0dc88f1039954534a16e190991359e43": {
     "model_module": "@jupyter-widgets/base",
     "model_module_version": "1.2.0",
     "model_name": "LayoutModel",
     "state": {
      "_model_module": "@jupyter-widgets/base",
      "_model_module_version": "1.2.0",
      "_model_name": "LayoutModel",
      "_view_count": null,
      "_view_module": "@jupyter-widgets/base",
      "_view_module_version": "1.2.0",
      "_view_name": "LayoutView",
      "align_content": null,
      "align_items": null,
      "align_self": null,
      "border": null,
      "bottom": null,
      "display": null,
      "flex": null,
      "flex_flow": null,
      "grid_area": null,
      "grid_auto_columns": null,
      "grid_auto_flow": null,
      "grid_auto_rows": null,
      "grid_column": null,
      "grid_gap": null,
      "grid_row": null,
      "grid_template_areas": null,
      "grid_template_columns": null,
      "grid_template_rows": null,
      "height": null,
      "justify_content": null,
      "justify_items": null,
      "left": null,
      "margin": null,
      "max_height": null,
      "max_width": null,
      "min_height": null,
      "min_width": null,
      "object_fit": null,
      "object_position": null,
      "order": null,
      "overflow": null,
      "overflow_x": null,
      "overflow_y": null,
      "padding": null,
      "right": null,
      "top": null,
      "visibility": null,
      "width": null
     }
    },
    "0dcfcc7e2d3443c9a4307fa9bbb7bcd7": {
     "model_module": "@jupyter-widgets/controls",
     "model_module_version": "1.5.0",
     "model_name": "FloatProgressModel",
     "state": {
      "_dom_classes": [],
      "_model_module": "@jupyter-widgets/controls",
      "_model_module_version": "1.5.0",
      "_model_name": "FloatProgressModel",
      "_view_count": null,
      "_view_module": "@jupyter-widgets/controls",
      "_view_module_version": "1.5.0",
      "_view_name": "ProgressView",
      "bar_style": "success",
      "description": "",
      "description_tooltip": null,
      "layout": "IPY_MODEL_59fbde4f50114cedbc6fa32fabaf0bd1",
      "max": 6,
      "min": 0,
      "orientation": "horizontal",
      "style": "IPY_MODEL_72b9a8bff4c54f24affd35edb33c40af",
      "value": 6
     }
    },
    "0e40998cc82b4a928fa0d973166dfb27": {
     "model_module": "@jupyter-widgets/controls",
     "model_module_version": "1.5.0",
     "model_name": "HBoxModel",
     "state": {
      "_dom_classes": [],
      "_model_module": "@jupyter-widgets/controls",
      "_model_module_version": "1.5.0",
      "_model_name": "HBoxModel",
      "_view_count": null,
      "_view_module": "@jupyter-widgets/controls",
      "_view_module_version": "1.5.0",
      "_view_name": "HBoxView",
      "box_style": "",
      "children": [
       "IPY_MODEL_9cdf0fcd349c4a27814ccb865e9392ae",
       "IPY_MODEL_a366629fac824258b7e6bcd51bbb706c",
       "IPY_MODEL_5978ade1d96843caa50ca6dbf7e988a0"
      ],
      "layout": "IPY_MODEL_3255aae12bb9459c8c9bb149e9bdffd8"
     }
    },
    "12a7bf1e5ae94acc9dd891d83451b494": {
     "model_module": "@jupyter-widgets/base",
     "model_module_version": "1.2.0",
     "model_name": "LayoutModel",
     "state": {
      "_model_module": "@jupyter-widgets/base",
      "_model_module_version": "1.2.0",
      "_model_name": "LayoutModel",
      "_view_count": null,
      "_view_module": "@jupyter-widgets/base",
      "_view_module_version": "1.2.0",
      "_view_name": "LayoutView",
      "align_content": null,
      "align_items": null,
      "align_self": null,
      "border": null,
      "bottom": null,
      "display": null,
      "flex": null,
      "flex_flow": null,
      "grid_area": null,
      "grid_auto_columns": null,
      "grid_auto_flow": null,
      "grid_auto_rows": null,
      "grid_column": null,
      "grid_gap": null,
      "grid_row": null,
      "grid_template_areas": null,
      "grid_template_columns": null,
      "grid_template_rows": null,
      "height": null,
      "justify_content": null,
      "justify_items": null,
      "left": null,
      "margin": null,
      "max_height": null,
      "max_width": null,
      "min_height": null,
      "min_width": null,
      "object_fit": null,
      "object_position": null,
      "order": null,
      "overflow": null,
      "overflow_x": null,
      "overflow_y": null,
      "padding": null,
      "right": null,
      "top": null,
      "visibility": null,
      "width": null
     }
    },
    "143d612c2d3944aaaa8a4bcd96c279b5": {
     "model_module": "@jupyter-widgets/controls",
     "model_module_version": "1.5.0",
     "model_name": "FloatProgressModel",
     "state": {
      "_dom_classes": [],
      "_model_module": "@jupyter-widgets/controls",
      "_model_module_version": "1.5.0",
      "_model_name": "FloatProgressModel",
      "_view_count": null,
      "_view_module": "@jupyter-widgets/controls",
      "_view_module_version": "1.5.0",
      "_view_name": "ProgressView",
      "bar_style": "danger",
      "description": "",
      "description_tooltip": null,
      "layout": "IPY_MODEL_ea6dff22e16f4e879b0b36406a109b32",
      "max": 3760,
      "min": 0,
      "orientation": "horizontal",
      "style": "IPY_MODEL_c5c522ff1666447387e57fb2d1ccb4d1",
      "value": 1000
     }
    },
    "147ba53b6c4b42bb91f1cdae5b387fd2": {
     "model_module": "@jupyter-widgets/base",
     "model_module_version": "1.2.0",
     "model_name": "LayoutModel",
     "state": {
      "_model_module": "@jupyter-widgets/base",
      "_model_module_version": "1.2.0",
      "_model_name": "LayoutModel",
      "_view_count": null,
      "_view_module": "@jupyter-widgets/base",
      "_view_module_version": "1.2.0",
      "_view_name": "LayoutView",
      "align_content": null,
      "align_items": null,
      "align_self": null,
      "border": null,
      "bottom": null,
      "display": null,
      "flex": null,
      "flex_flow": null,
      "grid_area": null,
      "grid_auto_columns": null,
      "grid_auto_flow": null,
      "grid_auto_rows": null,
      "grid_column": null,
      "grid_gap": null,
      "grid_row": null,
      "grid_template_areas": null,
      "grid_template_columns": null,
      "grid_template_rows": null,
      "height": null,
      "justify_content": null,
      "justify_items": null,
      "left": null,
      "margin": null,
      "max_height": null,
      "max_width": null,
      "min_height": null,
      "min_width": null,
      "object_fit": null,
      "object_position": null,
      "order": null,
      "overflow": null,
      "overflow_x": null,
      "overflow_y": null,
      "padding": null,
      "right": null,
      "top": null,
      "visibility": null,
      "width": null
     }
    },
    "18ecbfb956434dc08fec906404513954": {
     "model_module": "@jupyter-widgets/controls",
     "model_module_version": "1.5.0",
     "model_name": "DescriptionStyleModel",
     "state": {
      "_model_module": "@jupyter-widgets/controls",
      "_model_module_version": "1.5.0",
      "_model_name": "DescriptionStyleModel",
      "_view_count": null,
      "_view_module": "@jupyter-widgets/base",
      "_view_module_version": "1.2.0",
      "_view_name": "StyleView",
      "description_width": ""
     }
    },
    "1a1759fdf36040db84ed6eeffa88fff8": {
     "model_module": "@jupyter-widgets/controls",
     "model_module_version": "1.5.0",
     "model_name": "DescriptionStyleModel",
     "state": {
      "_model_module": "@jupyter-widgets/controls",
      "_model_module_version": "1.5.0",
      "_model_name": "DescriptionStyleModel",
      "_view_count": null,
      "_view_module": "@jupyter-widgets/base",
      "_view_module_version": "1.2.0",
      "_view_name": "StyleView",
      "description_width": ""
     }
    },
    "1acc2a2be9dc4b63b5d72180c5d18700": {
     "model_module": "@jupyter-widgets/controls",
     "model_module_version": "1.5.0",
     "model_name": "ProgressStyleModel",
     "state": {
      "_model_module": "@jupyter-widgets/controls",
      "_model_module_version": "1.5.0",
      "_model_name": "ProgressStyleModel",
      "_view_count": null,
      "_view_module": "@jupyter-widgets/base",
      "_view_module_version": "1.2.0",
      "_view_name": "StyleView",
      "bar_color": null,
      "description_width": ""
     }
    },
    "1d01a6a7ec1e4a22a09a98f94684e61f": {
     "model_module": "@jupyter-widgets/base",
     "model_module_version": "1.2.0",
     "model_name": "LayoutModel",
     "state": {
      "_model_module": "@jupyter-widgets/base",
      "_model_module_version": "1.2.0",
      "_model_name": "LayoutModel",
      "_view_count": null,
      "_view_module": "@jupyter-widgets/base",
      "_view_module_version": "1.2.0",
      "_view_name": "LayoutView",
      "align_content": null,
      "align_items": null,
      "align_self": null,
      "border": null,
      "bottom": null,
      "display": null,
      "flex": null,
      "flex_flow": null,
      "grid_area": null,
      "grid_auto_columns": null,
      "grid_auto_flow": null,
      "grid_auto_rows": null,
      "grid_column": null,
      "grid_gap": null,
      "grid_row": null,
      "grid_template_areas": null,
      "grid_template_columns": null,
      "grid_template_rows": null,
      "height": null,
      "justify_content": null,
      "justify_items": null,
      "left": null,
      "margin": null,
      "max_height": null,
      "max_width": null,
      "min_height": null,
      "min_width": null,
      "object_fit": null,
      "object_position": null,
      "order": null,
      "overflow": null,
      "overflow_x": null,
      "overflow_y": null,
      "padding": null,
      "right": null,
      "top": null,
      "visibility": null,
      "width": null
     }
    },
    "1ff146f842ac4c308ecaa3720ff65bb6": {
     "model_module": "@jupyter-widgets/controls",
     "model_module_version": "1.5.0",
     "model_name": "ProgressStyleModel",
     "state": {
      "_model_module": "@jupyter-widgets/controls",
      "_model_module_version": "1.5.0",
      "_model_name": "ProgressStyleModel",
      "_view_count": null,
      "_view_module": "@jupyter-widgets/base",
      "_view_module_version": "1.2.0",
      "_view_name": "StyleView",
      "bar_color": null,
      "description_width": ""
     }
    },
    "2222fc8de43d45d18a8ec7bc2a28ac87": {
     "model_module": "@jupyter-widgets/base",
     "model_module_version": "1.2.0",
     "model_name": "LayoutModel",
     "state": {
      "_model_module": "@jupyter-widgets/base",
      "_model_module_version": "1.2.0",
      "_model_name": "LayoutModel",
      "_view_count": null,
      "_view_module": "@jupyter-widgets/base",
      "_view_module_version": "1.2.0",
      "_view_name": "LayoutView",
      "align_content": null,
      "align_items": null,
      "align_self": null,
      "border": null,
      "bottom": null,
      "display": null,
      "flex": null,
      "flex_flow": null,
      "grid_area": null,
      "grid_auto_columns": null,
      "grid_auto_flow": null,
      "grid_auto_rows": null,
      "grid_column": null,
      "grid_gap": null,
      "grid_row": null,
      "grid_template_areas": null,
      "grid_template_columns": null,
      "grid_template_rows": null,
      "height": null,
      "justify_content": null,
      "justify_items": null,
      "left": null,
      "margin": null,
      "max_height": null,
      "max_width": null,
      "min_height": null,
      "min_width": null,
      "object_fit": null,
      "object_position": null,
      "order": null,
      "overflow": null,
      "overflow_x": null,
      "overflow_y": null,
      "padding": null,
      "right": null,
      "top": null,
      "visibility": null,
      "width": null
     }
    },
    "258d691acf2d499791419991606a9fec": {
     "model_module": "@jupyter-widgets/controls",
     "model_module_version": "1.5.0",
     "model_name": "HTMLModel",
     "state": {
      "_dom_classes": [],
      "_model_module": "@jupyter-widgets/controls",
      "_model_module_version": "1.5.0",
      "_model_name": "HTMLModel",
      "_view_count": null,
      "_view_module": "@jupyter-widgets/controls",
      "_view_module_version": "1.5.0",
      "_view_name": "HTMLView",
      "description": "",
      "description_tooltip": null,
      "layout": "IPY_MODEL_e05c0869a1d64633acb020f9c0f3ca56",
      "placeholder": "​",
      "style": "IPY_MODEL_fe98d69fd7894c84be1212c88bd30900",
      "value": " 1000/3760 [01:08&lt;03:09, 14.57it/s]"
     }
    },
    "2703dd51126944d883e4953ce27d4d59": {
     "model_module": "@jupyter-widgets/base",
     "model_module_version": "1.2.0",
     "model_name": "LayoutModel",
     "state": {
      "_model_module": "@jupyter-widgets/base",
      "_model_module_version": "1.2.0",
      "_model_name": "LayoutModel",
      "_view_count": null,
      "_view_module": "@jupyter-widgets/base",
      "_view_module_version": "1.2.0",
      "_view_name": "LayoutView",
      "align_content": null,
      "align_items": null,
      "align_self": null,
      "border": null,
      "bottom": null,
      "display": null,
      "flex": null,
      "flex_flow": null,
      "grid_area": null,
      "grid_auto_columns": null,
      "grid_auto_flow": null,
      "grid_auto_rows": null,
      "grid_column": null,
      "grid_gap": null,
      "grid_row": null,
      "grid_template_areas": null,
      "grid_template_columns": null,
      "grid_template_rows": null,
      "height": null,
      "justify_content": null,
      "justify_items": null,
      "left": null,
      "margin": null,
      "max_height": null,
      "max_width": null,
      "min_height": null,
      "min_width": null,
      "object_fit": null,
      "object_position": null,
      "order": null,
      "overflow": null,
      "overflow_x": null,
      "overflow_y": null,
      "padding": null,
      "right": null,
      "top": null,
      "visibility": null,
      "width": null
     }
    },
    "2b7c5226fa9b485c86d08ac5df70d83d": {
     "model_module": "@jupyter-widgets/controls",
     "model_module_version": "1.5.0",
     "model_name": "HBoxModel",
     "state": {
      "_dom_classes": [],
      "_model_module": "@jupyter-widgets/controls",
      "_model_module_version": "1.5.0",
      "_model_name": "HBoxModel",
      "_view_count": null,
      "_view_module": "@jupyter-widgets/controls",
      "_view_module_version": "1.5.0",
      "_view_name": "HBoxView",
      "box_style": "",
      "children": [
       "IPY_MODEL_e457ef7fc7084539b966530c72d2fefb",
       "IPY_MODEL_e73a7084321e46cf9fe6cedd146c156c",
       "IPY_MODEL_e78a324893ca4cd58af3bcbd24c50770"
      ],
      "layout": "IPY_MODEL_5519f42cc8fc4ccfb6ceec01f0824666"
     }
    },
    "2ef5936a7ec243f3a7716b72328ce71c": {
     "model_module": "@jupyter-widgets/controls",
     "model_module_version": "1.5.0",
     "model_name": "HTMLModel",
     "state": {
      "_dom_classes": [],
      "_model_module": "@jupyter-widgets/controls",
      "_model_module_version": "1.5.0",
      "_model_name": "HTMLModel",
      "_view_count": null,
      "_view_module": "@jupyter-widgets/controls",
      "_view_module_version": "1.5.0",
      "_view_name": "HTMLView",
      "description": "",
      "description_tooltip": null,
      "layout": "IPY_MODEL_c816cc112ce844e5929f47b707084175",
      "placeholder": "​",
      "style": "IPY_MODEL_4f7680b12aa448af84e5d476a333c7a6",
      "value": " 27%"
     }
    },
    "2f352d0aa3a340e4bb4b2799475fcd81": {
     "model_module": "@jupyter-widgets/controls",
     "model_module_version": "1.5.0",
     "model_name": "ProgressStyleModel",
     "state": {
      "_model_module": "@jupyter-widgets/controls",
      "_model_module_version": "1.5.0",
      "_model_name": "ProgressStyleModel",
      "_view_count": null,
      "_view_module": "@jupyter-widgets/base",
      "_view_module_version": "1.2.0",
      "_view_name": "StyleView",
      "bar_color": null,
      "description_width": ""
     }
    },
    "2fa18c95f7cb42118827f2c2384a8d14": {
     "model_module": "@jupyter-widgets/controls",
     "model_module_version": "1.5.0",
     "model_name": "HBoxModel",
     "state": {
      "_dom_classes": [],
      "_model_module": "@jupyter-widgets/controls",
      "_model_module_version": "1.5.0",
      "_model_name": "HBoxModel",
      "_view_count": null,
      "_view_module": "@jupyter-widgets/controls",
      "_view_module_version": "1.5.0",
      "_view_name": "HBoxView",
      "box_style": "",
      "children": [
       "IPY_MODEL_caf26f7b39c443be800aabb5f03275ff",
       "IPY_MODEL_cb3423eda6d24b76acf1bac59dc295a9",
       "IPY_MODEL_258d691acf2d499791419991606a9fec"
      ],
      "layout": "IPY_MODEL_796a06742dd043c386a4fe96481bf26f"
     }
    },
    "304e39b96ed44ad6993f4a06f3770574": {
     "model_module": "@jupyter-widgets/controls",
     "model_module_version": "1.5.0",
     "model_name": "HTMLModel",
     "state": {
      "_dom_classes": [],
      "_model_module": "@jupyter-widgets/controls",
      "_model_module_version": "1.5.0",
      "_model_name": "HTMLModel",
      "_view_count": null,
      "_view_module": "@jupyter-widgets/controls",
      "_view_module_version": "1.5.0",
      "_view_name": "HTMLView",
      "description": "",
      "description_tooltip": null,
      "layout": "IPY_MODEL_4dde92c6aef9425b956ad3ce59bd761d",
      "placeholder": "​",
      "style": "IPY_MODEL_fa5e193810d848dfa3432bc1d65769f1",
      "value": "100%"
     }
    },
    "318d5f7890e44db9804533a48af52389": {
     "model_module": "@jupyter-widgets/controls",
     "model_module_version": "1.5.0",
     "model_name": "DescriptionStyleModel",
     "state": {
      "_model_module": "@jupyter-widgets/controls",
      "_model_module_version": "1.5.0",
      "_model_name": "DescriptionStyleModel",
      "_view_count": null,
      "_view_module": "@jupyter-widgets/base",
      "_view_module_version": "1.2.0",
      "_view_name": "StyleView",
      "description_width": ""
     }
    },
    "32122e6b84684e26a7834e6d72ad3727": {
     "model_module": "@jupyter-widgets/controls",
     "model_module_version": "1.5.0",
     "model_name": "DescriptionStyleModel",
     "state": {
      "_model_module": "@jupyter-widgets/controls",
      "_model_module_version": "1.5.0",
      "_model_name": "DescriptionStyleModel",
      "_view_count": null,
      "_view_module": "@jupyter-widgets/base",
      "_view_module_version": "1.2.0",
      "_view_name": "StyleView",
      "description_width": ""
     }
    },
    "3255aae12bb9459c8c9bb149e9bdffd8": {
     "model_module": "@jupyter-widgets/base",
     "model_module_version": "1.2.0",
     "model_name": "LayoutModel",
     "state": {
      "_model_module": "@jupyter-widgets/base",
      "_model_module_version": "1.2.0",
      "_model_name": "LayoutModel",
      "_view_count": null,
      "_view_module": "@jupyter-widgets/base",
      "_view_module_version": "1.2.0",
      "_view_name": "LayoutView",
      "align_content": null,
      "align_items": null,
      "align_self": null,
      "border": null,
      "bottom": null,
      "display": null,
      "flex": null,
      "flex_flow": null,
      "grid_area": null,
      "grid_auto_columns": null,
      "grid_auto_flow": null,
      "grid_auto_rows": null,
      "grid_column": null,
      "grid_gap": null,
      "grid_row": null,
      "grid_template_areas": null,
      "grid_template_columns": null,
      "grid_template_rows": null,
      "height": null,
      "justify_content": null,
      "justify_items": null,
      "left": null,
      "margin": null,
      "max_height": null,
      "max_width": null,
      "min_height": null,
      "min_width": null,
      "object_fit": null,
      "object_position": null,
      "order": null,
      "overflow": null,
      "overflow_x": null,
      "overflow_y": null,
      "padding": null,
      "right": null,
      "top": null,
      "visibility": null,
      "width": null
     }
    },
    "33d379fb13424929b7ca1dc823e90464": {
     "model_module": "@jupyter-widgets/controls",
     "model_module_version": "1.5.0",
     "model_name": "HTMLModel",
     "state": {
      "_dom_classes": [],
      "_model_module": "@jupyter-widgets/controls",
      "_model_module_version": "1.5.0",
      "_model_name": "HTMLModel",
      "_view_count": null,
      "_view_module": "@jupyter-widgets/controls",
      "_view_module_version": "1.5.0",
      "_view_name": "HTMLView",
      "description": "",
      "description_tooltip": null,
      "layout": "IPY_MODEL_50d4d560add34b2c85ce10a857d75b08",
      "placeholder": "​",
      "style": "IPY_MODEL_32122e6b84684e26a7834e6d72ad3727",
      "value": " 27%"
     }
    },
    "3abb41aa31db46bf857cfac56967e8ce": {
     "model_module": "@jupyter-widgets/controls",
     "model_module_version": "1.5.0",
     "model_name": "ProgressStyleModel",
     "state": {
      "_model_module": "@jupyter-widgets/controls",
      "_model_module_version": "1.5.0",
      "_model_name": "ProgressStyleModel",
      "_view_count": null,
      "_view_module": "@jupyter-widgets/base",
      "_view_module_version": "1.2.0",
      "_view_name": "StyleView",
      "bar_color": null,
      "description_width": ""
     }
    },
    "4553df5af5b8435db52b3c43f2b7752d": {
     "model_module": "@jupyter-widgets/base",
     "model_module_version": "1.2.0",
     "model_name": "LayoutModel",
     "state": {
      "_model_module": "@jupyter-widgets/base",
      "_model_module_version": "1.2.0",
      "_model_name": "LayoutModel",
      "_view_count": null,
      "_view_module": "@jupyter-widgets/base",
      "_view_module_version": "1.2.0",
      "_view_name": "LayoutView",
      "align_content": null,
      "align_items": null,
      "align_self": null,
      "border": null,
      "bottom": null,
      "display": null,
      "flex": null,
      "flex_flow": null,
      "grid_area": null,
      "grid_auto_columns": null,
      "grid_auto_flow": null,
      "grid_auto_rows": null,
      "grid_column": null,
      "grid_gap": null,
      "grid_row": null,
      "grid_template_areas": null,
      "grid_template_columns": null,
      "grid_template_rows": null,
      "height": null,
      "justify_content": null,
      "justify_items": null,
      "left": null,
      "margin": null,
      "max_height": null,
      "max_width": null,
      "min_height": null,
      "min_width": null,
      "object_fit": null,
      "object_position": null,
      "order": null,
      "overflow": null,
      "overflow_x": null,
      "overflow_y": null,
      "padding": null,
      "right": null,
      "top": null,
      "visibility": null,
      "width": null
     }
    },
    "45e0ca37342a414ebc0c411b9353ca2d": {
     "model_module": "@jupyter-widgets/controls",
     "model_module_version": "1.5.0",
     "model_name": "HBoxModel",
     "state": {
      "_dom_classes": [],
      "_model_module": "@jupyter-widgets/controls",
      "_model_module_version": "1.5.0",
      "_model_name": "HBoxModel",
      "_view_count": null,
      "_view_module": "@jupyter-widgets/controls",
      "_view_module_version": "1.5.0",
      "_view_name": "HBoxView",
      "box_style": "",
      "children": [
       "IPY_MODEL_e3d5899c72674b5aa1044afde0775179",
       "IPY_MODEL_724496f4e45345de8379f18451886bf2",
       "IPY_MODEL_97ea1a1a072843b6a1bc924fa119fdf2"
      ],
      "layout": "IPY_MODEL_a997965ed9914b93a04907ccae69a7c9"
     }
    },
    "49cc2d1b19e54716bf1ab9dc473e7a04": {
     "model_module": "@jupyter-widgets/controls",
     "model_module_version": "1.5.0",
     "model_name": "HTMLModel",
     "state": {
      "_dom_classes": [],
      "_model_module": "@jupyter-widgets/controls",
      "_model_module_version": "1.5.0",
      "_model_name": "HTMLModel",
      "_view_count": null,
      "_view_module": "@jupyter-widgets/controls",
      "_view_module_version": "1.5.0",
      "_view_name": "HTMLView",
      "description": "",
      "description_tooltip": null,
      "layout": "IPY_MODEL_c0597006c11b49e88818af651b4be8a6",
      "placeholder": "​",
      "style": "IPY_MODEL_b968fd86f88543bd9ec63a5265498eeb",
      "value": " 27%"
     }
    },
    "4c1e331afa164b45a8a98f1c2a9c03e0": {
     "model_module": "@jupyter-widgets/controls",
     "model_module_version": "1.5.0",
     "model_name": "HBoxModel",
     "state": {
      "_dom_classes": [],
      "_model_module": "@jupyter-widgets/controls",
      "_model_module_version": "1.5.0",
      "_model_name": "HBoxModel",
      "_view_count": null,
      "_view_module": "@jupyter-widgets/controls",
      "_view_module_version": "1.5.0",
      "_view_name": "HBoxView",
      "box_style": "",
      "children": [
       "IPY_MODEL_a6c79da8dde4442f80b587c6653f369a",
       "IPY_MODEL_b3972a5b229f43bbaabc71bc7ecee82d",
       "IPY_MODEL_50ebfd8545b94a6b969b30099b4da6ea"
      ],
      "layout": "IPY_MODEL_96ee2bb7191d4844bf07235599bb5b57"
     }
    },
    "4c4558f8d7284ac0a9533246b5fe91eb": {
     "model_module": "@jupyter-widgets/controls",
     "model_module_version": "1.5.0",
     "model_name": "FloatProgressModel",
     "state": {
      "_dom_classes": [],
      "_model_module": "@jupyter-widgets/controls",
      "_model_module_version": "1.5.0",
      "_model_name": "FloatProgressModel",
      "_view_count": null,
      "_view_module": "@jupyter-widgets/controls",
      "_view_module_version": "1.5.0",
      "_view_name": "ProgressView",
      "bar_style": "success",
      "description": "",
      "description_tooltip": null,
      "layout": "IPY_MODEL_060a8851c0f841e6810107f1e9cf7886",
      "max": 6,
      "min": 0,
      "orientation": "horizontal",
      "style": "IPY_MODEL_1ff146f842ac4c308ecaa3720ff65bb6",
      "value": 6
     }
    },
    "4dde92c6aef9425b956ad3ce59bd761d": {
     "model_module": "@jupyter-widgets/base",
     "model_module_version": "1.2.0",
     "model_name": "LayoutModel",
     "state": {
      "_model_module": "@jupyter-widgets/base",
      "_model_module_version": "1.2.0",
      "_model_name": "LayoutModel",
      "_view_count": null,
      "_view_module": "@jupyter-widgets/base",
      "_view_module_version": "1.2.0",
      "_view_name": "LayoutView",
      "align_content": null,
      "align_items": null,
      "align_self": null,
      "border": null,
      "bottom": null,
      "display": null,
      "flex": null,
      "flex_flow": null,
      "grid_area": null,
      "grid_auto_columns": null,
      "grid_auto_flow": null,
      "grid_auto_rows": null,
      "grid_column": null,
      "grid_gap": null,
      "grid_row": null,
      "grid_template_areas": null,
      "grid_template_columns": null,
      "grid_template_rows": null,
      "height": null,
      "justify_content": null,
      "justify_items": null,
      "left": null,
      "margin": null,
      "max_height": null,
      "max_width": null,
      "min_height": null,
      "min_width": null,
      "object_fit": null,
      "object_position": null,
      "order": null,
      "overflow": null,
      "overflow_x": null,
      "overflow_y": null,
      "padding": null,
      "right": null,
      "top": null,
      "visibility": null,
      "width": null
     }
    },
    "4e7073f89aae4b36bf67f63debefa998": {
     "model_module": "@jupyter-widgets/base",
     "model_module_version": "1.2.0",
     "model_name": "LayoutModel",
     "state": {
      "_model_module": "@jupyter-widgets/base",
      "_model_module_version": "1.2.0",
      "_model_name": "LayoutModel",
      "_view_count": null,
      "_view_module": "@jupyter-widgets/base",
      "_view_module_version": "1.2.0",
      "_view_name": "LayoutView",
      "align_content": null,
      "align_items": null,
      "align_self": null,
      "border": null,
      "bottom": null,
      "display": null,
      "flex": null,
      "flex_flow": null,
      "grid_area": null,
      "grid_auto_columns": null,
      "grid_auto_flow": null,
      "grid_auto_rows": null,
      "grid_column": null,
      "grid_gap": null,
      "grid_row": null,
      "grid_template_areas": null,
      "grid_template_columns": null,
      "grid_template_rows": null,
      "height": null,
      "justify_content": null,
      "justify_items": null,
      "left": null,
      "margin": null,
      "max_height": null,
      "max_width": null,
      "min_height": null,
      "min_width": null,
      "object_fit": null,
      "object_position": null,
      "order": null,
      "overflow": null,
      "overflow_x": null,
      "overflow_y": null,
      "padding": null,
      "right": null,
      "top": null,
      "visibility": null,
      "width": null
     }
    },
    "4f7680b12aa448af84e5d476a333c7a6": {
     "model_module": "@jupyter-widgets/controls",
     "model_module_version": "1.5.0",
     "model_name": "DescriptionStyleModel",
     "state": {
      "_model_module": "@jupyter-widgets/controls",
      "_model_module_version": "1.5.0",
      "_model_name": "DescriptionStyleModel",
      "_view_count": null,
      "_view_module": "@jupyter-widgets/base",
      "_view_module_version": "1.2.0",
      "_view_name": "StyleView",
      "description_width": ""
     }
    },
    "503802ba97704beab70f85ccf1170e32": {
     "model_module": "@jupyter-widgets/controls",
     "model_module_version": "1.5.0",
     "model_name": "ProgressStyleModel",
     "state": {
      "_model_module": "@jupyter-widgets/controls",
      "_model_module_version": "1.5.0",
      "_model_name": "ProgressStyleModel",
      "_view_count": null,
      "_view_module": "@jupyter-widgets/base",
      "_view_module_version": "1.2.0",
      "_view_name": "StyleView",
      "bar_color": null,
      "description_width": ""
     }
    },
    "5085dcf3a3b240d6b007f1378b2373a7": {
     "model_module": "@jupyter-widgets/controls",
     "model_module_version": "1.5.0",
     "model_name": "ProgressStyleModel",
     "state": {
      "_model_module": "@jupyter-widgets/controls",
      "_model_module_version": "1.5.0",
      "_model_name": "ProgressStyleModel",
      "_view_count": null,
      "_view_module": "@jupyter-widgets/base",
      "_view_module_version": "1.2.0",
      "_view_name": "StyleView",
      "bar_color": null,
      "description_width": ""
     }
    },
    "50d4d560add34b2c85ce10a857d75b08": {
     "model_module": "@jupyter-widgets/base",
     "model_module_version": "1.2.0",
     "model_name": "LayoutModel",
     "state": {
      "_model_module": "@jupyter-widgets/base",
      "_model_module_version": "1.2.0",
      "_model_name": "LayoutModel",
      "_view_count": null,
      "_view_module": "@jupyter-widgets/base",
      "_view_module_version": "1.2.0",
      "_view_name": "LayoutView",
      "align_content": null,
      "align_items": null,
      "align_self": null,
      "border": null,
      "bottom": null,
      "display": null,
      "flex": null,
      "flex_flow": null,
      "grid_area": null,
      "grid_auto_columns": null,
      "grid_auto_flow": null,
      "grid_auto_rows": null,
      "grid_column": null,
      "grid_gap": null,
      "grid_row": null,
      "grid_template_areas": null,
      "grid_template_columns": null,
      "grid_template_rows": null,
      "height": null,
      "justify_content": null,
      "justify_items": null,
      "left": null,
      "margin": null,
      "max_height": null,
      "max_width": null,
      "min_height": null,
      "min_width": null,
      "object_fit": null,
      "object_position": null,
      "order": null,
      "overflow": null,
      "overflow_x": null,
      "overflow_y": null,
      "padding": null,
      "right": null,
      "top": null,
      "visibility": null,
      "width": null
     }
    },
    "50ebfd8545b94a6b969b30099b4da6ea": {
     "model_module": "@jupyter-widgets/controls",
     "model_module_version": "1.5.0",
     "model_name": "HTMLModel",
     "state": {
      "_dom_classes": [],
      "_model_module": "@jupyter-widgets/controls",
      "_model_module_version": "1.5.0",
      "_model_name": "HTMLModel",
      "_view_count": null,
      "_view_module": "@jupyter-widgets/controls",
      "_view_module_version": "1.5.0",
      "_view_name": "HTMLView",
      "description": "",
      "description_tooltip": null,
      "layout": "IPY_MODEL_e62fcbd93d9b4e7ebb6e75fe5b520a37",
      "placeholder": "​",
      "style": "IPY_MODEL_6efe1e16559b4abfa57d697c2b7d5f49",
      "value": " 1000/3760 [04:10&lt;11:20,  4.05it/s]"
     }
    },
    "531170edbc4c4dfca1874df309b2d9b2": {
     "model_module": "@jupyter-widgets/base",
     "model_module_version": "1.2.0",
     "model_name": "LayoutModel",
     "state": {
      "_model_module": "@jupyter-widgets/base",
      "_model_module_version": "1.2.0",
      "_model_name": "LayoutModel",
      "_view_count": null,
      "_view_module": "@jupyter-widgets/base",
      "_view_module_version": "1.2.0",
      "_view_name": "LayoutView",
      "align_content": null,
      "align_items": null,
      "align_self": null,
      "border": null,
      "bottom": null,
      "display": null,
      "flex": null,
      "flex_flow": null,
      "grid_area": null,
      "grid_auto_columns": null,
      "grid_auto_flow": null,
      "grid_auto_rows": null,
      "grid_column": null,
      "grid_gap": null,
      "grid_row": null,
      "grid_template_areas": null,
      "grid_template_columns": null,
      "grid_template_rows": null,
      "height": null,
      "justify_content": null,
      "justify_items": null,
      "left": null,
      "margin": null,
      "max_height": null,
      "max_width": null,
      "min_height": null,
      "min_width": null,
      "object_fit": null,
      "object_position": null,
      "order": null,
      "overflow": null,
      "overflow_x": null,
      "overflow_y": null,
      "padding": null,
      "right": null,
      "top": null,
      "visibility": null,
      "width": null
     }
    },
    "5519f42cc8fc4ccfb6ceec01f0824666": {
     "model_module": "@jupyter-widgets/base",
     "model_module_version": "1.2.0",
     "model_name": "LayoutModel",
     "state": {
      "_model_module": "@jupyter-widgets/base",
      "_model_module_version": "1.2.0",
      "_model_name": "LayoutModel",
      "_view_count": null,
      "_view_module": "@jupyter-widgets/base",
      "_view_module_version": "1.2.0",
      "_view_name": "LayoutView",
      "align_content": null,
      "align_items": null,
      "align_self": null,
      "border": null,
      "bottom": null,
      "display": null,
      "flex": null,
      "flex_flow": null,
      "grid_area": null,
      "grid_auto_columns": null,
      "grid_auto_flow": null,
      "grid_auto_rows": null,
      "grid_column": null,
      "grid_gap": null,
      "grid_row": null,
      "grid_template_areas": null,
      "grid_template_columns": null,
      "grid_template_rows": null,
      "height": null,
      "justify_content": null,
      "justify_items": null,
      "left": null,
      "margin": null,
      "max_height": null,
      "max_width": null,
      "min_height": null,
      "min_width": null,
      "object_fit": null,
      "object_position": null,
      "order": null,
      "overflow": null,
      "overflow_x": null,
      "overflow_y": null,
      "padding": null,
      "right": null,
      "top": null,
      "visibility": null,
      "width": null
     }
    },
    "55474fd39a5d494daabacd628415f1ae": {
     "model_module": "@jupyter-widgets/base",
     "model_module_version": "1.2.0",
     "model_name": "LayoutModel",
     "state": {
      "_model_module": "@jupyter-widgets/base",
      "_model_module_version": "1.2.0",
      "_model_name": "LayoutModel",
      "_view_count": null,
      "_view_module": "@jupyter-widgets/base",
      "_view_module_version": "1.2.0",
      "_view_name": "LayoutView",
      "align_content": null,
      "align_items": null,
      "align_self": null,
      "border": null,
      "bottom": null,
      "display": null,
      "flex": null,
      "flex_flow": null,
      "grid_area": null,
      "grid_auto_columns": null,
      "grid_auto_flow": null,
      "grid_auto_rows": null,
      "grid_column": null,
      "grid_gap": null,
      "grid_row": null,
      "grid_template_areas": null,
      "grid_template_columns": null,
      "grid_template_rows": null,
      "height": null,
      "justify_content": null,
      "justify_items": null,
      "left": null,
      "margin": null,
      "max_height": null,
      "max_width": null,
      "min_height": null,
      "min_width": null,
      "object_fit": null,
      "object_position": null,
      "order": null,
      "overflow": null,
      "overflow_x": null,
      "overflow_y": null,
      "padding": null,
      "right": null,
      "top": null,
      "visibility": null,
      "width": null
     }
    },
    "561b22de13f649aaab8008386dd5865d": {
     "model_module": "@jupyter-widgets/base",
     "model_module_version": "1.2.0",
     "model_name": "LayoutModel",
     "state": {
      "_model_module": "@jupyter-widgets/base",
      "_model_module_version": "1.2.0",
      "_model_name": "LayoutModel",
      "_view_count": null,
      "_view_module": "@jupyter-widgets/base",
      "_view_module_version": "1.2.0",
      "_view_name": "LayoutView",
      "align_content": null,
      "align_items": null,
      "align_self": null,
      "border": null,
      "bottom": null,
      "display": null,
      "flex": null,
      "flex_flow": null,
      "grid_area": null,
      "grid_auto_columns": null,
      "grid_auto_flow": null,
      "grid_auto_rows": null,
      "grid_column": null,
      "grid_gap": null,
      "grid_row": null,
      "grid_template_areas": null,
      "grid_template_columns": null,
      "grid_template_rows": null,
      "height": null,
      "justify_content": null,
      "justify_items": null,
      "left": null,
      "margin": null,
      "max_height": null,
      "max_width": null,
      "min_height": null,
      "min_width": null,
      "object_fit": null,
      "object_position": null,
      "order": null,
      "overflow": null,
      "overflow_x": null,
      "overflow_y": null,
      "padding": null,
      "right": null,
      "top": null,
      "visibility": null,
      "width": null
     }
    },
    "588e744886f948349ecc0cef8a9a4064": {
     "model_module": "@jupyter-widgets/base",
     "model_module_version": "1.2.0",
     "model_name": "LayoutModel",
     "state": {
      "_model_module": "@jupyter-widgets/base",
      "_model_module_version": "1.2.0",
      "_model_name": "LayoutModel",
      "_view_count": null,
      "_view_module": "@jupyter-widgets/base",
      "_view_module_version": "1.2.0",
      "_view_name": "LayoutView",
      "align_content": null,
      "align_items": null,
      "align_self": null,
      "border": null,
      "bottom": null,
      "display": null,
      "flex": null,
      "flex_flow": null,
      "grid_area": null,
      "grid_auto_columns": null,
      "grid_auto_flow": null,
      "grid_auto_rows": null,
      "grid_column": null,
      "grid_gap": null,
      "grid_row": null,
      "grid_template_areas": null,
      "grid_template_columns": null,
      "grid_template_rows": null,
      "height": null,
      "justify_content": null,
      "justify_items": null,
      "left": null,
      "margin": null,
      "max_height": null,
      "max_width": null,
      "min_height": null,
      "min_width": null,
      "object_fit": null,
      "object_position": null,
      "order": null,
      "overflow": null,
      "overflow_x": null,
      "overflow_y": null,
      "padding": null,
      "right": null,
      "top": null,
      "visibility": null,
      "width": null
     }
    },
    "58bc1f67e50b4350a2e769db990c6a22": {
     "model_module": "@jupyter-widgets/controls",
     "model_module_version": "1.5.0",
     "model_name": "HTMLModel",
     "state": {
      "_dom_classes": [],
      "_model_module": "@jupyter-widgets/controls",
      "_model_module_version": "1.5.0",
      "_model_name": "HTMLModel",
      "_view_count": null,
      "_view_module": "@jupyter-widgets/controls",
      "_view_module_version": "1.5.0",
      "_view_name": "HTMLView",
      "description": "",
      "description_tooltip": null,
      "layout": "IPY_MODEL_cc1d3ee211b346fd821ebb0442588028",
      "placeholder": "​",
      "style": "IPY_MODEL_f1d08c6ae4594d9fbe4126ffdaa3f157",
      "value": " 6/6 [00:00&lt;00:00,  9.01it/s]"
     }
    },
    "58c2d78a62d546659af49cc9545c6948": {
     "model_module": "@jupyter-widgets/controls",
     "model_module_version": "1.5.0",
     "model_name": "HTMLModel",
     "state": {
      "_dom_classes": [],
      "_model_module": "@jupyter-widgets/controls",
      "_model_module_version": "1.5.0",
      "_model_name": "HTMLModel",
      "_view_count": null,
      "_view_module": "@jupyter-widgets/controls",
      "_view_module_version": "1.5.0",
      "_view_name": "HTMLView",
      "description": "",
      "description_tooltip": null,
      "layout": "IPY_MODEL_12a7bf1e5ae94acc9dd891d83451b494",
      "placeholder": "​",
      "style": "IPY_MODEL_d8aee47eba9646a8a8c6c14dc9df206d",
      "value": " 1000/3760 [01:28&lt;04:01, 11.43it/s]"
     }
    },
    "5978ade1d96843caa50ca6dbf7e988a0": {
     "model_module": "@jupyter-widgets/controls",
     "model_module_version": "1.5.0",
     "model_name": "HTMLModel",
     "state": {
      "_dom_classes": [],
      "_model_module": "@jupyter-widgets/controls",
      "_model_module_version": "1.5.0",
      "_model_name": "HTMLModel",
      "_view_count": null,
      "_view_module": "@jupyter-widgets/controls",
      "_view_module_version": "1.5.0",
      "_view_name": "HTMLView",
      "description": "",
      "description_tooltip": null,
      "layout": "IPY_MODEL_66abc31ad91d4983bea762944b8c996f",
      "placeholder": "​",
      "style": "IPY_MODEL_dffdbbe8112d42ac8656475a58716f37",
      "value": " 6/6 [00:00&lt;00:00, 72.46it/s]"
     }
    },
    "59fbde4f50114cedbc6fa32fabaf0bd1": {
     "model_module": "@jupyter-widgets/base",
     "model_module_version": "1.2.0",
     "model_name": "LayoutModel",
     "state": {
      "_model_module": "@jupyter-widgets/base",
      "_model_module_version": "1.2.0",
      "_model_name": "LayoutModel",
      "_view_count": null,
      "_view_module": "@jupyter-widgets/base",
      "_view_module_version": "1.2.0",
      "_view_name": "LayoutView",
      "align_content": null,
      "align_items": null,
      "align_self": null,
      "border": null,
      "bottom": null,
      "display": null,
      "flex": null,
      "flex_flow": null,
      "grid_area": null,
      "grid_auto_columns": null,
      "grid_auto_flow": null,
      "grid_auto_rows": null,
      "grid_column": null,
      "grid_gap": null,
      "grid_row": null,
      "grid_template_areas": null,
      "grid_template_columns": null,
      "grid_template_rows": null,
      "height": null,
      "justify_content": null,
      "justify_items": null,
      "left": null,
      "margin": null,
      "max_height": null,
      "max_width": null,
      "min_height": null,
      "min_width": null,
      "object_fit": null,
      "object_position": null,
      "order": null,
      "overflow": null,
      "overflow_x": null,
      "overflow_y": null,
      "padding": null,
      "right": null,
      "top": null,
      "visibility": null,
      "width": null
     }
    },
    "5cd2556e25144d18832dbdd06eab9ba1": {
     "model_module": "@jupyter-widgets/base",
     "model_module_version": "1.2.0",
     "model_name": "LayoutModel",
     "state": {
      "_model_module": "@jupyter-widgets/base",
      "_model_module_version": "1.2.0",
      "_model_name": "LayoutModel",
      "_view_count": null,
      "_view_module": "@jupyter-widgets/base",
      "_view_module_version": "1.2.0",
      "_view_name": "LayoutView",
      "align_content": null,
      "align_items": null,
      "align_self": null,
      "border": null,
      "bottom": null,
      "display": null,
      "flex": null,
      "flex_flow": null,
      "grid_area": null,
      "grid_auto_columns": null,
      "grid_auto_flow": null,
      "grid_auto_rows": null,
      "grid_column": null,
      "grid_gap": null,
      "grid_row": null,
      "grid_template_areas": null,
      "grid_template_columns": null,
      "grid_template_rows": null,
      "height": null,
      "justify_content": null,
      "justify_items": null,
      "left": null,
      "margin": null,
      "max_height": null,
      "max_width": null,
      "min_height": null,
      "min_width": null,
      "object_fit": null,
      "object_position": null,
      "order": null,
      "overflow": null,
      "overflow_x": null,
      "overflow_y": null,
      "padding": null,
      "right": null,
      "top": null,
      "visibility": null,
      "width": null
     }
    },
    "60a4d9b5306346e0801e29a95f0faa8c": {
     "model_module": "@jupyter-widgets/controls",
     "model_module_version": "1.5.0",
     "model_name": "ProgressStyleModel",
     "state": {
      "_model_module": "@jupyter-widgets/controls",
      "_model_module_version": "1.5.0",
      "_model_name": "ProgressStyleModel",
      "_view_count": null,
      "_view_module": "@jupyter-widgets/base",
      "_view_module_version": "1.2.0",
      "_view_name": "StyleView",
      "bar_color": null,
      "description_width": ""
     }
    },
    "64b9299693bb4ad4806353ed073cfe0c": {
     "model_module": "@jupyter-widgets/controls",
     "model_module_version": "1.5.0",
     "model_name": "DescriptionStyleModel",
     "state": {
      "_model_module": "@jupyter-widgets/controls",
      "_model_module_version": "1.5.0",
      "_model_name": "DescriptionStyleModel",
      "_view_count": null,
      "_view_module": "@jupyter-widgets/base",
      "_view_module_version": "1.2.0",
      "_view_name": "StyleView",
      "description_width": ""
     }
    },
    "65b42d76711b41518a6af4a039b4ffdb": {
     "model_module": "@jupyter-widgets/controls",
     "model_module_version": "1.5.0",
     "model_name": "DescriptionStyleModel",
     "state": {
      "_model_module": "@jupyter-widgets/controls",
      "_model_module_version": "1.5.0",
      "_model_name": "DescriptionStyleModel",
      "_view_count": null,
      "_view_module": "@jupyter-widgets/base",
      "_view_module_version": "1.2.0",
      "_view_name": "StyleView",
      "description_width": ""
     }
    },
    "66abc31ad91d4983bea762944b8c996f": {
     "model_module": "@jupyter-widgets/base",
     "model_module_version": "1.2.0",
     "model_name": "LayoutModel",
     "state": {
      "_model_module": "@jupyter-widgets/base",
      "_model_module_version": "1.2.0",
      "_model_name": "LayoutModel",
      "_view_count": null,
      "_view_module": "@jupyter-widgets/base",
      "_view_module_version": "1.2.0",
      "_view_name": "LayoutView",
      "align_content": null,
      "align_items": null,
      "align_self": null,
      "border": null,
      "bottom": null,
      "display": null,
      "flex": null,
      "flex_flow": null,
      "grid_area": null,
      "grid_auto_columns": null,
      "grid_auto_flow": null,
      "grid_auto_rows": null,
      "grid_column": null,
      "grid_gap": null,
      "grid_row": null,
      "grid_template_areas": null,
      "grid_template_columns": null,
      "grid_template_rows": null,
      "height": null,
      "justify_content": null,
      "justify_items": null,
      "left": null,
      "margin": null,
      "max_height": null,
      "max_width": null,
      "min_height": null,
      "min_width": null,
      "object_fit": null,
      "object_position": null,
      "order": null,
      "overflow": null,
      "overflow_x": null,
      "overflow_y": null,
      "padding": null,
      "right": null,
      "top": null,
      "visibility": null,
      "width": null
     }
    },
    "6768784332ff4d61ae5253dac15bebd3": {
     "model_module": "@jupyter-widgets/controls",
     "model_module_version": "1.5.0",
     "model_name": "FloatProgressModel",
     "state": {
      "_dom_classes": [],
      "_model_module": "@jupyter-widgets/controls",
      "_model_module_version": "1.5.0",
      "_model_name": "FloatProgressModel",
      "_view_count": null,
      "_view_module": "@jupyter-widgets/controls",
      "_view_module_version": "1.5.0",
      "_view_name": "ProgressView",
      "bar_style": "danger",
      "description": "",
      "description_tooltip": null,
      "layout": "IPY_MODEL_6d79fd2a1a7a43f58a2af46f4346c91b",
      "max": 3760,
      "min": 0,
      "orientation": "horizontal",
      "style": "IPY_MODEL_60a4d9b5306346e0801e29a95f0faa8c",
      "value": 1000
     }
    },
    "691dd72c4e334535a63bf532dbbba2da": {
     "model_module": "@jupyter-widgets/base",
     "model_module_version": "1.2.0",
     "model_name": "LayoutModel",
     "state": {
      "_model_module": "@jupyter-widgets/base",
      "_model_module_version": "1.2.0",
      "_model_name": "LayoutModel",
      "_view_count": null,
      "_view_module": "@jupyter-widgets/base",
      "_view_module_version": "1.2.0",
      "_view_name": "LayoutView",
      "align_content": null,
      "align_items": null,
      "align_self": null,
      "border": null,
      "bottom": null,
      "display": null,
      "flex": null,
      "flex_flow": null,
      "grid_area": null,
      "grid_auto_columns": null,
      "grid_auto_flow": null,
      "grid_auto_rows": null,
      "grid_column": null,
      "grid_gap": null,
      "grid_row": null,
      "grid_template_areas": null,
      "grid_template_columns": null,
      "grid_template_rows": null,
      "height": null,
      "justify_content": null,
      "justify_items": null,
      "left": null,
      "margin": null,
      "max_height": null,
      "max_width": null,
      "min_height": null,
      "min_width": null,
      "object_fit": null,
      "object_position": null,
      "order": null,
      "overflow": null,
      "overflow_x": null,
      "overflow_y": null,
      "padding": null,
      "right": null,
      "top": null,
      "visibility": null,
      "width": null
     }
    },
    "6a29cbbd1824446181d555ac803a3e0b": {
     "model_module": "@jupyter-widgets/base",
     "model_module_version": "1.2.0",
     "model_name": "LayoutModel",
     "state": {
      "_model_module": "@jupyter-widgets/base",
      "_model_module_version": "1.2.0",
      "_model_name": "LayoutModel",
      "_view_count": null,
      "_view_module": "@jupyter-widgets/base",
      "_view_module_version": "1.2.0",
      "_view_name": "LayoutView",
      "align_content": null,
      "align_items": null,
      "align_self": null,
      "border": null,
      "bottom": null,
      "display": null,
      "flex": null,
      "flex_flow": null,
      "grid_area": null,
      "grid_auto_columns": null,
      "grid_auto_flow": null,
      "grid_auto_rows": null,
      "grid_column": null,
      "grid_gap": null,
      "grid_row": null,
      "grid_template_areas": null,
      "grid_template_columns": null,
      "grid_template_rows": null,
      "height": null,
      "justify_content": null,
      "justify_items": null,
      "left": null,
      "margin": null,
      "max_height": null,
      "max_width": null,
      "min_height": null,
      "min_width": null,
      "object_fit": null,
      "object_position": null,
      "order": null,
      "overflow": null,
      "overflow_x": null,
      "overflow_y": null,
      "padding": null,
      "right": null,
      "top": null,
      "visibility": null,
      "width": null
     }
    },
    "6d79fd2a1a7a43f58a2af46f4346c91b": {
     "model_module": "@jupyter-widgets/base",
     "model_module_version": "1.2.0",
     "model_name": "LayoutModel",
     "state": {
      "_model_module": "@jupyter-widgets/base",
      "_model_module_version": "1.2.0",
      "_model_name": "LayoutModel",
      "_view_count": null,
      "_view_module": "@jupyter-widgets/base",
      "_view_module_version": "1.2.0",
      "_view_name": "LayoutView",
      "align_content": null,
      "align_items": null,
      "align_self": null,
      "border": null,
      "bottom": null,
      "display": null,
      "flex": null,
      "flex_flow": null,
      "grid_area": null,
      "grid_auto_columns": null,
      "grid_auto_flow": null,
      "grid_auto_rows": null,
      "grid_column": null,
      "grid_gap": null,
      "grid_row": null,
      "grid_template_areas": null,
      "grid_template_columns": null,
      "grid_template_rows": null,
      "height": null,
      "justify_content": null,
      "justify_items": null,
      "left": null,
      "margin": null,
      "max_height": null,
      "max_width": null,
      "min_height": null,
      "min_width": null,
      "object_fit": null,
      "object_position": null,
      "order": null,
      "overflow": null,
      "overflow_x": null,
      "overflow_y": null,
      "padding": null,
      "right": null,
      "top": null,
      "visibility": null,
      "width": null
     }
    },
    "6efe1e16559b4abfa57d697c2b7d5f49": {
     "model_module": "@jupyter-widgets/controls",
     "model_module_version": "1.5.0",
     "model_name": "DescriptionStyleModel",
     "state": {
      "_model_module": "@jupyter-widgets/controls",
      "_model_module_version": "1.5.0",
      "_model_name": "DescriptionStyleModel",
      "_view_count": null,
      "_view_module": "@jupyter-widgets/base",
      "_view_module_version": "1.2.0",
      "_view_name": "StyleView",
      "description_width": ""
     }
    },
    "724496f4e45345de8379f18451886bf2": {
     "model_module": "@jupyter-widgets/controls",
     "model_module_version": "1.5.0",
     "model_name": "FloatProgressModel",
     "state": {
      "_dom_classes": [],
      "_model_module": "@jupyter-widgets/controls",
      "_model_module_version": "1.5.0",
      "_model_name": "FloatProgressModel",
      "_view_count": null,
      "_view_module": "@jupyter-widgets/controls",
      "_view_module_version": "1.5.0",
      "_view_name": "ProgressView",
      "bar_style": "success",
      "description": "",
      "description_tooltip": null,
      "layout": "IPY_MODEL_83faa88e52b043fea75219ec41ab4dcb",
      "max": 6,
      "min": 0,
      "orientation": "horizontal",
      "style": "IPY_MODEL_865d5c733a894fcfaf29144f48a8b565",
      "value": 6
     }
    },
    "72b9a8bff4c54f24affd35edb33c40af": {
     "model_module": "@jupyter-widgets/controls",
     "model_module_version": "1.5.0",
     "model_name": "ProgressStyleModel",
     "state": {
      "_model_module": "@jupyter-widgets/controls",
      "_model_module_version": "1.5.0",
      "_model_name": "ProgressStyleModel",
      "_view_count": null,
      "_view_module": "@jupyter-widgets/base",
      "_view_module_version": "1.2.0",
      "_view_name": "StyleView",
      "bar_color": null,
      "description_width": ""
     }
    },
    "737d602d5a4645bc997720786fc28ca5": {
     "model_module": "@jupyter-widgets/base",
     "model_module_version": "1.2.0",
     "model_name": "LayoutModel",
     "state": {
      "_model_module": "@jupyter-widgets/base",
      "_model_module_version": "1.2.0",
      "_model_name": "LayoutModel",
      "_view_count": null,
      "_view_module": "@jupyter-widgets/base",
      "_view_module_version": "1.2.0",
      "_view_name": "LayoutView",
      "align_content": null,
      "align_items": null,
      "align_self": null,
      "border": null,
      "bottom": null,
      "display": null,
      "flex": null,
      "flex_flow": null,
      "grid_area": null,
      "grid_auto_columns": null,
      "grid_auto_flow": null,
      "grid_auto_rows": null,
      "grid_column": null,
      "grid_gap": null,
      "grid_row": null,
      "grid_template_areas": null,
      "grid_template_columns": null,
      "grid_template_rows": null,
      "height": null,
      "justify_content": null,
      "justify_items": null,
      "left": null,
      "margin": null,
      "max_height": null,
      "max_width": null,
      "min_height": null,
      "min_width": null,
      "object_fit": null,
      "object_position": null,
      "order": null,
      "overflow": null,
      "overflow_x": null,
      "overflow_y": null,
      "padding": null,
      "right": null,
      "top": null,
      "visibility": null,
      "width": null
     }
    },
    "75a0143441d8465b8a5996fcbc4d5ec4": {
     "model_module": "@jupyter-widgets/controls",
     "model_module_version": "1.5.0",
     "model_name": "HTMLModel",
     "state": {
      "_dom_classes": [],
      "_model_module": "@jupyter-widgets/controls",
      "_model_module_version": "1.5.0",
      "_model_name": "HTMLModel",
      "_view_count": null,
      "_view_module": "@jupyter-widgets/controls",
      "_view_module_version": "1.5.0",
      "_view_name": "HTMLView",
      "description": "",
      "description_tooltip": null,
      "layout": "IPY_MODEL_561b22de13f649aaab8008386dd5865d",
      "placeholder": "​",
      "style": "IPY_MODEL_65b42d76711b41518a6af4a039b4ffdb",
      "value": " 27%"
     }
    },
    "76fd7cb5996641d7a34a93337dffae82": {
     "model_module": "@jupyter-widgets/controls",
     "model_module_version": "1.5.0",
     "model_name": "DescriptionStyleModel",
     "state": {
      "_model_module": "@jupyter-widgets/controls",
      "_model_module_version": "1.5.0",
      "_model_name": "DescriptionStyleModel",
      "_view_count": null,
      "_view_module": "@jupyter-widgets/base",
      "_view_module_version": "1.2.0",
      "_view_name": "StyleView",
      "description_width": ""
     }
    },
    "77431fe49bc642d3bbd5853904a25aaf": {
     "model_module": "@jupyter-widgets/base",
     "model_module_version": "1.2.0",
     "model_name": "LayoutModel",
     "state": {
      "_model_module": "@jupyter-widgets/base",
      "_model_module_version": "1.2.0",
      "_model_name": "LayoutModel",
      "_view_count": null,
      "_view_module": "@jupyter-widgets/base",
      "_view_module_version": "1.2.0",
      "_view_name": "LayoutView",
      "align_content": null,
      "align_items": null,
      "align_self": null,
      "border": null,
      "bottom": null,
      "display": null,
      "flex": null,
      "flex_flow": null,
      "grid_area": null,
      "grid_auto_columns": null,
      "grid_auto_flow": null,
      "grid_auto_rows": null,
      "grid_column": null,
      "grid_gap": null,
      "grid_row": null,
      "grid_template_areas": null,
      "grid_template_columns": null,
      "grid_template_rows": null,
      "height": null,
      "justify_content": null,
      "justify_items": null,
      "left": null,
      "margin": null,
      "max_height": null,
      "max_width": null,
      "min_height": null,
      "min_width": null,
      "object_fit": null,
      "object_position": null,
      "order": null,
      "overflow": null,
      "overflow_x": null,
      "overflow_y": null,
      "padding": null,
      "right": null,
      "top": null,
      "visibility": null,
      "width": null
     }
    },
    "796a06742dd043c386a4fe96481bf26f": {
     "model_module": "@jupyter-widgets/base",
     "model_module_version": "1.2.0",
     "model_name": "LayoutModel",
     "state": {
      "_model_module": "@jupyter-widgets/base",
      "_model_module_version": "1.2.0",
      "_model_name": "LayoutModel",
      "_view_count": null,
      "_view_module": "@jupyter-widgets/base",
      "_view_module_version": "1.2.0",
      "_view_name": "LayoutView",
      "align_content": null,
      "align_items": null,
      "align_self": null,
      "border": null,
      "bottom": null,
      "display": null,
      "flex": null,
      "flex_flow": null,
      "grid_area": null,
      "grid_auto_columns": null,
      "grid_auto_flow": null,
      "grid_auto_rows": null,
      "grid_column": null,
      "grid_gap": null,
      "grid_row": null,
      "grid_template_areas": null,
      "grid_template_columns": null,
      "grid_template_rows": null,
      "height": null,
      "justify_content": null,
      "justify_items": null,
      "left": null,
      "margin": null,
      "max_height": null,
      "max_width": null,
      "min_height": null,
      "min_width": null,
      "object_fit": null,
      "object_position": null,
      "order": null,
      "overflow": null,
      "overflow_x": null,
      "overflow_y": null,
      "padding": null,
      "right": null,
      "top": null,
      "visibility": null,
      "width": null
     }
    },
    "7a89fe1aa188411fb5aa565eb0ec70e0": {
     "model_module": "@jupyter-widgets/controls",
     "model_module_version": "1.5.0",
     "model_name": "HBoxModel",
     "state": {
      "_dom_classes": [],
      "_model_module": "@jupyter-widgets/controls",
      "_model_module_version": "1.5.0",
      "_model_name": "HBoxModel",
      "_view_count": null,
      "_view_module": "@jupyter-widgets/controls",
      "_view_module_version": "1.5.0",
      "_view_name": "HBoxView",
      "box_style": "",
      "children": [
       "IPY_MODEL_33d379fb13424929b7ca1dc823e90464",
       "IPY_MODEL_c7b315bc6caa4b1d80a774a9a25219ee",
       "IPY_MODEL_bfe5bd0b7c1b4ce0991bf99ae43d30f9"
      ],
      "layout": "IPY_MODEL_0d09365d051646a8808d91e743f242bf"
     }
    },
    "7ab57253e3694a60a3e1103bc6110dbe": {
     "model_module": "@jupyter-widgets/controls",
     "model_module_version": "1.5.0",
     "model_name": "DescriptionStyleModel",
     "state": {
      "_model_module": "@jupyter-widgets/controls",
      "_model_module_version": "1.5.0",
      "_model_name": "DescriptionStyleModel",
      "_view_count": null,
      "_view_module": "@jupyter-widgets/base",
      "_view_module_version": "1.2.0",
      "_view_name": "StyleView",
      "description_width": ""
     }
    },
    "800a1ce590874e3e86f44b0a3d13ad60": {
     "model_module": "@jupyter-widgets/controls",
     "model_module_version": "1.5.0",
     "model_name": "DescriptionStyleModel",
     "state": {
      "_model_module": "@jupyter-widgets/controls",
      "_model_module_version": "1.5.0",
      "_model_name": "DescriptionStyleModel",
      "_view_count": null,
      "_view_module": "@jupyter-widgets/base",
      "_view_module_version": "1.2.0",
      "_view_name": "StyleView",
      "description_width": ""
     }
    },
    "822dd97aed62489db2c6d85fc97cf439": {
     "model_module": "@jupyter-widgets/controls",
     "model_module_version": "1.5.0",
     "model_name": "DescriptionStyleModel",
     "state": {
      "_model_module": "@jupyter-widgets/controls",
      "_model_module_version": "1.5.0",
      "_model_name": "DescriptionStyleModel",
      "_view_count": null,
      "_view_module": "@jupyter-widgets/base",
      "_view_module_version": "1.2.0",
      "_view_name": "StyleView",
      "description_width": ""
     }
    },
    "83faa88e52b043fea75219ec41ab4dcb": {
     "model_module": "@jupyter-widgets/base",
     "model_module_version": "1.2.0",
     "model_name": "LayoutModel",
     "state": {
      "_model_module": "@jupyter-widgets/base",
      "_model_module_version": "1.2.0",
      "_model_name": "LayoutModel",
      "_view_count": null,
      "_view_module": "@jupyter-widgets/base",
      "_view_module_version": "1.2.0",
      "_view_name": "LayoutView",
      "align_content": null,
      "align_items": null,
      "align_self": null,
      "border": null,
      "bottom": null,
      "display": null,
      "flex": null,
      "flex_flow": null,
      "grid_area": null,
      "grid_auto_columns": null,
      "grid_auto_flow": null,
      "grid_auto_rows": null,
      "grid_column": null,
      "grid_gap": null,
      "grid_row": null,
      "grid_template_areas": null,
      "grid_template_columns": null,
      "grid_template_rows": null,
      "height": null,
      "justify_content": null,
      "justify_items": null,
      "left": null,
      "margin": null,
      "max_height": null,
      "max_width": null,
      "min_height": null,
      "min_width": null,
      "object_fit": null,
      "object_position": null,
      "order": null,
      "overflow": null,
      "overflow_x": null,
      "overflow_y": null,
      "padding": null,
      "right": null,
      "top": null,
      "visibility": null,
      "width": null
     }
    },
    "865d5c733a894fcfaf29144f48a8b565": {
     "model_module": "@jupyter-widgets/controls",
     "model_module_version": "1.5.0",
     "model_name": "ProgressStyleModel",
     "state": {
      "_model_module": "@jupyter-widgets/controls",
      "_model_module_version": "1.5.0",
      "_model_name": "ProgressStyleModel",
      "_view_count": null,
      "_view_module": "@jupyter-widgets/base",
      "_view_module_version": "1.2.0",
      "_view_name": "StyleView",
      "bar_color": null,
      "description_width": ""
     }
    },
    "8733268a527c4f86a41917d9feed6b0c": {
     "model_module": "@jupyter-widgets/controls",
     "model_module_version": "1.5.0",
     "model_name": "DescriptionStyleModel",
     "state": {
      "_model_module": "@jupyter-widgets/controls",
      "_model_module_version": "1.5.0",
      "_model_name": "DescriptionStyleModel",
      "_view_count": null,
      "_view_module": "@jupyter-widgets/base",
      "_view_module_version": "1.2.0",
      "_view_name": "StyleView",
      "description_width": ""
     }
    },
    "87615c75c5d046a0b3f3c5a339172f95": {
     "model_module": "@jupyter-widgets/controls",
     "model_module_version": "1.5.0",
     "model_name": "DescriptionStyleModel",
     "state": {
      "_model_module": "@jupyter-widgets/controls",
      "_model_module_version": "1.5.0",
      "_model_name": "DescriptionStyleModel",
      "_view_count": null,
      "_view_module": "@jupyter-widgets/base",
      "_view_module_version": "1.2.0",
      "_view_name": "StyleView",
      "description_width": ""
     }
    },
    "8a05043b3add4dd4a8b52e779df076ae": {
     "model_module": "@jupyter-widgets/controls",
     "model_module_version": "1.5.0",
     "model_name": "FloatProgressModel",
     "state": {
      "_dom_classes": [],
      "_model_module": "@jupyter-widgets/controls",
      "_model_module_version": "1.5.0",
      "_model_name": "FloatProgressModel",
      "_view_count": null,
      "_view_module": "@jupyter-widgets/controls",
      "_view_module_version": "1.5.0",
      "_view_name": "ProgressView",
      "bar_style": "success",
      "description": "",
      "description_tooltip": null,
      "layout": "IPY_MODEL_8cdc54c8812d4f79a126e160e07e96b1",
      "max": 6,
      "min": 0,
      "orientation": "horizontal",
      "style": "IPY_MODEL_1acc2a2be9dc4b63b5d72180c5d18700",
      "value": 6
     }
    },
    "8cdc54c8812d4f79a126e160e07e96b1": {
     "model_module": "@jupyter-widgets/base",
     "model_module_version": "1.2.0",
     "model_name": "LayoutModel",
     "state": {
      "_model_module": "@jupyter-widgets/base",
      "_model_module_version": "1.2.0",
      "_model_name": "LayoutModel",
      "_view_count": null,
      "_view_module": "@jupyter-widgets/base",
      "_view_module_version": "1.2.0",
      "_view_name": "LayoutView",
      "align_content": null,
      "align_items": null,
      "align_self": null,
      "border": null,
      "bottom": null,
      "display": null,
      "flex": null,
      "flex_flow": null,
      "grid_area": null,
      "grid_auto_columns": null,
      "grid_auto_flow": null,
      "grid_auto_rows": null,
      "grid_column": null,
      "grid_gap": null,
      "grid_row": null,
      "grid_template_areas": null,
      "grid_template_columns": null,
      "grid_template_rows": null,
      "height": null,
      "justify_content": null,
      "justify_items": null,
      "left": null,
      "margin": null,
      "max_height": null,
      "max_width": null,
      "min_height": null,
      "min_width": null,
      "object_fit": null,
      "object_position": null,
      "order": null,
      "overflow": null,
      "overflow_x": null,
      "overflow_y": null,
      "padding": null,
      "right": null,
      "top": null,
      "visibility": null,
      "width": null
     }
    },
    "8d4d8c86bbcd41799af28bec8431bf6b": {
     "model_module": "@jupyter-widgets/base",
     "model_module_version": "1.2.0",
     "model_name": "LayoutModel",
     "state": {
      "_model_module": "@jupyter-widgets/base",
      "_model_module_version": "1.2.0",
      "_model_name": "LayoutModel",
      "_view_count": null,
      "_view_module": "@jupyter-widgets/base",
      "_view_module_version": "1.2.0",
      "_view_name": "LayoutView",
      "align_content": null,
      "align_items": null,
      "align_self": null,
      "border": null,
      "bottom": null,
      "display": null,
      "flex": null,
      "flex_flow": null,
      "grid_area": null,
      "grid_auto_columns": null,
      "grid_auto_flow": null,
      "grid_auto_rows": null,
      "grid_column": null,
      "grid_gap": null,
      "grid_row": null,
      "grid_template_areas": null,
      "grid_template_columns": null,
      "grid_template_rows": null,
      "height": null,
      "justify_content": null,
      "justify_items": null,
      "left": null,
      "margin": null,
      "max_height": null,
      "max_width": null,
      "min_height": null,
      "min_width": null,
      "object_fit": null,
      "object_position": null,
      "order": null,
      "overflow": null,
      "overflow_x": null,
      "overflow_y": null,
      "padding": null,
      "right": null,
      "top": null,
      "visibility": null,
      "width": null
     }
    },
    "8f13e2b2afe047d18e74cb57037df09b": {
     "model_module": "@jupyter-widgets/base",
     "model_module_version": "1.2.0",
     "model_name": "LayoutModel",
     "state": {
      "_model_module": "@jupyter-widgets/base",
      "_model_module_version": "1.2.0",
      "_model_name": "LayoutModel",
      "_view_count": null,
      "_view_module": "@jupyter-widgets/base",
      "_view_module_version": "1.2.0",
      "_view_name": "LayoutView",
      "align_content": null,
      "align_items": null,
      "align_self": null,
      "border": null,
      "bottom": null,
      "display": null,
      "flex": null,
      "flex_flow": null,
      "grid_area": null,
      "grid_auto_columns": null,
      "grid_auto_flow": null,
      "grid_auto_rows": null,
      "grid_column": null,
      "grid_gap": null,
      "grid_row": null,
      "grid_template_areas": null,
      "grid_template_columns": null,
      "grid_template_rows": null,
      "height": null,
      "justify_content": null,
      "justify_items": null,
      "left": null,
      "margin": null,
      "max_height": null,
      "max_width": null,
      "min_height": null,
      "min_width": null,
      "object_fit": null,
      "object_position": null,
      "order": null,
      "overflow": null,
      "overflow_x": null,
      "overflow_y": null,
      "padding": null,
      "right": null,
      "top": null,
      "visibility": null,
      "width": null
     }
    },
    "9106e27adfc2478eafb08bcc018a29c3": {
     "model_module": "@jupyter-widgets/controls",
     "model_module_version": "1.5.0",
     "model_name": "HTMLModel",
     "state": {
      "_dom_classes": [],
      "_model_module": "@jupyter-widgets/controls",
      "_model_module_version": "1.5.0",
      "_model_name": "HTMLModel",
      "_view_count": null,
      "_view_module": "@jupyter-widgets/controls",
      "_view_module_version": "1.5.0",
      "_view_name": "HTMLView",
      "description": "",
      "description_tooltip": null,
      "layout": "IPY_MODEL_99f25dd11c86477b938ef41270c33422",
      "placeholder": "​",
      "style": "IPY_MODEL_ca932b4ba35e473c9bf84b6e2c8081fc",
      "value": "100%"
     }
    },
    "96ee2bb7191d4844bf07235599bb5b57": {
     "model_module": "@jupyter-widgets/base",
     "model_module_version": "1.2.0",
     "model_name": "LayoutModel",
     "state": {
      "_model_module": "@jupyter-widgets/base",
      "_model_module_version": "1.2.0",
      "_model_name": "LayoutModel",
      "_view_count": null,
      "_view_module": "@jupyter-widgets/base",
      "_view_module_version": "1.2.0",
      "_view_name": "LayoutView",
      "align_content": null,
      "align_items": null,
      "align_self": null,
      "border": null,
      "bottom": null,
      "display": null,
      "flex": null,
      "flex_flow": null,
      "grid_area": null,
      "grid_auto_columns": null,
      "grid_auto_flow": null,
      "grid_auto_rows": null,
      "grid_column": null,
      "grid_gap": null,
      "grid_row": null,
      "grid_template_areas": null,
      "grid_template_columns": null,
      "grid_template_rows": null,
      "height": null,
      "justify_content": null,
      "justify_items": null,
      "left": null,
      "margin": null,
      "max_height": null,
      "max_width": null,
      "min_height": null,
      "min_width": null,
      "object_fit": null,
      "object_position": null,
      "order": null,
      "overflow": null,
      "overflow_x": null,
      "overflow_y": null,
      "padding": null,
      "right": null,
      "top": null,
      "visibility": null,
      "width": null
     }
    },
    "97ea1a1a072843b6a1bc924fa119fdf2": {
     "model_module": "@jupyter-widgets/controls",
     "model_module_version": "1.5.0",
     "model_name": "HTMLModel",
     "state": {
      "_dom_classes": [],
      "_model_module": "@jupyter-widgets/controls",
      "_model_module_version": "1.5.0",
      "_model_name": "HTMLModel",
      "_view_count": null,
      "_view_module": "@jupyter-widgets/controls",
      "_view_module_version": "1.5.0",
      "_view_name": "HTMLView",
      "description": "",
      "description_tooltip": null,
      "layout": "IPY_MODEL_4e7073f89aae4b36bf67f63debefa998",
      "placeholder": "​",
      "style": "IPY_MODEL_d42dd1319a124f689b81082cdfc3ee70",
      "value": " 6/6 [00:00&lt;00:00, 73.76it/s]"
     }
    },
    "997ff6d0878a419ea86b342824d5b270": {
     "model_module": "@jupyter-widgets/controls",
     "model_module_version": "1.5.0",
     "model_name": "HTMLModel",
     "state": {
      "_dom_classes": [],
      "_model_module": "@jupyter-widgets/controls",
      "_model_module_version": "1.5.0",
      "_model_name": "HTMLModel",
      "_view_count": null,
      "_view_module": "@jupyter-widgets/controls",
      "_view_module_version": "1.5.0",
      "_view_name": "HTMLView",
      "description": "",
      "description_tooltip": null,
      "layout": "IPY_MODEL_eb84ed5e28bf4cf586a8979419b2d118",
      "placeholder": "​",
      "style": "IPY_MODEL_64b9299693bb4ad4806353ed073cfe0c",
      "value": " 1000/3760 [04:16&lt;11:29,  4.00it/s]"
     }
    },
    "99f25dd11c86477b938ef41270c33422": {
     "model_module": "@jupyter-widgets/base",
     "model_module_version": "1.2.0",
     "model_name": "LayoutModel",
     "state": {
      "_model_module": "@jupyter-widgets/base",
      "_model_module_version": "1.2.0",
      "_model_name": "LayoutModel",
      "_view_count": null,
      "_view_module": "@jupyter-widgets/base",
      "_view_module_version": "1.2.0",
      "_view_name": "LayoutView",
      "align_content": null,
      "align_items": null,
      "align_self": null,
      "border": null,
      "bottom": null,
      "display": null,
      "flex": null,
      "flex_flow": null,
      "grid_area": null,
      "grid_auto_columns": null,
      "grid_auto_flow": null,
      "grid_auto_rows": null,
      "grid_column": null,
      "grid_gap": null,
      "grid_row": null,
      "grid_template_areas": null,
      "grid_template_columns": null,
      "grid_template_rows": null,
      "height": null,
      "justify_content": null,
      "justify_items": null,
      "left": null,
      "margin": null,
      "max_height": null,
      "max_width": null,
      "min_height": null,
      "min_width": null,
      "object_fit": null,
      "object_position": null,
      "order": null,
      "overflow": null,
      "overflow_x": null,
      "overflow_y": null,
      "padding": null,
      "right": null,
      "top": null,
      "visibility": null,
      "width": null
     }
    },
    "9a2b6c5e2846463db0abf733b6d461f1": {
     "model_module": "@jupyter-widgets/controls",
     "model_module_version": "1.5.0",
     "model_name": "HBoxModel",
     "state": {
      "_dom_classes": [],
      "_model_module": "@jupyter-widgets/controls",
      "_model_module_version": "1.5.0",
      "_model_name": "HBoxModel",
      "_view_count": null,
      "_view_module": "@jupyter-widgets/controls",
      "_view_module_version": "1.5.0",
      "_view_name": "HBoxView",
      "box_style": "",
      "children": [
       "IPY_MODEL_2ef5936a7ec243f3a7716b72328ce71c",
       "IPY_MODEL_143d612c2d3944aaaa8a4bcd96c279b5",
       "IPY_MODEL_58c2d78a62d546659af49cc9545c6948"
      ],
      "layout": "IPY_MODEL_0cc5e61e76bb46f791b7b6538e4a68b4"
     }
    },
    "9cdf0fcd349c4a27814ccb865e9392ae": {
     "model_module": "@jupyter-widgets/controls",
     "model_module_version": "1.5.0",
     "model_name": "HTMLModel",
     "state": {
      "_dom_classes": [],
      "_model_module": "@jupyter-widgets/controls",
      "_model_module_version": "1.5.0",
      "_model_name": "HTMLModel",
      "_view_count": null,
      "_view_module": "@jupyter-widgets/controls",
      "_view_module_version": "1.5.0",
      "_view_name": "HTMLView",
      "description": "",
      "description_tooltip": null,
      "layout": "IPY_MODEL_4553df5af5b8435db52b3c43f2b7752d",
      "placeholder": "​",
      "style": "IPY_MODEL_0435261737d641bbb8625985441362d0",
      "value": "100%"
     }
    },
    "9e3d7ce7c92b42258515b3ad3650068d": {
     "model_module": "@jupyter-widgets/base",
     "model_module_version": "1.2.0",
     "model_name": "LayoutModel",
     "state": {
      "_model_module": "@jupyter-widgets/base",
      "_model_module_version": "1.2.0",
      "_model_name": "LayoutModel",
      "_view_count": null,
      "_view_module": "@jupyter-widgets/base",
      "_view_module_version": "1.2.0",
      "_view_name": "LayoutView",
      "align_content": null,
      "align_items": null,
      "align_self": null,
      "border": null,
      "bottom": null,
      "display": null,
      "flex": null,
      "flex_flow": null,
      "grid_area": null,
      "grid_auto_columns": null,
      "grid_auto_flow": null,
      "grid_auto_rows": null,
      "grid_column": null,
      "grid_gap": null,
      "grid_row": null,
      "grid_template_areas": null,
      "grid_template_columns": null,
      "grid_template_rows": null,
      "height": null,
      "justify_content": null,
      "justify_items": null,
      "left": null,
      "margin": null,
      "max_height": null,
      "max_width": null,
      "min_height": null,
      "min_width": null,
      "object_fit": null,
      "object_position": null,
      "order": null,
      "overflow": null,
      "overflow_x": null,
      "overflow_y": null,
      "padding": null,
      "right": null,
      "top": null,
      "visibility": null,
      "width": null
     }
    },
    "9f6643fcfdeb4c8c9188a173186e9222": {
     "model_module": "@jupyter-widgets/controls",
     "model_module_version": "1.5.0",
     "model_name": "HTMLModel",
     "state": {
      "_dom_classes": [],
      "_model_module": "@jupyter-widgets/controls",
      "_model_module_version": "1.5.0",
      "_model_name": "HTMLModel",
      "_view_count": null,
      "_view_module": "@jupyter-widgets/controls",
      "_view_module_version": "1.5.0",
      "_view_name": "HTMLView",
      "description": "",
      "description_tooltip": null,
      "layout": "IPY_MODEL_2703dd51126944d883e4953ce27d4d59",
      "placeholder": "​",
      "style": "IPY_MODEL_1a1759fdf36040db84ed6eeffa88fff8",
      "value": " 6/6 [00:00&lt;00:00,  9.68it/s]"
     }
    },
    "a366629fac824258b7e6bcd51bbb706c": {
     "model_module": "@jupyter-widgets/controls",
     "model_module_version": "1.5.0",
     "model_name": "FloatProgressModel",
     "state": {
      "_dom_classes": [],
      "_model_module": "@jupyter-widgets/controls",
      "_model_module_version": "1.5.0",
      "_model_name": "FloatProgressModel",
      "_view_count": null,
      "_view_module": "@jupyter-widgets/controls",
      "_view_module_version": "1.5.0",
      "_view_name": "ProgressView",
      "bar_style": "success",
      "description": "",
      "description_tooltip": null,
      "layout": "IPY_MODEL_a9d915fcf6224b7eb6fff4b417af630a",
      "max": 6,
      "min": 0,
      "orientation": "horizontal",
      "style": "IPY_MODEL_2f352d0aa3a340e4bb4b2799475fcd81",
      "value": 6
     }
    },
    "a43096a7f51845bdb17f799a14625e36": {
     "model_module": "@jupyter-widgets/controls",
     "model_module_version": "1.5.0",
     "model_name": "HBoxModel",
     "state": {
      "_dom_classes": [],
      "_model_module": "@jupyter-widgets/controls",
      "_model_module_version": "1.5.0",
      "_model_name": "HBoxModel",
      "_view_count": null,
      "_view_module": "@jupyter-widgets/controls",
      "_view_module_version": "1.5.0",
      "_view_name": "HBoxView",
      "box_style": "",
      "children": [
       "IPY_MODEL_49cc2d1b19e54716bf1ab9dc473e7a04",
       "IPY_MODEL_cb57fde94ba24a2f95a75e6b6e4d506d",
       "IPY_MODEL_0128bab0f84442eabaee243e0873dbac"
      ],
      "layout": "IPY_MODEL_d4805c02c8ec4db3b86cc8d02caa0f2c"
     }
    },
    "a6c79da8dde4442f80b587c6653f369a": {
     "model_module": "@jupyter-widgets/controls",
     "model_module_version": "1.5.0",
     "model_name": "HTMLModel",
     "state": {
      "_dom_classes": [],
      "_model_module": "@jupyter-widgets/controls",
      "_model_module_version": "1.5.0",
      "_model_name": "HTMLModel",
      "_view_count": null,
      "_view_module": "@jupyter-widgets/controls",
      "_view_module_version": "1.5.0",
      "_view_name": "HTMLView",
      "description": "",
      "description_tooltip": null,
      "layout": "IPY_MODEL_8d4d8c86bbcd41799af28bec8431bf6b",
      "placeholder": "​",
      "style": "IPY_MODEL_87615c75c5d046a0b3f3c5a339172f95",
      "value": " 27%"
     }
    },
    "a997965ed9914b93a04907ccae69a7c9": {
     "model_module": "@jupyter-widgets/base",
     "model_module_version": "1.2.0",
     "model_name": "LayoutModel",
     "state": {
      "_model_module": "@jupyter-widgets/base",
      "_model_module_version": "1.2.0",
      "_model_name": "LayoutModel",
      "_view_count": null,
      "_view_module": "@jupyter-widgets/base",
      "_view_module_version": "1.2.0",
      "_view_name": "LayoutView",
      "align_content": null,
      "align_items": null,
      "align_self": null,
      "border": null,
      "bottom": null,
      "display": null,
      "flex": null,
      "flex_flow": null,
      "grid_area": null,
      "grid_auto_columns": null,
      "grid_auto_flow": null,
      "grid_auto_rows": null,
      "grid_column": null,
      "grid_gap": null,
      "grid_row": null,
      "grid_template_areas": null,
      "grid_template_columns": null,
      "grid_template_rows": null,
      "height": null,
      "justify_content": null,
      "justify_items": null,
      "left": null,
      "margin": null,
      "max_height": null,
      "max_width": null,
      "min_height": null,
      "min_width": null,
      "object_fit": null,
      "object_position": null,
      "order": null,
      "overflow": null,
      "overflow_x": null,
      "overflow_y": null,
      "padding": null,
      "right": null,
      "top": null,
      "visibility": null,
      "width": null
     }
    },
    "a9d915fcf6224b7eb6fff4b417af630a": {
     "model_module": "@jupyter-widgets/base",
     "model_module_version": "1.2.0",
     "model_name": "LayoutModel",
     "state": {
      "_model_module": "@jupyter-widgets/base",
      "_model_module_version": "1.2.0",
      "_model_name": "LayoutModel",
      "_view_count": null,
      "_view_module": "@jupyter-widgets/base",
      "_view_module_version": "1.2.0",
      "_view_name": "LayoutView",
      "align_content": null,
      "align_items": null,
      "align_self": null,
      "border": null,
      "bottom": null,
      "display": null,
      "flex": null,
      "flex_flow": null,
      "grid_area": null,
      "grid_auto_columns": null,
      "grid_auto_flow": null,
      "grid_auto_rows": null,
      "grid_column": null,
      "grid_gap": null,
      "grid_row": null,
      "grid_template_areas": null,
      "grid_template_columns": null,
      "grid_template_rows": null,
      "height": null,
      "justify_content": null,
      "justify_items": null,
      "left": null,
      "margin": null,
      "max_height": null,
      "max_width": null,
      "min_height": null,
      "min_width": null,
      "object_fit": null,
      "object_position": null,
      "order": null,
      "overflow": null,
      "overflow_x": null,
      "overflow_y": null,
      "padding": null,
      "right": null,
      "top": null,
      "visibility": null,
      "width": null
     }
    },
    "ad50796b42b648208aa5affdf1076489": {
     "model_module": "@jupyter-widgets/controls",
     "model_module_version": "1.5.0",
     "model_name": "DescriptionStyleModel",
     "state": {
      "_model_module": "@jupyter-widgets/controls",
      "_model_module_version": "1.5.0",
      "_model_name": "DescriptionStyleModel",
      "_view_count": null,
      "_view_module": "@jupyter-widgets/base",
      "_view_module_version": "1.2.0",
      "_view_name": "StyleView",
      "description_width": ""
     }
    },
    "ae32ff2109bb4c6bb99e06166e446b78": {
     "model_module": "@jupyter-widgets/controls",
     "model_module_version": "1.5.0",
     "model_name": "ProgressStyleModel",
     "state": {
      "_model_module": "@jupyter-widgets/controls",
      "_model_module_version": "1.5.0",
      "_model_name": "ProgressStyleModel",
      "_view_count": null,
      "_view_module": "@jupyter-widgets/base",
      "_view_module_version": "1.2.0",
      "_view_name": "StyleView",
      "bar_color": null,
      "description_width": ""
     }
    },
    "ae94c1044b294f699b812f93834f3cdf": {
     "model_module": "@jupyter-widgets/controls",
     "model_module_version": "1.5.0",
     "model_name": "HTMLModel",
     "state": {
      "_dom_classes": [],
      "_model_module": "@jupyter-widgets/controls",
      "_model_module_version": "1.5.0",
      "_model_name": "HTMLModel",
      "_view_count": null,
      "_view_module": "@jupyter-widgets/controls",
      "_view_module_version": "1.5.0",
      "_view_name": "HTMLView",
      "description": "",
      "description_tooltip": null,
      "layout": "IPY_MODEL_05e3ece3d96c49f6aee96f9a3184e746",
      "placeholder": "​",
      "style": "IPY_MODEL_318d5f7890e44db9804533a48af52389",
      "value": " 1000/3760 [03:32&lt;09:29,  4.85it/s]"
     }
    },
    "afd808a311ad4c078be5ccdb17151da5": {
     "model_module": "@jupyter-widgets/base",
     "model_module_version": "1.2.0",
     "model_name": "LayoutModel",
     "state": {
      "_model_module": "@jupyter-widgets/base",
      "_model_module_version": "1.2.0",
      "_model_name": "LayoutModel",
      "_view_count": null,
      "_view_module": "@jupyter-widgets/base",
      "_view_module_version": "1.2.0",
      "_view_name": "LayoutView",
      "align_content": null,
      "align_items": null,
      "align_self": null,
      "border": null,
      "bottom": null,
      "display": null,
      "flex": null,
      "flex_flow": null,
      "grid_area": null,
      "grid_auto_columns": null,
      "grid_auto_flow": null,
      "grid_auto_rows": null,
      "grid_column": null,
      "grid_gap": null,
      "grid_row": null,
      "grid_template_areas": null,
      "grid_template_columns": null,
      "grid_template_rows": null,
      "height": null,
      "justify_content": null,
      "justify_items": null,
      "left": null,
      "margin": null,
      "max_height": null,
      "max_width": null,
      "min_height": null,
      "min_width": null,
      "object_fit": null,
      "object_position": null,
      "order": null,
      "overflow": null,
      "overflow_x": null,
      "overflow_y": null,
      "padding": null,
      "right": null,
      "top": null,
      "visibility": null,
      "width": null
     }
    },
    "b3972a5b229f43bbaabc71bc7ecee82d": {
     "model_module": "@jupyter-widgets/controls",
     "model_module_version": "1.5.0",
     "model_name": "FloatProgressModel",
     "state": {
      "_dom_classes": [],
      "_model_module": "@jupyter-widgets/controls",
      "_model_module_version": "1.5.0",
      "_model_name": "FloatProgressModel",
      "_view_count": null,
      "_view_module": "@jupyter-widgets/controls",
      "_view_module_version": "1.5.0",
      "_view_name": "ProgressView",
      "bar_style": "danger",
      "description": "",
      "description_tooltip": null,
      "layout": "IPY_MODEL_05862a53f25340b3a183dcd9cf2577e5",
      "max": 3760,
      "min": 0,
      "orientation": "horizontal",
      "style": "IPY_MODEL_ae32ff2109bb4c6bb99e06166e446b78",
      "value": 1000
     }
    },
    "b80abcf64e034d86b97ca669ce04d1d5": {
     "model_module": "@jupyter-widgets/controls",
     "model_module_version": "1.5.0",
     "model_name": "HTMLModel",
     "state": {
      "_dom_classes": [],
      "_model_module": "@jupyter-widgets/controls",
      "_model_module_version": "1.5.0",
      "_model_name": "HTMLModel",
      "_view_count": null,
      "_view_module": "@jupyter-widgets/controls",
      "_view_module_version": "1.5.0",
      "_view_name": "HTMLView",
      "description": "",
      "description_tooltip": null,
      "layout": "IPY_MODEL_2222fc8de43d45d18a8ec7bc2a28ac87",
      "placeholder": "​",
      "style": "IPY_MODEL_18ecbfb956434dc08fec906404513954",
      "value": " 6/6 [00:00&lt;00:00, 108.43it/s]"
     }
    },
    "b968fd86f88543bd9ec63a5265498eeb": {
     "model_module": "@jupyter-widgets/controls",
     "model_module_version": "1.5.0",
     "model_name": "DescriptionStyleModel",
     "state": {
      "_model_module": "@jupyter-widgets/controls",
      "_model_module_version": "1.5.0",
      "_model_name": "DescriptionStyleModel",
      "_view_count": null,
      "_view_module": "@jupyter-widgets/base",
      "_view_module_version": "1.2.0",
      "_view_name": "StyleView",
      "description_width": ""
     }
    },
    "b976639e098040a588f6237460058314": {
     "model_module": "@jupyter-widgets/controls",
     "model_module_version": "1.5.0",
     "model_name": "HBoxModel",
     "state": {
      "_dom_classes": [],
      "_model_module": "@jupyter-widgets/controls",
      "_model_module_version": "1.5.0",
      "_model_name": "HBoxModel",
      "_view_count": null,
      "_view_module": "@jupyter-widgets/controls",
      "_view_module_version": "1.5.0",
      "_view_name": "HBoxView",
      "box_style": "",
      "children": [
       "IPY_MODEL_9106e27adfc2478eafb08bcc018a29c3",
       "IPY_MODEL_4c4558f8d7284ac0a9533246b5fe91eb",
       "IPY_MODEL_9f6643fcfdeb4c8c9188a173186e9222"
      ],
      "layout": "IPY_MODEL_d27f1d9bf8e34a6cb94295a0aa08c7e7"
     }
    },
    "babefb5447d24c3fac1092c9932b7a80": {
     "model_module": "@jupyter-widgets/controls",
     "model_module_version": "1.5.0",
     "model_name": "DescriptionStyleModel",
     "state": {
      "_model_module": "@jupyter-widgets/controls",
      "_model_module_version": "1.5.0",
      "_model_name": "DescriptionStyleModel",
      "_view_count": null,
      "_view_module": "@jupyter-widgets/base",
      "_view_module_version": "1.2.0",
      "_view_name": "StyleView",
      "description_width": ""
     }
    },
    "bb277dcc1e204577828d962337bf6ad0": {
     "model_module": "@jupyter-widgets/controls",
     "model_module_version": "1.5.0",
     "model_name": "HBoxModel",
     "state": {
      "_dom_classes": [],
      "_model_module": "@jupyter-widgets/controls",
      "_model_module_version": "1.5.0",
      "_model_name": "HBoxModel",
      "_view_count": null,
      "_view_module": "@jupyter-widgets/controls",
      "_view_module_version": "1.5.0",
      "_view_name": "HBoxView",
      "box_style": "",
      "children": [
       "IPY_MODEL_cc2e3795f2e146159464b0889b8f7555",
       "IPY_MODEL_6768784332ff4d61ae5253dac15bebd3",
       "IPY_MODEL_997ff6d0878a419ea86b342824d5b270"
      ],
      "layout": "IPY_MODEL_737d602d5a4645bc997720786fc28ca5"
     }
    },
    "bed2841b009048b3b5ea32a8d49aa5aa": {
     "model_module": "@jupyter-widgets/base",
     "model_module_version": "1.2.0",
     "model_name": "LayoutModel",
     "state": {
      "_model_module": "@jupyter-widgets/base",
      "_model_module_version": "1.2.0",
      "_model_name": "LayoutModel",
      "_view_count": null,
      "_view_module": "@jupyter-widgets/base",
      "_view_module_version": "1.2.0",
      "_view_name": "LayoutView",
      "align_content": null,
      "align_items": null,
      "align_self": null,
      "border": null,
      "bottom": null,
      "display": null,
      "flex": null,
      "flex_flow": null,
      "grid_area": null,
      "grid_auto_columns": null,
      "grid_auto_flow": null,
      "grid_auto_rows": null,
      "grid_column": null,
      "grid_gap": null,
      "grid_row": null,
      "grid_template_areas": null,
      "grid_template_columns": null,
      "grid_template_rows": null,
      "height": null,
      "justify_content": null,
      "justify_items": null,
      "left": null,
      "margin": null,
      "max_height": null,
      "max_width": null,
      "min_height": null,
      "min_width": null,
      "object_fit": null,
      "object_position": null,
      "order": null,
      "overflow": null,
      "overflow_x": null,
      "overflow_y": null,
      "padding": null,
      "right": null,
      "top": null,
      "visibility": null,
      "width": null
     }
    },
    "bfe5bd0b7c1b4ce0991bf99ae43d30f9": {
     "model_module": "@jupyter-widgets/controls",
     "model_module_version": "1.5.0",
     "model_name": "HTMLModel",
     "state": {
      "_dom_classes": [],
      "_model_module": "@jupyter-widgets/controls",
      "_model_module_version": "1.5.0",
      "_model_name": "HTMLModel",
      "_view_count": null,
      "_view_module": "@jupyter-widgets/controls",
      "_view_module_version": "1.5.0",
      "_view_name": "HTMLView",
      "description": "",
      "description_tooltip": null,
      "layout": "IPY_MODEL_9e3d7ce7c92b42258515b3ad3650068d",
      "placeholder": "​",
      "style": "IPY_MODEL_800a1ce590874e3e86f44b0a3d13ad60",
      "value": " 1000/3760 [01:25&lt;03:50, 12.00it/s]"
     }
    },
    "c0597006c11b49e88818af651b4be8a6": {
     "model_module": "@jupyter-widgets/base",
     "model_module_version": "1.2.0",
     "model_name": "LayoutModel",
     "state": {
      "_model_module": "@jupyter-widgets/base",
      "_model_module_version": "1.2.0",
      "_model_name": "LayoutModel",
      "_view_count": null,
      "_view_module": "@jupyter-widgets/base",
      "_view_module_version": "1.2.0",
      "_view_name": "LayoutView",
      "align_content": null,
      "align_items": null,
      "align_self": null,
      "border": null,
      "bottom": null,
      "display": null,
      "flex": null,
      "flex_flow": null,
      "grid_area": null,
      "grid_auto_columns": null,
      "grid_auto_flow": null,
      "grid_auto_rows": null,
      "grid_column": null,
      "grid_gap": null,
      "grid_row": null,
      "grid_template_areas": null,
      "grid_template_columns": null,
      "grid_template_rows": null,
      "height": null,
      "justify_content": null,
      "justify_items": null,
      "left": null,
      "margin": null,
      "max_height": null,
      "max_width": null,
      "min_height": null,
      "min_width": null,
      "object_fit": null,
      "object_position": null,
      "order": null,
      "overflow": null,
      "overflow_x": null,
      "overflow_y": null,
      "padding": null,
      "right": null,
      "top": null,
      "visibility": null,
      "width": null
     }
    },
    "c19e53684381463f846c3b2b247ae13e": {
     "model_module": "@jupyter-widgets/controls",
     "model_module_version": "1.5.0",
     "model_name": "HTMLModel",
     "state": {
      "_dom_classes": [],
      "_model_module": "@jupyter-widgets/controls",
      "_model_module_version": "1.5.0",
      "_model_name": "HTMLModel",
      "_view_count": null,
      "_view_module": "@jupyter-widgets/controls",
      "_view_module_version": "1.5.0",
      "_view_name": "HTMLView",
      "description": "",
      "description_tooltip": null,
      "layout": "IPY_MODEL_bed2841b009048b3b5ea32a8d49aa5aa",
      "placeholder": "​",
      "style": "IPY_MODEL_d4a3262cdec04c75a850ed0fafac5d29",
      "value": "100%"
     }
    },
    "c4f2d2ddfc9243cc8c6fbf6adf1e24da": {
     "model_module": "@jupyter-widgets/controls",
     "model_module_version": "1.5.0",
     "model_name": "HBoxModel",
     "state": {
      "_dom_classes": [],
      "_model_module": "@jupyter-widgets/controls",
      "_model_module_version": "1.5.0",
      "_model_name": "HBoxModel",
      "_view_count": null,
      "_view_module": "@jupyter-widgets/controls",
      "_view_module_version": "1.5.0",
      "_view_name": "HBoxView",
      "box_style": "",
      "children": [
       "IPY_MODEL_c19e53684381463f846c3b2b247ae13e",
       "IPY_MODEL_0dcfcc7e2d3443c9a4307fa9bbb7bcd7",
       "IPY_MODEL_58bc1f67e50b4350a2e769db990c6a22"
      ],
      "layout": "IPY_MODEL_d4aab80e7590456cbc042ff9111b7dae"
     }
    },
    "c5c522ff1666447387e57fb2d1ccb4d1": {
     "model_module": "@jupyter-widgets/controls",
     "model_module_version": "1.5.0",
     "model_name": "ProgressStyleModel",
     "state": {
      "_model_module": "@jupyter-widgets/controls",
      "_model_module_version": "1.5.0",
      "_model_name": "ProgressStyleModel",
      "_view_count": null,
      "_view_module": "@jupyter-widgets/base",
      "_view_module_version": "1.2.0",
      "_view_name": "StyleView",
      "bar_color": null,
      "description_width": ""
     }
    },
    "c70034b79d74436aafb7677ee837a667": {
     "model_module": "@jupyter-widgets/controls",
     "model_module_version": "1.5.0",
     "model_name": "FloatProgressModel",
     "state": {
      "_dom_classes": [],
      "_model_module": "@jupyter-widgets/controls",
      "_model_module_version": "1.5.0",
      "_model_name": "FloatProgressModel",
      "_view_count": null,
      "_view_module": "@jupyter-widgets/controls",
      "_view_module_version": "1.5.0",
      "_view_name": "ProgressView",
      "bar_style": "danger",
      "description": "",
      "description_tooltip": null,
      "layout": "IPY_MODEL_588e744886f948349ecc0cef8a9a4064",
      "max": 3760,
      "min": 0,
      "orientation": "horizontal",
      "style": "IPY_MODEL_077248c84a384302925418d45fd0ba29",
      "value": 1000
     }
    },
    "c7b315bc6caa4b1d80a774a9a25219ee": {
     "model_module": "@jupyter-widgets/controls",
     "model_module_version": "1.5.0",
     "model_name": "FloatProgressModel",
     "state": {
      "_dom_classes": [],
      "_model_module": "@jupyter-widgets/controls",
      "_model_module_version": "1.5.0",
      "_model_name": "FloatProgressModel",
      "_view_count": null,
      "_view_module": "@jupyter-widgets/controls",
      "_view_module_version": "1.5.0",
      "_view_name": "ProgressView",
      "bar_style": "danger",
      "description": "",
      "description_tooltip": null,
      "layout": "IPY_MODEL_8f13e2b2afe047d18e74cb57037df09b",
      "max": 3760,
      "min": 0,
      "orientation": "horizontal",
      "style": "IPY_MODEL_3abb41aa31db46bf857cfac56967e8ce",
      "value": 1000
     }
    },
    "c816cc112ce844e5929f47b707084175": {
     "model_module": "@jupyter-widgets/base",
     "model_module_version": "1.2.0",
     "model_name": "LayoutModel",
     "state": {
      "_model_module": "@jupyter-widgets/base",
      "_model_module_version": "1.2.0",
      "_model_name": "LayoutModel",
      "_view_count": null,
      "_view_module": "@jupyter-widgets/base",
      "_view_module_version": "1.2.0",
      "_view_name": "LayoutView",
      "align_content": null,
      "align_items": null,
      "align_self": null,
      "border": null,
      "bottom": null,
      "display": null,
      "flex": null,
      "flex_flow": null,
      "grid_area": null,
      "grid_auto_columns": null,
      "grid_auto_flow": null,
      "grid_auto_rows": null,
      "grid_column": null,
      "grid_gap": null,
      "grid_row": null,
      "grid_template_areas": null,
      "grid_template_columns": null,
      "grid_template_rows": null,
      "height": null,
      "justify_content": null,
      "justify_items": null,
      "left": null,
      "margin": null,
      "max_height": null,
      "max_width": null,
      "min_height": null,
      "min_width": null,
      "object_fit": null,
      "object_position": null,
      "order": null,
      "overflow": null,
      "overflow_x": null,
      "overflow_y": null,
      "padding": null,
      "right": null,
      "top": null,
      "visibility": null,
      "width": null
     }
    },
    "ca932b4ba35e473c9bf84b6e2c8081fc": {
     "model_module": "@jupyter-widgets/controls",
     "model_module_version": "1.5.0",
     "model_name": "DescriptionStyleModel",
     "state": {
      "_model_module": "@jupyter-widgets/controls",
      "_model_module_version": "1.5.0",
      "_model_name": "DescriptionStyleModel",
      "_view_count": null,
      "_view_module": "@jupyter-widgets/base",
      "_view_module_version": "1.2.0",
      "_view_name": "StyleView",
      "description_width": ""
     }
    },
    "caf26f7b39c443be800aabb5f03275ff": {
     "model_module": "@jupyter-widgets/controls",
     "model_module_version": "1.5.0",
     "model_name": "HTMLModel",
     "state": {
      "_dom_classes": [],
      "_model_module": "@jupyter-widgets/controls",
      "_model_module_version": "1.5.0",
      "_model_name": "HTMLModel",
      "_view_count": null,
      "_view_module": "@jupyter-widgets/controls",
      "_view_module_version": "1.5.0",
      "_view_name": "HTMLView",
      "description": "",
      "description_tooltip": null,
      "layout": "IPY_MODEL_5cd2556e25144d18832dbdd06eab9ba1",
      "placeholder": "​",
      "style": "IPY_MODEL_76fd7cb5996641d7a34a93337dffae82",
      "value": " 27%"
     }
    },
    "cb3423eda6d24b76acf1bac59dc295a9": {
     "model_module": "@jupyter-widgets/controls",
     "model_module_version": "1.5.0",
     "model_name": "FloatProgressModel",
     "state": {
      "_dom_classes": [],
      "_model_module": "@jupyter-widgets/controls",
      "_model_module_version": "1.5.0",
      "_model_name": "FloatProgressModel",
      "_view_count": null,
      "_view_module": "@jupyter-widgets/controls",
      "_view_module_version": "1.5.0",
      "_view_name": "ProgressView",
      "bar_style": "danger",
      "description": "",
      "description_tooltip": null,
      "layout": "IPY_MODEL_afd808a311ad4c078be5ccdb17151da5",
      "max": 3760,
      "min": 0,
      "orientation": "horizontal",
      "style": "IPY_MODEL_503802ba97704beab70f85ccf1170e32",
      "value": 1000
     }
    },
    "cb57fde94ba24a2f95a75e6b6e4d506d": {
     "model_module": "@jupyter-widgets/controls",
     "model_module_version": "1.5.0",
     "model_name": "FloatProgressModel",
     "state": {
      "_dom_classes": [],
      "_model_module": "@jupyter-widgets/controls",
      "_model_module_version": "1.5.0",
      "_model_name": "FloatProgressModel",
      "_view_count": null,
      "_view_module": "@jupyter-widgets/controls",
      "_view_module_version": "1.5.0",
      "_view_name": "ProgressView",
      "bar_style": "danger",
      "description": "",
      "description_tooltip": null,
      "layout": "IPY_MODEL_fe2f91230168428f92aec5d042bdb8a3",
      "max": 3760,
      "min": 0,
      "orientation": "horizontal",
      "style": "IPY_MODEL_fc37392e47434900963ab82e40c58f7b",
      "value": 1000
     }
    },
    "cc1d3ee211b346fd821ebb0442588028": {
     "model_module": "@jupyter-widgets/base",
     "model_module_version": "1.2.0",
     "model_name": "LayoutModel",
     "state": {
      "_model_module": "@jupyter-widgets/base",
      "_model_module_version": "1.2.0",
      "_model_name": "LayoutModel",
      "_view_count": null,
      "_view_module": "@jupyter-widgets/base",
      "_view_module_version": "1.2.0",
      "_view_name": "LayoutView",
      "align_content": null,
      "align_items": null,
      "align_self": null,
      "border": null,
      "bottom": null,
      "display": null,
      "flex": null,
      "flex_flow": null,
      "grid_area": null,
      "grid_auto_columns": null,
      "grid_auto_flow": null,
      "grid_auto_rows": null,
      "grid_column": null,
      "grid_gap": null,
      "grid_row": null,
      "grid_template_areas": null,
      "grid_template_columns": null,
      "grid_template_rows": null,
      "height": null,
      "justify_content": null,
      "justify_items": null,
      "left": null,
      "margin": null,
      "max_height": null,
      "max_width": null,
      "min_height": null,
      "min_width": null,
      "object_fit": null,
      "object_position": null,
      "order": null,
      "overflow": null,
      "overflow_x": null,
      "overflow_y": null,
      "padding": null,
      "right": null,
      "top": null,
      "visibility": null,
      "width": null
     }
    },
    "cc2e3795f2e146159464b0889b8f7555": {
     "model_module": "@jupyter-widgets/controls",
     "model_module_version": "1.5.0",
     "model_name": "HTMLModel",
     "state": {
      "_dom_classes": [],
      "_model_module": "@jupyter-widgets/controls",
      "_model_module_version": "1.5.0",
      "_model_name": "HTMLModel",
      "_view_count": null,
      "_view_module": "@jupyter-widgets/controls",
      "_view_module_version": "1.5.0",
      "_view_name": "HTMLView",
      "description": "",
      "description_tooltip": null,
      "layout": "IPY_MODEL_1d01a6a7ec1e4a22a09a98f94684e61f",
      "placeholder": "​",
      "style": "IPY_MODEL_babefb5447d24c3fac1092c9932b7a80",
      "value": " 27%"
     }
    },
    "d27f1d9bf8e34a6cb94295a0aa08c7e7": {
     "model_module": "@jupyter-widgets/base",
     "model_module_version": "1.2.0",
     "model_name": "LayoutModel",
     "state": {
      "_model_module": "@jupyter-widgets/base",
      "_model_module_version": "1.2.0",
      "_model_name": "LayoutModel",
      "_view_count": null,
      "_view_module": "@jupyter-widgets/base",
      "_view_module_version": "1.2.0",
      "_view_name": "LayoutView",
      "align_content": null,
      "align_items": null,
      "align_self": null,
      "border": null,
      "bottom": null,
      "display": null,
      "flex": null,
      "flex_flow": null,
      "grid_area": null,
      "grid_auto_columns": null,
      "grid_auto_flow": null,
      "grid_auto_rows": null,
      "grid_column": null,
      "grid_gap": null,
      "grid_row": null,
      "grid_template_areas": null,
      "grid_template_columns": null,
      "grid_template_rows": null,
      "height": null,
      "justify_content": null,
      "justify_items": null,
      "left": null,
      "margin": null,
      "max_height": null,
      "max_width": null,
      "min_height": null,
      "min_width": null,
      "object_fit": null,
      "object_position": null,
      "order": null,
      "overflow": null,
      "overflow_x": null,
      "overflow_y": null,
      "padding": null,
      "right": null,
      "top": null,
      "visibility": null,
      "width": null
     }
    },
    "d42dd1319a124f689b81082cdfc3ee70": {
     "model_module": "@jupyter-widgets/controls",
     "model_module_version": "1.5.0",
     "model_name": "DescriptionStyleModel",
     "state": {
      "_model_module": "@jupyter-widgets/controls",
      "_model_module_version": "1.5.0",
      "_model_name": "DescriptionStyleModel",
      "_view_count": null,
      "_view_module": "@jupyter-widgets/base",
      "_view_module_version": "1.2.0",
      "_view_name": "StyleView",
      "description_width": ""
     }
    },
    "d4805c02c8ec4db3b86cc8d02caa0f2c": {
     "model_module": "@jupyter-widgets/base",
     "model_module_version": "1.2.0",
     "model_name": "LayoutModel",
     "state": {
      "_model_module": "@jupyter-widgets/base",
      "_model_module_version": "1.2.0",
      "_model_name": "LayoutModel",
      "_view_count": null,
      "_view_module": "@jupyter-widgets/base",
      "_view_module_version": "1.2.0",
      "_view_name": "LayoutView",
      "align_content": null,
      "align_items": null,
      "align_self": null,
      "border": null,
      "bottom": null,
      "display": null,
      "flex": null,
      "flex_flow": null,
      "grid_area": null,
      "grid_auto_columns": null,
      "grid_auto_flow": null,
      "grid_auto_rows": null,
      "grid_column": null,
      "grid_gap": null,
      "grid_row": null,
      "grid_template_areas": null,
      "grid_template_columns": null,
      "grid_template_rows": null,
      "height": null,
      "justify_content": null,
      "justify_items": null,
      "left": null,
      "margin": null,
      "max_height": null,
      "max_width": null,
      "min_height": null,
      "min_width": null,
      "object_fit": null,
      "object_position": null,
      "order": null,
      "overflow": null,
      "overflow_x": null,
      "overflow_y": null,
      "padding": null,
      "right": null,
      "top": null,
      "visibility": null,
      "width": null
     }
    },
    "d4a3262cdec04c75a850ed0fafac5d29": {
     "model_module": "@jupyter-widgets/controls",
     "model_module_version": "1.5.0",
     "model_name": "DescriptionStyleModel",
     "state": {
      "_model_module": "@jupyter-widgets/controls",
      "_model_module_version": "1.5.0",
      "_model_name": "DescriptionStyleModel",
      "_view_count": null,
      "_view_module": "@jupyter-widgets/base",
      "_view_module_version": "1.2.0",
      "_view_name": "StyleView",
      "description_width": ""
     }
    },
    "d4aab80e7590456cbc042ff9111b7dae": {
     "model_module": "@jupyter-widgets/base",
     "model_module_version": "1.2.0",
     "model_name": "LayoutModel",
     "state": {
      "_model_module": "@jupyter-widgets/base",
      "_model_module_version": "1.2.0",
      "_model_name": "LayoutModel",
      "_view_count": null,
      "_view_module": "@jupyter-widgets/base",
      "_view_module_version": "1.2.0",
      "_view_name": "LayoutView",
      "align_content": null,
      "align_items": null,
      "align_self": null,
      "border": null,
      "bottom": null,
      "display": null,
      "flex": null,
      "flex_flow": null,
      "grid_area": null,
      "grid_auto_columns": null,
      "grid_auto_flow": null,
      "grid_auto_rows": null,
      "grid_column": null,
      "grid_gap": null,
      "grid_row": null,
      "grid_template_areas": null,
      "grid_template_columns": null,
      "grid_template_rows": null,
      "height": null,
      "justify_content": null,
      "justify_items": null,
      "left": null,
      "margin": null,
      "max_height": null,
      "max_width": null,
      "min_height": null,
      "min_width": null,
      "object_fit": null,
      "object_position": null,
      "order": null,
      "overflow": null,
      "overflow_x": null,
      "overflow_y": null,
      "padding": null,
      "right": null,
      "top": null,
      "visibility": null,
      "width": null
     }
    },
    "d8aee47eba9646a8a8c6c14dc9df206d": {
     "model_module": "@jupyter-widgets/controls",
     "model_module_version": "1.5.0",
     "model_name": "DescriptionStyleModel",
     "state": {
      "_model_module": "@jupyter-widgets/controls",
      "_model_module_version": "1.5.0",
      "_model_name": "DescriptionStyleModel",
      "_view_count": null,
      "_view_module": "@jupyter-widgets/base",
      "_view_module_version": "1.2.0",
      "_view_name": "StyleView",
      "description_width": ""
     }
    },
    "de855c3165cb4c8ca67bdfcb9b7f878e": {
     "model_module": "@jupyter-widgets/controls",
     "model_module_version": "1.5.0",
     "model_name": "HBoxModel",
     "state": {
      "_dom_classes": [],
      "_model_module": "@jupyter-widgets/controls",
      "_model_module_version": "1.5.0",
      "_model_name": "HBoxModel",
      "_view_count": null,
      "_view_module": "@jupyter-widgets/controls",
      "_view_module_version": "1.5.0",
      "_view_name": "HBoxView",
      "box_style": "",
      "children": [
       "IPY_MODEL_75a0143441d8465b8a5996fcbc4d5ec4",
       "IPY_MODEL_c70034b79d74436aafb7677ee837a667",
       "IPY_MODEL_ae94c1044b294f699b812f93834f3cdf"
      ],
      "layout": "IPY_MODEL_147ba53b6c4b42bb91f1cdae5b387fd2"
     }
    },
    "dffdbbe8112d42ac8656475a58716f37": {
     "model_module": "@jupyter-widgets/controls",
     "model_module_version": "1.5.0",
     "model_name": "DescriptionStyleModel",
     "state": {
      "_model_module": "@jupyter-widgets/controls",
      "_model_module_version": "1.5.0",
      "_model_name": "DescriptionStyleModel",
      "_view_count": null,
      "_view_module": "@jupyter-widgets/base",
      "_view_module_version": "1.2.0",
      "_view_name": "StyleView",
      "description_width": ""
     }
    },
    "e05c0869a1d64633acb020f9c0f3ca56": {
     "model_module": "@jupyter-widgets/base",
     "model_module_version": "1.2.0",
     "model_name": "LayoutModel",
     "state": {
      "_model_module": "@jupyter-widgets/base",
      "_model_module_version": "1.2.0",
      "_model_name": "LayoutModel",
      "_view_count": null,
      "_view_module": "@jupyter-widgets/base",
      "_view_module_version": "1.2.0",
      "_view_name": "LayoutView",
      "align_content": null,
      "align_items": null,
      "align_self": null,
      "border": null,
      "bottom": null,
      "display": null,
      "flex": null,
      "flex_flow": null,
      "grid_area": null,
      "grid_auto_columns": null,
      "grid_auto_flow": null,
      "grid_auto_rows": null,
      "grid_column": null,
      "grid_gap": null,
      "grid_row": null,
      "grid_template_areas": null,
      "grid_template_columns": null,
      "grid_template_rows": null,
      "height": null,
      "justify_content": null,
      "justify_items": null,
      "left": null,
      "margin": null,
      "max_height": null,
      "max_width": null,
      "min_height": null,
      "min_width": null,
      "object_fit": null,
      "object_position": null,
      "order": null,
      "overflow": null,
      "overflow_x": null,
      "overflow_y": null,
      "padding": null,
      "right": null,
      "top": null,
      "visibility": null,
      "width": null
     }
    },
    "e3d5899c72674b5aa1044afde0775179": {
     "model_module": "@jupyter-widgets/controls",
     "model_module_version": "1.5.0",
     "model_name": "HTMLModel",
     "state": {
      "_dom_classes": [],
      "_model_module": "@jupyter-widgets/controls",
      "_model_module_version": "1.5.0",
      "_model_name": "HTMLModel",
      "_view_count": null,
      "_view_module": "@jupyter-widgets/controls",
      "_view_module_version": "1.5.0",
      "_view_name": "HTMLView",
      "description": "",
      "description_tooltip": null,
      "layout": "IPY_MODEL_691dd72c4e334535a63bf532dbbba2da",
      "placeholder": "​",
      "style": "IPY_MODEL_7ab57253e3694a60a3e1103bc6110dbe",
      "value": "100%"
     }
    },
    "e457ef7fc7084539b966530c72d2fefb": {
     "model_module": "@jupyter-widgets/controls",
     "model_module_version": "1.5.0",
     "model_name": "HTMLModel",
     "state": {
      "_dom_classes": [],
      "_model_module": "@jupyter-widgets/controls",
      "_model_module_version": "1.5.0",
      "_model_name": "HTMLModel",
      "_view_count": null,
      "_view_module": "@jupyter-widgets/controls",
      "_view_module_version": "1.5.0",
      "_view_name": "HTMLView",
      "description": "",
      "description_tooltip": null,
      "layout": "IPY_MODEL_6a29cbbd1824446181d555ac803a3e0b",
      "placeholder": "​",
      "style": "IPY_MODEL_ad50796b42b648208aa5affdf1076489",
      "value": "100%"
     }
    },
    "e62fcbd93d9b4e7ebb6e75fe5b520a37": {
     "model_module": "@jupyter-widgets/base",
     "model_module_version": "1.2.0",
     "model_name": "LayoutModel",
     "state": {
      "_model_module": "@jupyter-widgets/base",
      "_model_module_version": "1.2.0",
      "_model_name": "LayoutModel",
      "_view_count": null,
      "_view_module": "@jupyter-widgets/base",
      "_view_module_version": "1.2.0",
      "_view_name": "LayoutView",
      "align_content": null,
      "align_items": null,
      "align_self": null,
      "border": null,
      "bottom": null,
      "display": null,
      "flex": null,
      "flex_flow": null,
      "grid_area": null,
      "grid_auto_columns": null,
      "grid_auto_flow": null,
      "grid_auto_rows": null,
      "grid_column": null,
      "grid_gap": null,
      "grid_row": null,
      "grid_template_areas": null,
      "grid_template_columns": null,
      "grid_template_rows": null,
      "height": null,
      "justify_content": null,
      "justify_items": null,
      "left": null,
      "margin": null,
      "max_height": null,
      "max_width": null,
      "min_height": null,
      "min_width": null,
      "object_fit": null,
      "object_position": null,
      "order": null,
      "overflow": null,
      "overflow_x": null,
      "overflow_y": null,
      "padding": null,
      "right": null,
      "top": null,
      "visibility": null,
      "width": null
     }
    },
    "e73a7084321e46cf9fe6cedd146c156c": {
     "model_module": "@jupyter-widgets/controls",
     "model_module_version": "1.5.0",
     "model_name": "FloatProgressModel",
     "state": {
      "_dom_classes": [],
      "_model_module": "@jupyter-widgets/controls",
      "_model_module_version": "1.5.0",
      "_model_name": "FloatProgressModel",
      "_view_count": null,
      "_view_module": "@jupyter-widgets/controls",
      "_view_module_version": "1.5.0",
      "_view_name": "ProgressView",
      "bar_style": "success",
      "description": "",
      "description_tooltip": null,
      "layout": "IPY_MODEL_531170edbc4c4dfca1874df309b2d9b2",
      "max": 6,
      "min": 0,
      "orientation": "horizontal",
      "style": "IPY_MODEL_5085dcf3a3b240d6b007f1378b2373a7",
      "value": 6
     }
    },
    "e78a324893ca4cd58af3bcbd24c50770": {
     "model_module": "@jupyter-widgets/controls",
     "model_module_version": "1.5.0",
     "model_name": "HTMLModel",
     "state": {
      "_dom_classes": [],
      "_model_module": "@jupyter-widgets/controls",
      "_model_module_version": "1.5.0",
      "_model_name": "HTMLModel",
      "_view_count": null,
      "_view_module": "@jupyter-widgets/controls",
      "_view_module_version": "1.5.0",
      "_view_name": "HTMLView",
      "description": "",
      "description_tooltip": null,
      "layout": "IPY_MODEL_55474fd39a5d494daabacd628415f1ae",
      "placeholder": "​",
      "style": "IPY_MODEL_8733268a527c4f86a41917d9feed6b0c",
      "value": " 6/6 [00:00&lt;00:00, 86.33it/s]"
     }
    },
    "ea6dff22e16f4e879b0b36406a109b32": {
     "model_module": "@jupyter-widgets/base",
     "model_module_version": "1.2.0",
     "model_name": "LayoutModel",
     "state": {
      "_model_module": "@jupyter-widgets/base",
      "_model_module_version": "1.2.0",
      "_model_name": "LayoutModel",
      "_view_count": null,
      "_view_module": "@jupyter-widgets/base",
      "_view_module_version": "1.2.0",
      "_view_name": "LayoutView",
      "align_content": null,
      "align_items": null,
      "align_self": null,
      "border": null,
      "bottom": null,
      "display": null,
      "flex": null,
      "flex_flow": null,
      "grid_area": null,
      "grid_auto_columns": null,
      "grid_auto_flow": null,
      "grid_auto_rows": null,
      "grid_column": null,
      "grid_gap": null,
      "grid_row": null,
      "grid_template_areas": null,
      "grid_template_columns": null,
      "grid_template_rows": null,
      "height": null,
      "justify_content": null,
      "justify_items": null,
      "left": null,
      "margin": null,
      "max_height": null,
      "max_width": null,
      "min_height": null,
      "min_width": null,
      "object_fit": null,
      "object_position": null,
      "order": null,
      "overflow": null,
      "overflow_x": null,
      "overflow_y": null,
      "padding": null,
      "right": null,
      "top": null,
      "visibility": null,
      "width": null
     }
    },
    "ea95e3fe3c6f498983d89362582a27e9": {
     "model_module": "@jupyter-widgets/controls",
     "model_module_version": "1.5.0",
     "model_name": "HBoxModel",
     "state": {
      "_dom_classes": [],
      "_model_module": "@jupyter-widgets/controls",
      "_model_module_version": "1.5.0",
      "_model_name": "HBoxModel",
      "_view_count": null,
      "_view_module": "@jupyter-widgets/controls",
      "_view_module_version": "1.5.0",
      "_view_name": "HBoxView",
      "box_style": "",
      "children": [
       "IPY_MODEL_304e39b96ed44ad6993f4a06f3770574",
       "IPY_MODEL_8a05043b3add4dd4a8b52e779df076ae",
       "IPY_MODEL_b80abcf64e034d86b97ca669ce04d1d5"
      ],
      "layout": "IPY_MODEL_0dc88f1039954534a16e190991359e43"
     }
    },
    "eb84ed5e28bf4cf586a8979419b2d118": {
     "model_module": "@jupyter-widgets/base",
     "model_module_version": "1.2.0",
     "model_name": "LayoutModel",
     "state": {
      "_model_module": "@jupyter-widgets/base",
      "_model_module_version": "1.2.0",
      "_model_name": "LayoutModel",
      "_view_count": null,
      "_view_module": "@jupyter-widgets/base",
      "_view_module_version": "1.2.0",
      "_view_name": "LayoutView",
      "align_content": null,
      "align_items": null,
      "align_self": null,
      "border": null,
      "bottom": null,
      "display": null,
      "flex": null,
      "flex_flow": null,
      "grid_area": null,
      "grid_auto_columns": null,
      "grid_auto_flow": null,
      "grid_auto_rows": null,
      "grid_column": null,
      "grid_gap": null,
      "grid_row": null,
      "grid_template_areas": null,
      "grid_template_columns": null,
      "grid_template_rows": null,
      "height": null,
      "justify_content": null,
      "justify_items": null,
      "left": null,
      "margin": null,
      "max_height": null,
      "max_width": null,
      "min_height": null,
      "min_width": null,
      "object_fit": null,
      "object_position": null,
      "order": null,
      "overflow": null,
      "overflow_x": null,
      "overflow_y": null,
      "padding": null,
      "right": null,
      "top": null,
      "visibility": null,
      "width": null
     }
    },
    "f1d08c6ae4594d9fbe4126ffdaa3f157": {
     "model_module": "@jupyter-widgets/controls",
     "model_module_version": "1.5.0",
     "model_name": "DescriptionStyleModel",
     "state": {
      "_model_module": "@jupyter-widgets/controls",
      "_model_module_version": "1.5.0",
      "_model_name": "DescriptionStyleModel",
      "_view_count": null,
      "_view_module": "@jupyter-widgets/base",
      "_view_module_version": "1.2.0",
      "_view_name": "StyleView",
      "description_width": ""
     }
    },
    "fa5e193810d848dfa3432bc1d65769f1": {
     "model_module": "@jupyter-widgets/controls",
     "model_module_version": "1.5.0",
     "model_name": "DescriptionStyleModel",
     "state": {
      "_model_module": "@jupyter-widgets/controls",
      "_model_module_version": "1.5.0",
      "_model_name": "DescriptionStyleModel",
      "_view_count": null,
      "_view_module": "@jupyter-widgets/base",
      "_view_module_version": "1.2.0",
      "_view_name": "StyleView",
      "description_width": ""
     }
    },
    "fc37392e47434900963ab82e40c58f7b": {
     "model_module": "@jupyter-widgets/controls",
     "model_module_version": "1.5.0",
     "model_name": "ProgressStyleModel",
     "state": {
      "_model_module": "@jupyter-widgets/controls",
      "_model_module_version": "1.5.0",
      "_model_name": "ProgressStyleModel",
      "_view_count": null,
      "_view_module": "@jupyter-widgets/base",
      "_view_module_version": "1.2.0",
      "_view_name": "StyleView",
      "bar_color": null,
      "description_width": ""
     }
    },
    "fe2f91230168428f92aec5d042bdb8a3": {
     "model_module": "@jupyter-widgets/base",
     "model_module_version": "1.2.0",
     "model_name": "LayoutModel",
     "state": {
      "_model_module": "@jupyter-widgets/base",
      "_model_module_version": "1.2.0",
      "_model_name": "LayoutModel",
      "_view_count": null,
      "_view_module": "@jupyter-widgets/base",
      "_view_module_version": "1.2.0",
      "_view_name": "LayoutView",
      "align_content": null,
      "align_items": null,
      "align_self": null,
      "border": null,
      "bottom": null,
      "display": null,
      "flex": null,
      "flex_flow": null,
      "grid_area": null,
      "grid_auto_columns": null,
      "grid_auto_flow": null,
      "grid_auto_rows": null,
      "grid_column": null,
      "grid_gap": null,
      "grid_row": null,
      "grid_template_areas": null,
      "grid_template_columns": null,
      "grid_template_rows": null,
      "height": null,
      "justify_content": null,
      "justify_items": null,
      "left": null,
      "margin": null,
      "max_height": null,
      "max_width": null,
      "min_height": null,
      "min_width": null,
      "object_fit": null,
      "object_position": null,
      "order": null,
      "overflow": null,
      "overflow_x": null,
      "overflow_y": null,
      "padding": null,
      "right": null,
      "top": null,
      "visibility": null,
      "width": null
     }
    },
    "fe98d69fd7894c84be1212c88bd30900": {
     "model_module": "@jupyter-widgets/controls",
     "model_module_version": "1.5.0",
     "model_name": "DescriptionStyleModel",
     "state": {
      "_model_module": "@jupyter-widgets/controls",
      "_model_module_version": "1.5.0",
      "_model_name": "DescriptionStyleModel",
      "_view_count": null,
      "_view_module": "@jupyter-widgets/base",
      "_view_module_version": "1.2.0",
      "_view_name": "StyleView",
      "description_width": ""
     }
    }
   }
  }
 },
 "nbformat": 4,
 "nbformat_minor": 1
}
